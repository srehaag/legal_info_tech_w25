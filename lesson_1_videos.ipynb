{
  "cells": [
    {
      "cell_type": "markdown",
      "metadata": {
        "id": "view-in-github",
        "colab_type": "text"
      },
      "source": [
        "<a href=\"https://colab.research.google.com/github/srehaag/legal_info_tech_w25/blob/main/lesson_1_videos.ipynb\" target=\"_parent\"><img src=\"https://colab.research.google.com/assets/colab-badge.svg\" alt=\"Open In Colab\"/></a>"
      ]
    },
    {
      "cell_type": "markdown",
      "metadata": {
        "id": "nGan_uwA8bRl"
      },
      "source": [
        "### Comments"
      ]
    },
    {
      "cell_type": "markdown",
      "metadata": {
        "id": "z5xHD3cf8bRm"
      },
      "source": [
        "# Notebook for Lesson 1 Videos: Introduction to Python"
      ]
    },
    {
      "cell_type": "code",
      "execution_count": null,
      "metadata": {
        "id": "nYdh5s038bRm",
        "outputId": "31fe0bea-a4af-4660-996b-18e015b50e24"
      },
      "outputs": [
        {
          "name": "stdout",
          "output_type": "stream",
          "text": [
            "Hello World\n"
          ]
        }
      ],
      "source": [
        "print(\"Hello World\")  # This is a comment\n"
      ]
    },
    {
      "cell_type": "markdown",
      "metadata": {
        "id": "CK4EBQ9r8bRm"
      },
      "source": [
        "### Strings"
      ]
    },
    {
      "cell_type": "code",
      "execution_count": null,
      "metadata": {
        "id": "m_0ht0bx8bRm",
        "outputId": "94c55a6f-fce7-4e4c-d2a9-ec66252ad4c6"
      },
      "outputs": [
        {
          "name": "stdout",
          "output_type": "stream",
          "text": [
            "Canada (Minister of Citizenship and Immigration) \n",
            "2019 SCC 65\n"
          ]
        },
        {
          "data": {
            "text/plain": [
              "'citation: Canada (Minister of Citizenship and Immigration) v Vavilov, 2019 SCC 65'"
            ]
          },
          "execution_count": 15,
          "metadata": {},
          "output_type": "execute_result"
        }
      ],
      "source": [
        "# Citation: Canada (Minister of Citizenship and Immigration) v Vavilov, 2019 SCC 65\n",
        "\n",
        "applicant = \"Canada (Minister of Citizenship and Immigration)\"\n",
        "respondent = \"Vavilov\"\n",
        "neutral_citation = \"2019 SCC 65\"\n",
        "\n",
        "citation = applicant + \" v \" + respondent + \", \" + neutral_citation\n",
        "\n",
        "citation\n",
        "\n",
        "full_citation = '''\n",
        "Canada (Minister of Citizenship and Immigration) v Vavilov\n",
        "2019 SCC 65\n",
        "'''\n",
        "full_citation = \"Canada (Minister of Citizenship and Immigration) \\n2019 SCC 65\"\n",
        "\n",
        "print(full_citation)\n",
        "\n",
        "citation = f\"{applicant} v {respondent}, {neutral_citation}\"\n",
        "citation\n",
        "\n"
      ]
    },
    {
      "cell_type": "markdown",
      "metadata": {
        "id": "C3dnp_mY8bRn"
      },
      "source": [
        "### Integers & Floats"
      ]
    },
    {
      "cell_type": "code",
      "execution_count": null,
      "metadata": {
        "id": "44XyQccl8bRn"
      },
      "outputs": [],
      "source": [
        "year = 2024\n",
        "pi = 3.141592653589793238462643383279502884197169399375105820974944592307816406286\n",
        "\n",
        "last_year = year - 1\n",
        "\n",
        "year = \"2024\"\n",
        "\n",
        "last_year = int(year) - 1"
      ]
    },
    {
      "cell_type": "markdown",
      "metadata": {
        "id": "_dgH6Z1Z8bRn"
      },
      "source": [
        "### Boolean"
      ]
    },
    {
      "cell_type": "code",
      "execution_count": null,
      "metadata": {
        "id": "P0PeWKXm8bRn",
        "outputId": "d860aa54-a520-4b82-c3c3-04893f58b252"
      },
      "outputs": [
        {
          "name": "stdout",
          "output_type": "stream",
          "text": [
            "It is 2023\n"
          ]
        }
      ],
      "source": [
        "year_is_2024 = False\n",
        "year_is_2023 = True\n",
        "\n",
        "if year_is_2024:\n",
        "    print(\"It is 2024\")\n",
        "if year_is_2023:\n",
        "    print(\"It is 2023\")"
      ]
    },
    {
      "cell_type": "markdown",
      "metadata": {
        "id": "kz5Dmsbp8bRn"
      },
      "source": [
        "### Lists"
      ]
    },
    {
      "cell_type": "code",
      "execution_count": null,
      "metadata": {
        "id": "uMYjuWPP8bRn",
        "outputId": "4dbc9844-260d-4ef5-fc1c-d273207f91ed"
      },
      "outputs": [
        {
          "data": {
            "text/plain": [
              "[1, 2, 3, 4, 5, 6, 7, 8, 9, 10]"
            ]
          },
          "execution_count": 48,
          "metadata": {},
          "output_type": "execute_result"
        }
      ],
      "source": [
        "court_ids = [\"scc\", \"fca\", \"tcc\"]\n",
        "SCC = \"scc\"\n",
        "FCA = \"fca\"\n",
        "TCC = \"tcc\"\n",
        "court_ids = [SCC, FCA, TCC]\n",
        "court_ids[-1]\n",
        "one_to_10 = list(range(1,11))\n",
        "one_to_10\n"
      ]
    },
    {
      "cell_type": "markdown",
      "metadata": {
        "id": "yP7fGYLL8bRn"
      },
      "source": [
        "### Dictionaries"
      ]
    },
    {
      "cell_type": "code",
      "execution_count": null,
      "metadata": {
        "id": "zfzAB-aP8bRn",
        "outputId": "e8890760-3139-40df-8729-6d7d7a5a303a"
      },
      "outputs": [
        {
          "data": {
            "text/plain": [
              "'2021 SCC 32'"
            ]
          },
          "execution_count": 20,
          "metadata": {},
          "output_type": "execute_result"
        }
      ],
      "source": [
        "# Citation: Canada (Minister of Citizenship and Immigration) v Vavilov, 2019 SCC 65\n",
        "# Citation: Canadian Council for Refugees v. Canada (Citizenship and Immigration), 2023 SCC 17\n",
        "# York University v. Canadian Copyright Licensing Agency (Access Copyright), 2021 SCC 32\n",
        "\n",
        "citations = {\"case_name\": \"Canada (Minister of Citizenship and Immigration) v Vavilov\", \"neutral_citation\": \"2019 SCC 65\"}\n",
        "\n",
        "citations = [\n",
        "   {\"case_name\": \"Canada (Minister of Citizenship and Immigration) v Vavilov\", \"neutral_citation\": \"2019 SCC 65\"},\n",
        "   {\"case_name\": \"Canadian Council for Refugees v. Canada (Citizenship and Immigration)\", \"neutral_citation\": \"2023 SCC 17\"},\n",
        "   {\"case_name\": \"York University v. Canadian Copyright Licensing Agency\",\"neutral_citation\": \"2021 SCC 32\"}\n",
        "]\n",
        "citations[-1][\"neutral_citation\"]"
      ]
    },
    {
      "cell_type": "markdown",
      "metadata": {
        "id": "xqLJmtzs8bRn"
      },
      "source": [
        "### Conditions"
      ]
    },
    {
      "cell_type": "code",
      "execution_count": null,
      "metadata": {
        "id": "tqmNr3zZ8bRn",
        "outputId": "cf31a0cd-db02-4d15-92b5-c3c0c1e3d5a6"
      },
      "outputs": [
        {
          "name": "stdout",
          "output_type": "stream",
          "text": [
            "A is not equal to B or C\n",
            "A is equal to B\n",
            "Great!\n",
            "A does not contain the letter a\n",
            "It is not 2023\n"
          ]
        }
      ],
      "source": [
        "# ==, !=, <, >, <=, >=, in, not in\n",
        "\n",
        "A = 10\n",
        "B = 20\n",
        "C = 15\n",
        "\n",
        "if A == B:\n",
        "    print(\"A is equal to B\")\n",
        "    print (\"Great!\")\n",
        "elif A == C:\n",
        "    print(\"A is equal to C\")\n",
        "else:\n",
        "    print(\"A is not equal to B or C\")\n",
        "\n",
        "A = \"abc\"\n",
        "B = \"abc\"\n",
        "\n",
        "if A == B:\n",
        "    print(\"A is equal to B\")\n",
        "    print (\"Great!\")\n",
        "else:\n",
        "    print(\"A is not equal to B\")\n",
        "\n",
        "A = \"def\"\n",
        "\n",
        "if \"a\" not in A:\n",
        "    print(\"A does not contain the letter a\")\n",
        "else:\n",
        "    print(\"A does contain the letter a\")\n",
        "\n",
        "year_is_2023 = False\n",
        "\n",
        "if year_is_2023:\n",
        "    print(\"It is 2023\")\n",
        "else:\n",
        "    print(\"It is not 2023\")\n",
        "\n",
        "\n",
        "\n"
      ]
    },
    {
      "cell_type": "markdown",
      "metadata": {
        "id": "j_RvLQu58bRo"
      },
      "source": [
        "### Loops"
      ]
    },
    {
      "cell_type": "code",
      "execution_count": null,
      "metadata": {
        "id": "wT9JBI3b8bRo",
        "outputId": "e8906909-92fa-4c91-b15d-f2f5af5cfe58"
      },
      "outputs": [
        {
          "name": "stdout",
          "output_type": "stream",
          "text": [
            "1\n",
            "\n",
            "2\n",
            "\n",
            "3\n",
            "\n",
            "4\n",
            "\n",
            "5\n",
            "\n",
            "Done\n"
          ]
        }
      ],
      "source": [
        "list_of_numbers = [1,2,3,4,5]\n",
        "\n",
        "for number in list_of_numbers:\n",
        "    print(number)\n",
        "    print()\n",
        "\n",
        "print(\"Done\")"
      ]
    },
    {
      "cell_type": "code",
      "execution_count": null,
      "metadata": {
        "id": "MahHuExh8bRo",
        "outputId": "4a724b9c-4abe-44f1-9551-48a3fe29d4b3"
      },
      "outputs": [
        {
          "name": "stdout",
          "output_type": "stream",
          "text": [
            "0\n",
            "1\n",
            "2\n",
            "3\n",
            "4\n",
            "5\n",
            "6\n",
            "7\n",
            "8\n",
            "9\n"
          ]
        }
      ],
      "source": [
        "list_of_numbers = list(range(10))\n",
        "\n",
        "for x in list_of_numbers:\n",
        "    print(x)"
      ]
    },
    {
      "cell_type": "code",
      "execution_count": null,
      "metadata": {
        "id": "KFEgwe8u8bRo",
        "outputId": "11ea961c-fe6d-47af-8230-ae83d5b0db10"
      },
      "outputs": [
        {
          "name": "stdout",
          "output_type": "stream",
          "text": [
            "0\n",
            "1\n",
            "2\n",
            "3\n",
            "4\n",
            "5\n",
            "6\n",
            "7\n",
            "8\n",
            "9\n"
          ]
        }
      ],
      "source": [
        "for x in range(10):\n",
        "    print(x)"
      ]
    },
    {
      "cell_type": "code",
      "execution_count": null,
      "metadata": {
        "id": "Vl_SpLcE8bRo",
        "outputId": "a1626ab5-bab4-428a-f955-f79ce65f1fad"
      },
      "outputs": [
        {
          "name": "stdout",
          "output_type": "stream",
          "text": [
            "scc is a court in Ottawa\n",
            "fca is a court in Ottawa\n",
            "tcc is a court in Ottawa\n"
          ]
        }
      ],
      "source": [
        "court_ids\n",
        "\n",
        "for court_id in court_ids:\n",
        "    print(court_id + \" is a court in Ottawa\")"
      ]
    },
    {
      "cell_type": "markdown",
      "metadata": {
        "id": "ix_Rv1qn8bRo"
      },
      "source": [
        "### Functions"
      ]
    },
    {
      "cell_type": "code",
      "execution_count": null,
      "metadata": {
        "id": "qxHYuolS8bRo",
        "outputId": "d35d1dea-509d-46e8-98ed-da1d4368fae7"
      },
      "outputs": [
        {
          "name": "stdout",
          "output_type": "stream",
          "text": [
            "Hello\n",
            "\n",
            "World\n"
          ]
        }
      ],
      "source": [
        "print(\"Hello\")\n",
        "print()\n",
        "print(\"World\")"
      ]
    },
    {
      "cell_type": "code",
      "execution_count": null,
      "metadata": {
        "id": "_nvYslUi8bRo",
        "outputId": "cca991c8-79e0-4573-af86-7a1605a501cf"
      },
      "outputs": [
        {
          "name": "stdout",
          "output_type": "stream",
          "text": [
            "Hello Sean\n"
          ]
        }
      ],
      "source": [
        "name = input(\"What is your name? \")\n",
        "print(\"Hello \" + name)"
      ]
    },
    {
      "cell_type": "code",
      "execution_count": null,
      "metadata": {
        "id": "jU7rHIpO8bRo",
        "outputId": "e452fde2-f534-4ce4-ebce-41e3dec72df1"
      },
      "outputs": [
        {
          "name": "stdout",
          "output_type": "stream",
          "text": [
            "Hello Sean\n"
          ]
        }
      ],
      "source": [
        "def hello_user():\n",
        "    name = input(\"What is your name? \")\n",
        "    print(\"Hello \" + name)\n",
        "\n",
        "hello_user()"
      ]
    },
    {
      "cell_type": "code",
      "execution_count": null,
      "metadata": {
        "id": "q_2_kMVH8bRo"
      },
      "outputs": [],
      "source": [
        "def hello_user(name):\n",
        "    print(\"Hello \" + name)\n",
        "\n",
        "def get_user_name():\n",
        "    name = input(\"What is your name? \")\n",
        "    return name\n"
      ]
    },
    {
      "cell_type": "code",
      "execution_count": null,
      "metadata": {
        "id": "HEsZXf1L8bRo",
        "outputId": "02816008-0aab-4bea-a518-65625dd8312e"
      },
      "outputs": [
        {
          "name": "stdout",
          "output_type": "stream",
          "text": [
            "Hello Sean\n"
          ]
        }
      ],
      "source": [
        "name = get_user_name()\n",
        "hello_user(name)"
      ]
    },
    {
      "cell_type": "code",
      "execution_count": null,
      "metadata": {
        "id": "g-wzF_1k8bRo"
      },
      "outputs": [],
      "source": []
    }
  ],
  "metadata": {
    "kernelspec": {
      "display_name": "venv311",
      "language": "python",
      "name": "python3"
    },
    "language_info": {
      "codemirror_mode": {
        "name": "ipython",
        "version": 3
      },
      "file_extension": ".py",
      "mimetype": "text/x-python",
      "name": "python",
      "nbconvert_exporter": "python",
      "pygments_lexer": "ipython3",
      "version": "3.11.4"
    },
    "colab": {
      "provenance": [],
      "include_colab_link": true
    }
  },
  "nbformat": 4,
  "nbformat_minor": 0
}