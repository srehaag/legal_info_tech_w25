{
  "cells": [
    {
      "cell_type": "markdown",
      "metadata": {
        "id": "view-in-github",
        "colab_type": "text"
      },
      "source": [
        "<a href=\"https://colab.research.google.com/github/srehaag/legal_info_tech_w25/blob/main/Module3_Assignment_w25.ipynb\" target=\"_parent\"><img src=\"https://colab.research.google.com/assets/colab-badge.svg\" alt=\"Open In Colab\"/></a>"
      ]
    },
    {
      "cell_type": "markdown",
      "metadata": {
        "id": "BqEVxvSlFfL9"
      },
      "source": [
        "\n",
        "# Module 3: Assignment\n",
        "\n",
        "### Instructions\n",
        "\n",
        "Everyone should attempt to complete the beginner section. If you are interested you can continue to intermediate and advanced. Whether you choose to go beyond the beginner section will not affect your participation grade, but some of the skills you learn (or relearn) may be helpful for your final project for the course.\n",
        "\n",
        "In addition, everyone should complete the final *two* sections (a reflection section and an OpenAI signup)\n",
        "\n",
        "Combined, the lesson and assignment should not take you more than three hours -- so if you get to that point, just move on to the reflective section.\n",
        "\n",
        "When you have finished, upload a copy of the .ipynb file to the eClass assignment page."
      ]
    },
    {
      "cell_type": "markdown",
      "metadata": {
        "id": "7q-hQ4EDFfL-"
      },
      "source": [
        "### Beginner Question 1:\n",
        "\n",
        "Using the [FCA dataset](https://huggingface.co/datasets/refugee-law-lab/canadian-legal-data) from the Refugee Law Lab, print the names of the five most recent Federal Court of Appeal cases in the dataset."
      ]
    },
    {
      "cell_type": "code",
      "execution_count": null,
      "metadata": {
        "id": "b-Su9mAwFfL-"
      },
      "outputs": [],
      "source": [
        "!pip install datasets\n",
        "from datasets import load_dataset\n",
        "dataset = load_dataset(\"refugee-law-lab/canadian-legal-data\", split=\"train\", data_dir=\"FCA\")\n",
        "\n",
        "import pandas as pd\n",
        "df = pd.DataFrame(dataset)"
      ]
    },
    {
      "cell_type": "code",
      "execution_count": null,
      "metadata": {
        "id": "asyAWotSFfL-"
      },
      "outputs": [],
      "source": []
    },
    {
      "cell_type": "markdown",
      "metadata": {
        "id": "llmlqEnzFfL-"
      },
      "source": [
        "### Beginner Question 2:\n",
        "\n",
        "Using the [FCA dataset](https://huggingface.co/datasets/refugee-law-lab/canadian-legal-data) from the Refugee Law Lab, make a line chart with the average number FCA decisions per year over the past 10 years."
      ]
    },
    {
      "cell_type": "code",
      "execution_count": null,
      "metadata": {
        "id": "1f5p5PadFfL-"
      },
      "outputs": [],
      "source": []
    },
    {
      "cell_type": "markdown",
      "metadata": {
        "id": "FQtAN8CmFfL_"
      },
      "source": [
        "### Beginner Question 3:\n",
        "\n",
        "Using the Refugee Law Lab's [Canadian Legal Data](https://huggingface.co/datasets/refugee-law-lab/canadian-legal-data) dataset, pick two courts/tribunals, and create line charts for the number of words per decision per year for the past ten years for each of the two courts/tribunals. What is the most interesting change over this time that you observe?\n"
      ]
    },
    {
      "cell_type": "code",
      "execution_count": null,
      "metadata": {
        "id": "dt-xS4VkFfL-"
      },
      "outputs": [],
      "source": []
    },
    {
      "cell_type": "markdown",
      "metadata": {
        "id": "uUHV-t5IFfL_"
      },
      "source": [
        "### Intermediate Question 1:\n",
        "\n",
        "Using the [FC (Federal Court) dataset](https://huggingface.co/datasets/refugee-law-lab/canadian-legal-data) from the Refugee Law Lab, print the names of the ten Supreme Court cases that have most frequently been cited by the Federal Court over the past 10 years.\n",
        "\n",
        "Hint: neutral citations follow specific patterns (e.g. YYYY SCC #)."
      ]
    },
    {
      "cell_type": "code",
      "execution_count": null,
      "metadata": {
        "id": "FlgCjVQHFfL_"
      },
      "outputs": [],
      "source": []
    },
    {
      "cell_type": "markdown",
      "metadata": {
        "id": "1y9HLNeIFfL-"
      },
      "source": [
        "### Intermediate Question 2:\n",
        "\n",
        "Load into a dataframe the excel data that reports tabular data about Supreme Court of Canada decisions discussed in the Module 2 videos available at this URL:\n",
        "\n",
        "    https://litigate.com/assets/uploads/20230823-140809-6601-SCC-Database-v-2023.01.xlsx\n",
        "\n",
        "For the meaning of the values of codes in the excel data, see the coding manual [here](https://litigate.com/assets/uploads/20220216-111705-4622-Lenczner-Slaght-Supreme-Court-of-Canada-Database-Coding-Manual-v-2022.01.pdf).\n",
        "\n",
        "Print a list the names of the 5 judges who wrote the largest number of majority opinions in the dataset, and then print a bar chart with their names and the number of majority opinions in the dataset that each of them wrote.\n",
        "\n",
        "Do you have any theories as to why these 5 judges in particular wrote the largest number of majority opinions?"
      ]
    },
    {
      "cell_type": "code",
      "execution_count": null,
      "metadata": {
        "id": "BJS16OHiFfL_"
      },
      "outputs": [],
      "source": []
    },
    {
      "cell_type": "markdown",
      "metadata": {
        "id": "3MZOB8DMFfL_"
      },
      "source": [
        "### Advanced Question 1:\n",
        "\n",
        "Using the datasets for Intermediate Questions 1 and 2, print out the names of the 10 Supreme Court judges with the most citations by the Federal Court since 2010. For simplicity, assume that when a case is cited by the Federal Court, the Federal Court is citing the majority opinion."
      ]
    },
    {
      "cell_type": "code",
      "execution_count": null,
      "metadata": {
        "id": "q-rAyN8TFfL_"
      },
      "outputs": [],
      "source": []
    },
    {
      "cell_type": "markdown",
      "metadata": {
        "id": "RZNeJlbLFfL_"
      },
      "source": [
        "### Everone: Question 1\n",
        "\n",
        "If you do not already have an OpenAI API account to access generative AI models via their API, please get one here: https://platform.openai.com/\n",
        "\n",
        "Note that this is not the same as the account you may use to access the ChatGPT web interface (you can use the same email for both if you do have one, but they are separate accounts).\n",
        "\n",
        "Unless you already know what you are doing, please do not use the API yet as you may incur charges per use. Instructions will be provided next week about how to use the API.\n",
        "\n",
        "While you may be able to sign up without a credit card, your ability to access high quality models will be limited unless you add a prepaid amount to your account, so I recommend adding a prepaid amount. The minimum amount that you can load into the account is $5 (which will be more than enough for module 4). This is a pay per use service, so there aren't any monthly fees.\n",
        "\n",
        "If you have successfully signed up (or if you already had an account and you have verified that you are able to access it), please indicate that in the markdown cell below.\n",
        "\n",
        "If the $5 poses a barrier to you, please reach out to me (srehaag@osgoode.yorku.ca) to request a grant from the Refugee Law Laboratory. In doing so, please use the subject line: \"Legal Info Tech: Grant requested\", and please include an email address that can be used for an e-transfer.\n",
        "\n",
        "If for whatever reason you would prefer not to sign up for OpenAI (privacy, ethical objections to OpenAI, etc), please indicate that in the markdown cell, and indicate your level of coding experience (beginner, intermediate, advanced) so that I can try to find alternatives."
      ]
    },
    {
      "cell_type": "markdown",
      "metadata": {
        "id": "g5TfrXD-FfL_"
      },
      "source": []
    },
    {
      "cell_type": "markdown",
      "metadata": {
        "id": "g-YgvlioFfL_"
      },
      "source": [
        "### Everyone: Question 2\n",
        "\n",
        "If you did not watch the video \"Looking Forward: Generative AI\" as part of Module 3, please watch it now. Based on the video, and based on other knoweldge you may have about AI, describe an idea you would like to test out involving generative AI and legal data / access to justice."
      ]
    },
    {
      "cell_type": "markdown",
      "metadata": {
        "id": "842LMBf1FfL_"
      },
      "source": []
    }
  ],
  "metadata": {
    "kernelspec": {
      "display_name": "venv",
      "language": "python",
      "name": "python3"
    },
    "language_info": {
      "codemirror_mode": {
        "name": "ipython",
        "version": 3
      },
      "file_extension": ".py",
      "mimetype": "text/x-python",
      "name": "python",
      "nbconvert_exporter": "python",
      "pygments_lexer": "ipython3",
      "version": "3.11.4"
    },
    "colab": {
      "provenance": [],
      "include_colab_link": true
    }
  },
  "nbformat": 4,
  "nbformat_minor": 0
}