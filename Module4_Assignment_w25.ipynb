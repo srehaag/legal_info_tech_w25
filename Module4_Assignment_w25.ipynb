{
  "cells": [
    {
      "cell_type": "markdown",
      "metadata": {
        "id": "view-in-github",
        "colab_type": "text"
      },
      "source": [
        "<a href=\"https://colab.research.google.com/github/srehaag/legal_info_tech_w25/blob/main/Module4_Assignment_w25.ipynb\" target=\"_parent\"><img src=\"https://colab.research.google.com/assets/colab-badge.svg\" alt=\"Open In Colab\"/></a>"
      ]
    },
    {
      "cell_type": "markdown",
      "metadata": {
        "id": "85tFfNSWCBEr"
      },
      "source": [
        "# Module 4 Assignment"
      ]
    },
    {
      "cell_type": "markdown",
      "metadata": {
        "id": "tTEZLIGnCBEr"
      },
      "source": [
        "### Instructions\n",
        "\n",
        "Everyone should attempt to complete the beginner section. If you are interested you can continue to intermediate and advanced. Whether you choose to go beyond the beginner section will not affect your participation grade, but some of the skills you learn (or relearn) may be helpful for your final project for the course.\n",
        "\n",
        "In addition, everyone should complete the final reflective section.\n",
        "\n",
        "Combined, the lesson and assignment should not take you more than three hours -- so if you get to that point, just move on to the reflective section.\n",
        "\n",
        "When you have finished, upload a copy of the .ipynb file to the eClass assignment page."
      ]
    },
    {
      "cell_type": "markdown",
      "metadata": {
        "id": "ahACM1auCBEr"
      },
      "source": [
        "### Everyone (if you are using OpenAI):\n",
        "\n",
        "Log into the OpenAI [platform](https://platform.openai.com/). View the limits page at this [link](https://platform.openai.com/account/limits) directly, or access via menu, settings, limits.\n",
        "\n",
        "If you see a message saying \"You must be on a paid plan to manage usage limits\", and another message saying \"Current Tier: Free\" then that means that you do not have access to the models that we are using in this course. Please follow the link to billing and add 5 dollars to your account (see earlier assignment for options to secure a 5 dollar grant from the Refugee Law Lab if the 5 dollars poses a barrier to participation for you). Please also ensure that auto recharge is set to off. Then return to the limits page.\n",
        "\n",
        "If you see on option to set a monthly budget limit and an email notification threshold, and if another message says \"Current Tier: Tier 1\" (or higher), then you are on a paid plan. In that case please set a monthly limit (make that limit something low like 5 or 10 dollars, as you can always reset it higher and this will stop you from incurring unexpected expenses).\n",
        "\n",
        "In addition to setting the budget limits, the same page will also show you the rate limits that apply to your account. These will show you: which models you have access to, the number of tokens that you are allowed to send per minute, and the number of requests that you are able to send per minute. The consequence of going beyond the rate limits is just that the system will respond with an error message.\n",
        "\n",
        "You can find additional information about pricing [here](https://openai.com/api/pricing/) and about rate limits [here](https://platform.openai.com/docs/guides/rate-limits). Note that the API does not have a monthly fee. You only pay for usage. The assignment for this module can be completed for (far) less than the $5 minimum credits.\n",
        "\n",
        "Once you have confirmed that you have set budget limits and auto recharge is off, indicate that below.\n",
        "\n",
        "*NOTE: if you requested alternatives to OpenAI in your submitted assignment for Module 3, you can skip this question.*"
      ]
    },
    {
      "cell_type": "markdown",
      "metadata": {
        "id": "X6Ixeka1CBEs"
      },
      "source": []
    },
    {
      "cell_type": "markdown",
      "metadata": {
        "id": "lT60ZWuHCBEs"
      },
      "source": [
        "### Beginner Question 2\n",
        "\n",
        "Go to OpenAI's platform (log in and select API) here:\n",
        "\n",
        "https://platform.openai.com/playground\n",
        "\n",
        "Select Chat mode.\n",
        "\n",
        "Try asking the system a legal question that arises from one of your other courses. See how the answer compares using different models. See if anything changes when you change the system message. See if anything changes when you change the temperature.\n",
        "\n",
        "Based on this experimentation, if you wanted to use the system to help answer questions from your courses, what settings and system message would you use and why?\n",
        "\n",
        "*NOTE: If you requested alternatives to OpenAI in your submitted assignment for Module 3, try instead working with Microsoft's [Bing AI](https://www.bing.com/search?q=Bing+AI&showconv=1), and try adjusting the conversation style -- or alternatively experiment with another online generative AI system of your choice.*"
      ]
    },
    {
      "cell_type": "markdown",
      "metadata": {
        "id": "qQBFLw28CBEs"
      },
      "source": [
        "Response:"
      ]
    },
    {
      "cell_type": "markdown",
      "metadata": {
        "id": "p46AzhB0CBEs"
      },
      "source": [
        "### Beginner Question 3\n",
        "\n",
        "Using the best settings you were able to come up with in the playground select one example of a legal question and use Python to:\n",
        "\n",
        "(a) print the number of input tokens in the example\n",
        "\n",
        "(b) calculate and print the cost of sending those tokens to the OpenAI api\n",
        "\n",
        "(c) send the example (using the settings that you used in the playground for Beginner Question 2) to the OpenAI api and print the result\n",
        "\n",
        "*NOTE: If you requested alternatives to OpenAI in your submitted assignment for Module 3, here is an alternative  free open source system: https://huggingface.co/meta-llama/Llama-3.1-8B (Note that using this system requires more advanced coding skills)*"
      ]
    },
    {
      "cell_type": "code",
      "execution_count": null,
      "metadata": {
        "id": "z3iWVuKfCBEs"
      },
      "outputs": [],
      "source": []
    },
    {
      "cell_type": "markdown",
      "metadata": {
        "id": "ubrGx22dCBEs"
      },
      "source": [
        "### Beginner Question 4\n",
        "\n",
        "Using the dataset with SCC judge bios that can be loaded using the code below, create a few shot prompt (i.e. provide a few examples of inputs and outputs) to extract the judge's province of origin (if in bio), and apply that few shot prompt to the 10 most recent judicial appointments, put the results in the dataframe, and print the results for the 10 most recent judicial appointments.\n",
        "\n",
        "*NOTE: If you requested alternatives to OpenAI in your submitted assignment for Module 3, try using the same link as in the prior question to extract the judge's province of origin*"
      ]
    },
    {
      "cell_type": "code",
      "execution_count": null,
      "metadata": {
        "id": "c_hJYaZXCBEs"
      },
      "outputs": [],
      "source": [
        "import pandas as pd\n",
        "\n",
        "url = \"https://raw.githubusercontent.com/srehaag/legal_info_tech_w25/main/judges.json\"\n",
        "df = pd.read_json(url)\n",
        "df"
      ]
    },
    {
      "cell_type": "code",
      "execution_count": null,
      "metadata": {
        "id": "l0aNL5zDCBEs"
      },
      "outputs": [],
      "source": []
    },
    {
      "cell_type": "markdown",
      "metadata": {
        "id": "pEYhOSgGCBEt"
      },
      "source": [
        "### Intermediate Question 1\n",
        "\n",
        "The Ontario Ministry of Labour maintains a database of collective agreements. For example, the recent York University and CUPE Local 3903 collective agreement (2020-2023) is available here:\n",
        "\n",
        "https://ws.lr.labour.gov.on.ca/CA/doc/611-32365-23%20(805-0053)?library=Education%20and%20Related%20Services\n",
        "\n",
        "Create a local Retrieval Augmented Generation (RAG) application that:\n",
        "\n",
        "* Asks the user for a url for a collective agreement that they are interested in\n",
        "* Loads the text of the collective agreement at the URL\n",
        "* Splits the text into manageable text chunks\n",
        "* Creates embeddings for the chunks (I recommend using openAI's embeddings) and stores them in a vector store (I recommend using Chroma locally)\n",
        "* Allows the user to ask questions about the document using a generative AI model (I recommend using one of the openAI models), with the RAG system providing the most relevant chunks of the document for context.\n",
        "\n",
        "With that set up, have the user ask the system what percentage increase to salary is in the agreement, and print that output.\n",
        "\n",
        "Hint: I recommend using Langchain. There is a simple guide [here](https://python.langchain.com/docs/use_cases/question_answering/quickstart), but note that you will need to use a different langchain document loader."
      ]
    },
    {
      "cell_type": "code",
      "execution_count": null,
      "metadata": {
        "id": "4heMF0JOCBEt"
      },
      "outputs": [],
      "source": [
        "\n"
      ]
    },
    {
      "cell_type": "markdown",
      "metadata": {
        "id": "tBNDrBbhCBEs"
      },
      "source": [
        "### Advanced Question 1\n",
        "\n",
        "A guide to fine tuning on OpenAI's developer platform is available [here](https://platform.openai.com/docs/guides/fine-tuning/use-a-fine-tuned-model).\n",
        "\n",
        "[Legal Bench](https://hazyresearch.stanford.edu/legalbench/) is a project by several legal academics and computer scientists to create datasets and benchmarks for legal tasks completed by generative AI systems.\n",
        "\n",
        "One of the [tasks](https://hazyresearch.stanford.edu/legalbench/tasks/canada_tax_court_outcomes.html) involves categorizing outcomes from the text of Tax Court of Canada decisions.\n",
        "\n",
        "First, get the data on the canada_tax_court_outcomes task here: https://huggingface.co/datasets/nguha/legalbench\n",
        "\n",
        "Next, use 100 examples from that data to fine tune an OpenAI model. Then run that fine tuned model on 100 additional examples.\n",
        "\n",
        "What accuracy rates do you get?\n"
      ]
    },
    {
      "cell_type": "markdown",
      "metadata": {
        "id": "NXoReM1tCBEt"
      },
      "source": [
        "### Reflective Question:\n",
        "\n",
        "Please comment briefly on anything that you found interesting or challenging in completing this assignment."
      ]
    },
    {
      "cell_type": "markdown",
      "metadata": {
        "id": "gDpuJUt_CBEt"
      },
      "source": []
    }
  ],
  "metadata": {
    "kernelspec": {
      "display_name": "venv",
      "language": "python",
      "name": "python3"
    },
    "language_info": {
      "codemirror_mode": {
        "name": "ipython",
        "version": 3
      },
      "file_extension": ".py",
      "mimetype": "text/x-python",
      "name": "python",
      "nbconvert_exporter": "python",
      "pygments_lexer": "ipython3",
      "version": "3.11.4"
    },
    "colab": {
      "provenance": [],
      "include_colab_link": true
    }
  },
  "nbformat": 4,
  "nbformat_minor": 0
}