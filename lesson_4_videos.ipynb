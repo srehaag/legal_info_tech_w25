{
  "cells": [
    {
      "cell_type": "markdown",
      "metadata": {
        "id": "view-in-github",
        "colab_type": "text"
      },
      "source": [
        "<a href=\"https://colab.research.google.com/github/srehaag/legal_info_tech_w25/blob/main/lesson_4_videos.ipynb\" target=\"_parent\"><img src=\"https://colab.research.google.com/assets/colab-badge.svg\" alt=\"Open In Colab\"/></a>"
      ]
    },
    {
      "cell_type": "markdown",
      "metadata": {
        "id": "gAsPvAak5UPM"
      },
      "source": [
        "# Notebook for Lesson 4 Videos: Generative AI"
      ]
    },
    {
      "cell_type": "markdown",
      "metadata": {
        "id": "tPTpD18o5UPN"
      },
      "source": [
        "# Web Interfaces\n",
        "\n",
        "### ChatGPT (OpenAI) Web Interface\n",
        "\n",
        "https://chat.openai.com/\n",
        "\n",
        "### Bing AI (Copilot) Web Interface\n",
        "\n",
        "https://www.bing.com/search?q=Bing+AI&showconv=1\n",
        "\n",
        "\n",
        "### Gemini (Google) Web Interface (Not yet available in Canada)\n",
        "\n",
        "https://bard.google.com/\n",
        "\n",
        "### GPT2 (Open Source) Web Interface (via Huggingface)\n",
        "\n",
        "https://huggingface.co/openai-community/gpt2\n",
        "\n",
        "### BERT (Huggingface) Web Interface (simple masked inference only)\n",
        "\n",
        "https://huggingface.co/bert-base-uncased\n"
      ]
    },
    {
      "cell_type": "markdown",
      "metadata": {
        "id": "rlW2mV9U5UPN"
      },
      "source": [
        "# OpenAI API Platform\n",
        "\n",
        "### Platform:\n",
        "\n",
        "https://platform.openai.com\n",
        "\n",
        "### OpenAI Playground\n",
        "\n",
        "https://platform.openai.com/playground/chat?models=gpt-4o\n",
        "\n",
        "### OpenAI API Key\n",
        "\n",
        "https://platform.openai.com/settings/organization/api-keys\n",
        "\n",
        "### Pricing:\n",
        "\n",
        "https://openai.com/api/pricing/\n",
        "\n",
        "### Models:\n",
        "\n",
        "https://platform.openai.com/docs/models/overview"
      ]
    },
    {
      "cell_type": "markdown",
      "metadata": {
        "id": "9vZ4ecy85UPN"
      },
      "source": [
        "### Example from Playground"
      ]
    },
    {
      "cell_type": "code",
      "execution_count": null,
      "metadata": {
        "id": "jBrb7lzK5UPN"
      },
      "outputs": [],
      "source": [
        "# First need to set API Key as environment variable: See further below"
      ]
    },
    {
      "cell_type": "code",
      "execution_count": 4,
      "metadata": {
        "id": "YgCy4GSN5UPO",
        "outputId": "ee606096-e9c3-474e-d871-fa2c006181cb",
        "colab": {
          "base_uri": "https://localhost:8080/"
        }
      },
      "outputs": [
        {
          "output_type": "execute_result",
          "data": {
            "text/plain": [
              "ChatCompletion(id='chatcmpl-Aoxh3uuyaxbiWVPwaBt8RarXkFu3I', choices=[Choice(finish_reason='stop', index=0, logprobs=None, message=ChatCompletionMessage(content=\"(Verse 1)  \\nIn a Scottish café, long years ago,  \\nA bottle of ginger beer took the show,  \\nIn Paisley town, it all began,  \\nThe law of tort took the stage and ran.  \\n\\n(Pre-Chorus)  \\nA lady sat with a friend's delight,  \\nBut little did she know of her fateful plight,  \\nIn shadows deep, a snail did creep,  \\nIn that opaque bottle, it found a keep.  \\n\\n(Chorus)  \\nOh, Donoghue and Stevenson,  \\nThe duty of care was born,  \\nA principle that changed the world,  \\nIn common law, 'twas sworn.  \\n\\n(Verse 2)  \\nMay Donoghue took a sip and gasped,  \\nFor in her drink, a creature clasped,  \\nA tiny shell, a tale of woe,  \\nA manufacturer’s duty began to grow.  \\n\\n(Pre-Chorus)  \\nA claim of negligence found its start,  \\nIn that wee bottle, a beating heart,  \\nLord Atkin spoke with clarity,  \\nOf neighbourly responsibility.  \\n\\n(Chorus)  \\nOh, Donoghue and Stevenson,  \\nThe duty of care was born,  \\nA principle that changed the world,  \\nIn common law, 'twas sworn.  \\n\\n(Bridge)  \\nWho is my neighbour? The question resounds,  \\nIn acts of care, we all are bound,  \\nNot distant, nor far, in this legal bar,  \\nThe ripple of justice travels far.  \\n\\n(Verse 3)  \\nFrom snail in a bottle to rights anew,  \\nThe winds of change in justice blew,  \\nNo longer hidden 'neath cup or jar,  \\nNegligence claimed, from near and far.  \\n\\n(Chorus)  \\nOh, Donoghue and Stevenson,  \\nThe duty of care was born,  \\nA principle that changed the world,  \\nIn common law, 'twas sworn.  \\n\\n(Outro)  \\nIn every court, it echoes still,  \\nThe voice of justice, a powerful quill,  \\nFrom Paisley café to future brace,  \\nA timeless duty of care we embrace.  \", refusal=None, role='assistant', audio=None, function_call=None, tool_calls=None))], created=1736709225, model='gpt-4o-2024-08-06', object='chat.completion', service_tier='default', system_fingerprint='fp_703d4ff298', usage=CompletionUsage(completion_tokens=438, prompt_tokens=42, total_tokens=480, completion_tokens_details=CompletionTokensDetails(accepted_prediction_tokens=0, audio_tokens=0, reasoning_tokens=0, rejected_prediction_tokens=0), prompt_tokens_details=PromptTokensDetails(audio_tokens=0, cached_tokens=0)))"
            ]
          },
          "metadata": {},
          "execution_count": 4
        }
      ],
      "source": [
        "from openai import OpenAI\n",
        "client = OpenAI()\n",
        "\n",
        "response = client.chat.completions.create(\n",
        "  model=\"gpt-4o\",\n",
        "  messages=[\n",
        "    {\n",
        "      \"role\": \"system\",\n",
        "      \"content\": [\n",
        "        {\n",
        "          \"type\": \"text\",\n",
        "          \"text\": \"You are a poetic assistant to a law student. You take legal concepts and you turn them into creative poetry.\"\n",
        "        }\n",
        "      ]\n",
        "    },\n",
        "    {\n",
        "      \"role\": \"user\",\n",
        "      \"content\": [\n",
        "        {\n",
        "          \"type\": \"text\",\n",
        "          \"text\": \"Write song lyrics about Donoghue v Stevenson\"\n",
        "        }\n",
        "      ]\n",
        "    },\n",
        "  ],\n",
        "  response_format={\n",
        "    \"type\": \"text\"\n",
        "  },\n",
        "  temperature=1,\n",
        "  max_completion_tokens=2048,\n",
        "  top_p=1,\n",
        "  frequency_penalty=0,\n",
        "  presence_penalty=0\n",
        ")\n",
        "response\n",
        "\n"
      ]
    },
    {
      "cell_type": "markdown",
      "metadata": {
        "id": "6cb_AKiE5UPO"
      },
      "source": [
        "# Secrets (OpenAI API KEY)"
      ]
    },
    {
      "cell_type": "markdown",
      "metadata": {
        "id": "hR3Asj3M5UPO"
      },
      "source": [
        "### Secrets in Colab"
      ]
    },
    {
      "cell_type": "code",
      "execution_count": 1,
      "metadata": {
        "id": "DTzqvYXQ5UPO"
      },
      "outputs": [],
      "source": [
        "# first set the secret in colab (call it OPENAI_API_KEY)\n",
        "from google.colab import userdata\n",
        "import os\n",
        "os.environ[\"OPENAI_API_KEY\"] = userdata.get('OPENAI_API_KEY')"
      ]
    },
    {
      "cell_type": "markdown",
      "metadata": {
        "id": "feLw7i2b5UPO"
      },
      "source": [
        "### Secrets in Codespaces or Local Install (using dotenv)"
      ]
    },
    {
      "cell_type": "code",
      "execution_count": null,
      "metadata": {
        "id": "2d1pN8W75UPO"
      },
      "outputs": [],
      "source": [
        "# first set the secret in .env file (OPENAI_API_KEY = '')\n",
        "# pip install python-dotenv\n",
        "from dotenv import load_dotenv\n",
        "load_dotenv()\n",
        "\n",
        "# don't forget to include .env in .gitignore if you are pushing the folder to github"
      ]
    },
    {
      "cell_type": "markdown",
      "metadata": {
        "id": "joAw152V5UPO"
      },
      "source": [
        "### Secrets with Manual Input (using getpass)"
      ]
    },
    {
      "cell_type": "code",
      "execution_count": null,
      "metadata": {
        "id": "dY254MDQ5UPO"
      },
      "outputs": [],
      "source": [
        "# pip install getpass\n",
        "import getpass\n",
        "import os\n",
        "os.environ[\"OPENAI_API_KEY\"] = getpass.getpass(\"Enter your OpenAI API Key: \")"
      ]
    },
    {
      "cell_type": "markdown",
      "metadata": {
        "id": "D_3BwFvq5UPO"
      },
      "source": [
        "# Counting tokens (using tiktoken)"
      ]
    },
    {
      "cell_type": "code",
      "execution_count": 7,
      "metadata": {
        "id": "CayJvmjS5UPO"
      },
      "outputs": [],
      "source": [
        "# use tiktoken to get number of tokens in a string of text\n",
        "# (default model is cl100k_base, which is used for several OpenAI modes)\n",
        "\n",
        "#!pip install tiktoken\n",
        "#!pip install openai\n",
        "\n",
        "import tiktoken\n",
        "\n",
        "def count_tokens(text, model = \"cl100k_base\"):\n",
        "    encoding = tiktoken.get_encoding(model)\n",
        "    num_tokens = len(encoding.encode(text))\n",
        "    return num_tokens"
      ]
    },
    {
      "cell_type": "code",
      "execution_count": 8,
      "metadata": {
        "id": "jQ9MAkO45UPO",
        "outputId": "5ccc44f3-a4f5-4ee7-990e-96c1b657b603",
        "colab": {
          "base_uri": "https://localhost:8080/"
        }
      },
      "outputs": [
        {
          "output_type": "execute_result",
          "data": {
            "text/plain": [
              "111"
            ]
          },
          "metadata": {},
          "execution_count": 8
        }
      ],
      "source": [
        "text = \"\"\"\n",
        "Imagine that James (birthday September 18, 2018) living in Toronto was given over the counter cough medication\n",
        "on Jan 27 2022. Shortly after he became seriously ill and had to be hospitalized for 2 months. No one knew why\n",
        "he became ill until June 7 2023 when the pharmaceutical company that manufactured the cough medication revealed\n",
        "that they produced a large batch of improperly manufactured cough medication, which produced symptoms similar\n",
        "to those experienced by James. When is the last date on which James can sue the pharmaceutical?\n",
        "\"\"\"\n",
        "\n",
        "count_tokens(text)"
      ]
    },
    {
      "cell_type": "code",
      "execution_count": 11,
      "metadata": {
        "id": "EzA76_D55UPO"
      },
      "outputs": [],
      "source": [
        "# function to read pdf document from url and extract text\n",
        "\n",
        "#!pip install requests\n",
        "#!pip install PyPDF2\n",
        "\n",
        "import requests\n",
        "import PyPDF2\n",
        "import io\n",
        "\n",
        "def get_pdf_text_from_ulr(url):\n",
        "    response = requests.get(url)\n",
        "    pdf = PyPDF2.PdfReader(io.BytesIO(response.content))\n",
        "\n",
        "    text = ''\n",
        "    for page in pdf.pages:\n",
        "        text += page.extract_text()\n",
        "\n",
        "    return text"
      ]
    },
    {
      "cell_type": "code",
      "execution_count": 12,
      "metadata": {
        "id": "gyNL2Ga_5UPO",
        "outputId": "ad247d79-12a2-47fa-aa75-64c0f202965b",
        "colab": {
          "base_uri": "https://localhost:8080/"
        }
      },
      "outputs": [
        {
          "output_type": "stream",
          "name": "stdout",
          "text": [
            " \n",
            "UNIT 1 COLLECTIVE AGREEMENT  \n",
            " \n",
            "Between  \n",
            " \n",
            "York University  \n",
            " \n",
            "And \n",
            " \n",
            " \n",
            " \n",
            "Canadian Union of Public Employees  \n",
            "Local 3903  \n",
            " \n",
            "2020 -2023  \n",
            " \n",
            " \n",
            "IFC BLANK \n",
            " \n",
            "TABLE OF CONTENTS  \n",
            " \n",
            "ARTICLE PAGE  \n",
            "1. PURPOSE  ................................ ................................ .......  1 \n",
            "2. MANAGEMENT  RIGHTS  ................................ ................  1 \n",
            "3. EMPLOYEES  REPRESENTED  ................................ .......  1 \n",
            "Bargaining Unit Information  ................................ ...\n",
            "[...]\n",
            "_____________________________\n",
            "Number of tokens in the text: 61137\n"
          ]
        }
      ],
      "source": [
        "# Example: Download pdf from url and count tokens\n",
        "\n",
        "# URL is from ON ministry of labour database of collective agreements:\n",
        "# https://www.lr.labour.gov.on.ca/en-CA/Collective-Agreements/\n",
        "\n",
        "url = 'https://ws.lr.labour.gov.on.ca/CA/doc/611-11484-23%20(805-0042)?library=Education%20and%20Related%20Services'\n",
        "\n",
        "collective_agreement = get_pdf_text_from_ulr(url)\n",
        "\n",
        "print(collective_agreement[:500])\n",
        "print(\"[...]\")\n",
        "print (\"_____________________________\")\n",
        "\n",
        "# count tokens\n",
        "num_tokens = count_tokens(collective_agreement)\n",
        "\n",
        "print(f\"Number of tokens in the text: {num_tokens}\")"
      ]
    },
    {
      "cell_type": "code",
      "execution_count": 15,
      "metadata": {
        "id": "yrWVkqNB5UPO",
        "outputId": "13c7e8c1-7d76-4f6b-c8e3-64b81c770ec7",
        "colab": {
          "base_uri": "https://localhost:8080/",
          "height": 469
        }
      },
      "outputs": [
        {
          "output_type": "execute_result",
          "data": {
            "text/plain": [
              "           citation citation2 dataset  year  \\\n",
              "0  (1877) 1 SCR 110               SCC  1877   \n",
              "1  (1877) 1 SCR 114               SCC  1877   \n",
              "2  (1877) 1 SCR 117               SCC  1877   \n",
              "3  (1877) 1 SCR 145               SCC  1877   \n",
              "4  (1877) 1 SCR 235               SCC  1877   \n",
              "\n",
              "                                                name language document_date  \\\n",
              "0  Boak et al. v. The Merchant's Marine Insurance...       en    1877-01-23   \n",
              "1                                 Smyth v. McDougall       en    1877-02-01   \n",
              "2                             The Queen v. Laliberté       en    1877-02-03   \n",
              "3                        Brassard et al. v. Langevin       en    1877-02-28   \n",
              "4  Johnstone v. The Minister & Trustees of St. An...       en    1877-06-28   \n",
              "\n",
              "                                          source_url scraped_timestamp  \\\n",
              "0  https://decisions.scc-csc.ca/scc-csc/scc-csc/e...        2022-08-31   \n",
              "1  https://decisions.scc-csc.ca/scc-csc/scc-csc/e...        2022-08-31   \n",
              "2  https://decisions.scc-csc.ca/scc-csc/scc-csc/e...        2022-08-31   \n",
              "3  https://decisions.scc-csc.ca/scc-csc/scc-csc/e...        2022-08-31   \n",
              "4  https://decisions.scc-csc.ca/scc-csc/scc-csc/e...        2022-08-31   \n",
              "\n",
              "                                     unofficial_text other  \n",
              "0  Boak et al. v. The Merchant's Marine Insurance...        \n",
              "1  Smyth v. McDougall\\nCollection\\nSupreme Court ...        \n",
              "2  The Queen v. Laliberté\\nCollection\\nSupreme Co...        \n",
              "3  Brassard et al. v. Langevin\\nCollection\\nSupre...        \n",
              "4  Johnstone v. The Minister & Trustees of St. An...        "
            ],
            "text/html": [
              "\n",
              "  <div id=\"df-68e8b493-e9f2-4374-860c-b3903c417970\" class=\"colab-df-container\">\n",
              "    <div>\n",
              "<style scoped>\n",
              "    .dataframe tbody tr th:only-of-type {\n",
              "        vertical-align: middle;\n",
              "    }\n",
              "\n",
              "    .dataframe tbody tr th {\n",
              "        vertical-align: top;\n",
              "    }\n",
              "\n",
              "    .dataframe thead th {\n",
              "        text-align: right;\n",
              "    }\n",
              "</style>\n",
              "<table border=\"1\" class=\"dataframe\">\n",
              "  <thead>\n",
              "    <tr style=\"text-align: right;\">\n",
              "      <th></th>\n",
              "      <th>citation</th>\n",
              "      <th>citation2</th>\n",
              "      <th>dataset</th>\n",
              "      <th>year</th>\n",
              "      <th>name</th>\n",
              "      <th>language</th>\n",
              "      <th>document_date</th>\n",
              "      <th>source_url</th>\n",
              "      <th>scraped_timestamp</th>\n",
              "      <th>unofficial_text</th>\n",
              "      <th>other</th>\n",
              "    </tr>\n",
              "  </thead>\n",
              "  <tbody>\n",
              "    <tr>\n",
              "      <th>0</th>\n",
              "      <td>(1877) 1 SCR 110</td>\n",
              "      <td></td>\n",
              "      <td>SCC</td>\n",
              "      <td>1877</td>\n",
              "      <td>Boak et al. v. The Merchant's Marine Insurance...</td>\n",
              "      <td>en</td>\n",
              "      <td>1877-01-23</td>\n",
              "      <td>https://decisions.scc-csc.ca/scc-csc/scc-csc/e...</td>\n",
              "      <td>2022-08-31</td>\n",
              "      <td>Boak et al. v. The Merchant's Marine Insurance...</td>\n",
              "      <td></td>\n",
              "    </tr>\n",
              "    <tr>\n",
              "      <th>1</th>\n",
              "      <td>(1877) 1 SCR 114</td>\n",
              "      <td></td>\n",
              "      <td>SCC</td>\n",
              "      <td>1877</td>\n",
              "      <td>Smyth v. McDougall</td>\n",
              "      <td>en</td>\n",
              "      <td>1877-02-01</td>\n",
              "      <td>https://decisions.scc-csc.ca/scc-csc/scc-csc/e...</td>\n",
              "      <td>2022-08-31</td>\n",
              "      <td>Smyth v. McDougall\\nCollection\\nSupreme Court ...</td>\n",
              "      <td></td>\n",
              "    </tr>\n",
              "    <tr>\n",
              "      <th>2</th>\n",
              "      <td>(1877) 1 SCR 117</td>\n",
              "      <td></td>\n",
              "      <td>SCC</td>\n",
              "      <td>1877</td>\n",
              "      <td>The Queen v. Laliberté</td>\n",
              "      <td>en</td>\n",
              "      <td>1877-02-03</td>\n",
              "      <td>https://decisions.scc-csc.ca/scc-csc/scc-csc/e...</td>\n",
              "      <td>2022-08-31</td>\n",
              "      <td>The Queen v. Laliberté\\nCollection\\nSupreme Co...</td>\n",
              "      <td></td>\n",
              "    </tr>\n",
              "    <tr>\n",
              "      <th>3</th>\n",
              "      <td>(1877) 1 SCR 145</td>\n",
              "      <td></td>\n",
              "      <td>SCC</td>\n",
              "      <td>1877</td>\n",
              "      <td>Brassard et al. v. Langevin</td>\n",
              "      <td>en</td>\n",
              "      <td>1877-02-28</td>\n",
              "      <td>https://decisions.scc-csc.ca/scc-csc/scc-csc/e...</td>\n",
              "      <td>2022-08-31</td>\n",
              "      <td>Brassard et al. v. Langevin\\nCollection\\nSupre...</td>\n",
              "      <td></td>\n",
              "    </tr>\n",
              "    <tr>\n",
              "      <th>4</th>\n",
              "      <td>(1877) 1 SCR 235</td>\n",
              "      <td></td>\n",
              "      <td>SCC</td>\n",
              "      <td>1877</td>\n",
              "      <td>Johnstone v. The Minister &amp; Trustees of St. An...</td>\n",
              "      <td>en</td>\n",
              "      <td>1877-06-28</td>\n",
              "      <td>https://decisions.scc-csc.ca/scc-csc/scc-csc/e...</td>\n",
              "      <td>2022-08-31</td>\n",
              "      <td>Johnstone v. The Minister &amp; Trustees of St. An...</td>\n",
              "      <td></td>\n",
              "    </tr>\n",
              "  </tbody>\n",
              "</table>\n",
              "</div>\n",
              "    <div class=\"colab-df-buttons\">\n",
              "\n",
              "  <div class=\"colab-df-container\">\n",
              "    <button class=\"colab-df-convert\" onclick=\"convertToInteractive('df-68e8b493-e9f2-4374-860c-b3903c417970')\"\n",
              "            title=\"Convert this dataframe to an interactive table.\"\n",
              "            style=\"display:none;\">\n",
              "\n",
              "  <svg xmlns=\"http://www.w3.org/2000/svg\" height=\"24px\" viewBox=\"0 -960 960 960\">\n",
              "    <path d=\"M120-120v-720h720v720H120Zm60-500h600v-160H180v160Zm220 220h160v-160H400v160Zm0 220h160v-160H400v160ZM180-400h160v-160H180v160Zm440 0h160v-160H620v160ZM180-180h160v-160H180v160Zm440 0h160v-160H620v160Z\"/>\n",
              "  </svg>\n",
              "    </button>\n",
              "\n",
              "  <style>\n",
              "    .colab-df-container {\n",
              "      display:flex;\n",
              "      gap: 12px;\n",
              "    }\n",
              "\n",
              "    .colab-df-convert {\n",
              "      background-color: #E8F0FE;\n",
              "      border: none;\n",
              "      border-radius: 50%;\n",
              "      cursor: pointer;\n",
              "      display: none;\n",
              "      fill: #1967D2;\n",
              "      height: 32px;\n",
              "      padding: 0 0 0 0;\n",
              "      width: 32px;\n",
              "    }\n",
              "\n",
              "    .colab-df-convert:hover {\n",
              "      background-color: #E2EBFA;\n",
              "      box-shadow: 0px 1px 2px rgba(60, 64, 67, 0.3), 0px 1px 3px 1px rgba(60, 64, 67, 0.15);\n",
              "      fill: #174EA6;\n",
              "    }\n",
              "\n",
              "    .colab-df-buttons div {\n",
              "      margin-bottom: 4px;\n",
              "    }\n",
              "\n",
              "    [theme=dark] .colab-df-convert {\n",
              "      background-color: #3B4455;\n",
              "      fill: #D2E3FC;\n",
              "    }\n",
              "\n",
              "    [theme=dark] .colab-df-convert:hover {\n",
              "      background-color: #434B5C;\n",
              "      box-shadow: 0px 1px 3px 1px rgba(0, 0, 0, 0.15);\n",
              "      filter: drop-shadow(0px 1px 2px rgba(0, 0, 0, 0.3));\n",
              "      fill: #FFFFFF;\n",
              "    }\n",
              "  </style>\n",
              "\n",
              "    <script>\n",
              "      const buttonEl =\n",
              "        document.querySelector('#df-68e8b493-e9f2-4374-860c-b3903c417970 button.colab-df-convert');\n",
              "      buttonEl.style.display =\n",
              "        google.colab.kernel.accessAllowed ? 'block' : 'none';\n",
              "\n",
              "      async function convertToInteractive(key) {\n",
              "        const element = document.querySelector('#df-68e8b493-e9f2-4374-860c-b3903c417970');\n",
              "        const dataTable =\n",
              "          await google.colab.kernel.invokeFunction('convertToInteractive',\n",
              "                                                    [key], {});\n",
              "        if (!dataTable) return;\n",
              "\n",
              "        const docLinkHtml = 'Like what you see? Visit the ' +\n",
              "          '<a target=\"_blank\" href=https://colab.research.google.com/notebooks/data_table.ipynb>data table notebook</a>'\n",
              "          + ' to learn more about interactive tables.';\n",
              "        element.innerHTML = '';\n",
              "        dataTable['output_type'] = 'display_data';\n",
              "        await google.colab.output.renderOutput(dataTable, element);\n",
              "        const docLink = document.createElement('div');\n",
              "        docLink.innerHTML = docLinkHtml;\n",
              "        element.appendChild(docLink);\n",
              "      }\n",
              "    </script>\n",
              "  </div>\n",
              "\n",
              "\n",
              "<div id=\"df-e5719b8a-629a-4385-99e0-c6ae216ad77c\">\n",
              "  <button class=\"colab-df-quickchart\" onclick=\"quickchart('df-e5719b8a-629a-4385-99e0-c6ae216ad77c')\"\n",
              "            title=\"Suggest charts\"\n",
              "            style=\"display:none;\">\n",
              "\n",
              "<svg xmlns=\"http://www.w3.org/2000/svg\" height=\"24px\"viewBox=\"0 0 24 24\"\n",
              "     width=\"24px\">\n",
              "    <g>\n",
              "        <path d=\"M19 3H5c-1.1 0-2 .9-2 2v14c0 1.1.9 2 2 2h14c1.1 0 2-.9 2-2V5c0-1.1-.9-2-2-2zM9 17H7v-7h2v7zm4 0h-2V7h2v10zm4 0h-2v-4h2v4z\"/>\n",
              "    </g>\n",
              "</svg>\n",
              "  </button>\n",
              "\n",
              "<style>\n",
              "  .colab-df-quickchart {\n",
              "      --bg-color: #E8F0FE;\n",
              "      --fill-color: #1967D2;\n",
              "      --hover-bg-color: #E2EBFA;\n",
              "      --hover-fill-color: #174EA6;\n",
              "      --disabled-fill-color: #AAA;\n",
              "      --disabled-bg-color: #DDD;\n",
              "  }\n",
              "\n",
              "  [theme=dark] .colab-df-quickchart {\n",
              "      --bg-color: #3B4455;\n",
              "      --fill-color: #D2E3FC;\n",
              "      --hover-bg-color: #434B5C;\n",
              "      --hover-fill-color: #FFFFFF;\n",
              "      --disabled-bg-color: #3B4455;\n",
              "      --disabled-fill-color: #666;\n",
              "  }\n",
              "\n",
              "  .colab-df-quickchart {\n",
              "    background-color: var(--bg-color);\n",
              "    border: none;\n",
              "    border-radius: 50%;\n",
              "    cursor: pointer;\n",
              "    display: none;\n",
              "    fill: var(--fill-color);\n",
              "    height: 32px;\n",
              "    padding: 0;\n",
              "    width: 32px;\n",
              "  }\n",
              "\n",
              "  .colab-df-quickchart:hover {\n",
              "    background-color: var(--hover-bg-color);\n",
              "    box-shadow: 0 1px 2px rgba(60, 64, 67, 0.3), 0 1px 3px 1px rgba(60, 64, 67, 0.15);\n",
              "    fill: var(--button-hover-fill-color);\n",
              "  }\n",
              "\n",
              "  .colab-df-quickchart-complete:disabled,\n",
              "  .colab-df-quickchart-complete:disabled:hover {\n",
              "    background-color: var(--disabled-bg-color);\n",
              "    fill: var(--disabled-fill-color);\n",
              "    box-shadow: none;\n",
              "  }\n",
              "\n",
              "  .colab-df-spinner {\n",
              "    border: 2px solid var(--fill-color);\n",
              "    border-color: transparent;\n",
              "    border-bottom-color: var(--fill-color);\n",
              "    animation:\n",
              "      spin 1s steps(1) infinite;\n",
              "  }\n",
              "\n",
              "  @keyframes spin {\n",
              "    0% {\n",
              "      border-color: transparent;\n",
              "      border-bottom-color: var(--fill-color);\n",
              "      border-left-color: var(--fill-color);\n",
              "    }\n",
              "    20% {\n",
              "      border-color: transparent;\n",
              "      border-left-color: var(--fill-color);\n",
              "      border-top-color: var(--fill-color);\n",
              "    }\n",
              "    30% {\n",
              "      border-color: transparent;\n",
              "      border-left-color: var(--fill-color);\n",
              "      border-top-color: var(--fill-color);\n",
              "      border-right-color: var(--fill-color);\n",
              "    }\n",
              "    40% {\n",
              "      border-color: transparent;\n",
              "      border-right-color: var(--fill-color);\n",
              "      border-top-color: var(--fill-color);\n",
              "    }\n",
              "    60% {\n",
              "      border-color: transparent;\n",
              "      border-right-color: var(--fill-color);\n",
              "    }\n",
              "    80% {\n",
              "      border-color: transparent;\n",
              "      border-right-color: var(--fill-color);\n",
              "      border-bottom-color: var(--fill-color);\n",
              "    }\n",
              "    90% {\n",
              "      border-color: transparent;\n",
              "      border-bottom-color: var(--fill-color);\n",
              "    }\n",
              "  }\n",
              "</style>\n",
              "\n",
              "  <script>\n",
              "    async function quickchart(key) {\n",
              "      const quickchartButtonEl =\n",
              "        document.querySelector('#' + key + ' button');\n",
              "      quickchartButtonEl.disabled = true;  // To prevent multiple clicks.\n",
              "      quickchartButtonEl.classList.add('colab-df-spinner');\n",
              "      try {\n",
              "        const charts = await google.colab.kernel.invokeFunction(\n",
              "            'suggestCharts', [key], {});\n",
              "      } catch (error) {\n",
              "        console.error('Error during call to suggestCharts:', error);\n",
              "      }\n",
              "      quickchartButtonEl.classList.remove('colab-df-spinner');\n",
              "      quickchartButtonEl.classList.add('colab-df-quickchart-complete');\n",
              "    }\n",
              "    (() => {\n",
              "      let quickchartButtonEl =\n",
              "        document.querySelector('#df-e5719b8a-629a-4385-99e0-c6ae216ad77c button');\n",
              "      quickchartButtonEl.style.display =\n",
              "        google.colab.kernel.accessAllowed ? 'block' : 'none';\n",
              "    })();\n",
              "  </script>\n",
              "</div>\n",
              "\n",
              "    </div>\n",
              "  </div>\n"
            ],
            "application/vnd.google.colaboratory.intrinsic+json": {
              "type": "dataframe",
              "variable_name": "df",
              "summary": "{\n  \"name\": \"df\",\n  \"rows\": 15707,\n  \"fields\": [\n    {\n      \"column\": \"citation\",\n      \"properties\": {\n        \"dtype\": \"string\",\n        \"num_unique_values\": 15705,\n        \"samples\": [\n          \"[1993] 3 SCR 223\",\n          \"(1905) 35 SCR 478\",\n          \"[1951] SCR 887\"\n        ],\n        \"semantic_type\": \"\",\n        \"description\": \"\"\n      }\n    },\n    {\n      \"column\": \"citation2\",\n      \"properties\": {\n        \"dtype\": \"category\",\n        \"num_unique_values\": 3031,\n        \"samples\": [\n          \"[2016] 2 SCR 555\",\n          \"[2003] 1 SCR 156\",\n          \"[2011] 3 RCS 134\"\n        ],\n        \"semantic_type\": \"\",\n        \"description\": \"\"\n      }\n    },\n    {\n      \"column\": \"dataset\",\n      \"properties\": {\n        \"dtype\": \"category\",\n        \"num_unique_values\": 1,\n        \"samples\": [\n          \"SCC\"\n        ],\n        \"semantic_type\": \"\",\n        \"description\": \"\"\n      }\n    },\n    {\n      \"column\": \"year\",\n      \"properties\": {\n        \"dtype\": \"int32\",\n        \"num_unique_values\": 148,\n        \"samples\": [\n          2002\n        ],\n        \"semantic_type\": \"\",\n        \"description\": \"\"\n      }\n    },\n    {\n      \"column\": \"name\",\n      \"properties\": {\n        \"dtype\": \"string\",\n        \"num_unique_values\": 15007,\n        \"samples\": [\n          \"F.H. c. McDougall\"\n        ],\n        \"semantic_type\": \"\",\n        \"description\": \"\"\n      }\n    },\n    {\n      \"column\": \"language\",\n      \"properties\": {\n        \"dtype\": \"category\",\n        \"num_unique_values\": 2,\n        \"samples\": [\n          \"fr\"\n        ],\n        \"semantic_type\": \"\",\n        \"description\": \"\"\n      }\n    },\n    {\n      \"column\": \"document_date\",\n      \"properties\": {\n        \"dtype\": \"object\",\n        \"num_unique_values\": 3953,\n        \"samples\": [\n          \"2013-10-31\"\n        ],\n        \"semantic_type\": \"\",\n        \"description\": \"\"\n      }\n    },\n    {\n      \"column\": \"source_url\",\n      \"properties\": {\n        \"dtype\": \"string\",\n        \"num_unique_values\": 15707,\n        \"samples\": [\n          \"https://decisions.scc-csc.ca/scc-csc/scc-csc/en/item/5693/index.do\"\n        ],\n        \"semantic_type\": \"\",\n        \"description\": \"\"\n      }\n    },\n    {\n      \"column\": \"scraped_timestamp\",\n      \"properties\": {\n        \"dtype\": \"object\",\n        \"num_unique_values\": 10,\n        \"samples\": [\n          \"2024-04-10\"\n        ],\n        \"semantic_type\": \"\",\n        \"description\": \"\"\n      }\n    },\n    {\n      \"column\": \"unofficial_text\",\n      \"properties\": {\n        \"dtype\": \"string\",\n        \"num_unique_values\": 15707,\n        \"samples\": [\n          \"Perry v. The Queen\\nCollection\\nSupreme Court Judgments\\nDate\\n1980-06-11\\nReport\\n[1980] 1 SCR 1104\\nJudges\\nMartland, Ronald; Ritchie, Roland Almon; Beetz, Jean; Estey, Willard Zebedee; McIntyre, William Rogers; Chouinard, Julien; Lamer, Antonio\\nOn appeal from\\nBritish Columbia\\nSubjects\\nCriminal law\\nDecision Content\\nSupreme Court of Canada\\nPerry v. The Queen, [1980] 1 S.C.R. 1104\\nDate: 1980-06-11\\nDale Perry Appellant;\\nand\\nHer Majesty The Queen Respondent.\\n1980: June 11.\\nPresent: Martland, Ritchie, Beetz, Estey, McIntyre, Chouinard and Lamer JJ.\\nON APPEAL FROM THE COURT OF APPEAL FOR BRITISH COLUMBIA\\nCriminal law\\u2014Driving with more than 80 mgs of alcohol in blood\\u2014Breathalyzer\\u2014Meaning of \\u201cwith an interval of at least fifteen minutes between the time when the samples were taken\\u201d\\u2014Criminal Code, R.S.C. 1970, c. C-34, as am. by 1974-75-76 (Can.), c. 93, ss. 236, 237(1)(c)(ii).\\nAPPEAL from a judgment of the Court of Appeal of British Columbia[1] dismissing an appeal from a judgment of Bouck J. of the Supreme Court setting aside by way of stated case an acquittal of the appellant on a charge under s. 236 of the Criminal Code. Appeal dismissed.\\nArthur Ellis Vertlieb and D.G. Jones, for the appellant.\\nJessie M. MacNeil, for the respondent.\\nThe judgment of the Court was delivered orally by\\nMARTLAND J.\\u2014We are all in agreement with the reasons for judgment delivered by Taggart J.A., in the Court of Appeal. The appeal is dismissed.\\nAppeal dismissed.\\nSolicitors for the appellant: Twining, Vertlieb & Company, Vancouver.\\nSolicitor for the respondent: The Regional Crown Counsel, Vancouver.\\n[1] (1978), 41 C.C.C. (2d) 182, 6 B.C.L.R. 209.\\n\"\n        ],\n        \"semantic_type\": \"\",\n        \"description\": \"\"\n      }\n    },\n    {\n      \"column\": \"other\",\n      \"properties\": {\n        \"dtype\": \"object\",\n        \"num_unique_values\": 1,\n        \"samples\": [\n          \"\"\n        ],\n        \"semantic_type\": \"\",\n        \"description\": \"\"\n      }\n    }\n  ]\n}"
            }
          },
          "metadata": {},
          "execution_count": 15
        }
      ],
      "source": [
        "#!pip install datasets\n",
        "\n",
        "from datasets import load_dataset\n",
        "dataset = load_dataset(\"refugee-law-lab/canadian-legal-data\", split=\"train\", data_dir=\"SCC\")\n",
        "df = dataset.to_pandas()\n",
        "df.head()"
      ]
    },
    {
      "cell_type": "code",
      "execution_count": 16,
      "metadata": {
        "id": "O_2qkHXv5UPP",
        "outputId": "f1bbd9d2-0135-46ee-dd42-10a210d5d5c3",
        "colab": {
          "base_uri": "https://localhost:8080/"
        }
      },
      "outputs": [
        {
          "output_type": "execute_result",
          "data": {
            "text/plain": [
              "34"
            ]
          },
          "metadata": {},
          "execution_count": 16
        }
      ],
      "source": [
        "# filter df for languge = \"en\"\n",
        "df = df[df.language == \"en\"]\n",
        "\n",
        "# filter df for year = 2023\n",
        "df = df[df.year == 2023]\n",
        "\n",
        "len(df)"
      ]
    },
    {
      "cell_type": "code",
      "execution_count": 17,
      "metadata": {
        "id": "5OlAW98I5UPP",
        "outputId": "2b1f68d5-84dd-4b8a-b3f6-303321e09f98",
        "colab": {
          "base_uri": "https://localhost:8080/"
        }
      },
      "outputs": [
        {
          "output_type": "execute_result",
          "data": {
            "text/plain": [
              "3454558"
            ]
          },
          "metadata": {},
          "execution_count": 17
        }
      ],
      "source": [
        "# put df.unofficial_text into a single variable\n",
        "text = \" \".join(df.unofficial_text)\n",
        "len(text)"
      ]
    },
    {
      "cell_type": "code",
      "execution_count": 18,
      "metadata": {
        "id": "yIgwcL9f5UPP",
        "outputId": "8e930588-31d9-47c8-bc56-c779ca121f90",
        "colab": {
          "base_uri": "https://localhost:8080/"
        }
      },
      "outputs": [
        {
          "output_type": "stream",
          "name": "stdout",
          "text": [
            "Number of tokens in the text: 795812\n"
          ]
        }
      ],
      "source": [
        "# count tokens\n",
        "num_tokens = count_tokens(text)\n",
        "print(f\"Number of tokens in the text: {num_tokens}\")"
      ]
    },
    {
      "cell_type": "markdown",
      "metadata": {
        "id": "hdTypXzx5UPP"
      },
      "source": [
        "# Accessing the OpenAI API: A simple example"
      ]
    },
    {
      "cell_type": "code",
      "execution_count": 19,
      "metadata": {
        "id": "CO68XdAH5UPP"
      },
      "outputs": [],
      "source": [
        "# set up OpenAI API by setting the OPENAI_API_KEY as an environment variable (see above, secrets)\n",
        "\n",
        "# NOTE: Model pricing as of January 2025:\n",
        "# Model: 'gpt-4o' Input: $0.00250 / 1K input tokens;\t$0.01000 / 1K output tokens; Context Length 128k tokens\n",
        "# Model: 'gpt-4o-mini ' $0.000150 / 1K input tokens;\t$0.000600 / 1K output tokens; Context Length: 128k tokens\n",
        "\n",
        "# !pip install openai\n",
        "\n",
        "from openai import OpenAI\n",
        "\n",
        "client = OpenAI()\n",
        "\n",
        "def get_completion(user_message,\n",
        "        system_message=\"You are a helpful assistant to a Canadian law student\",\n",
        "        model = \"gpt-4o\",\n",
        "        temperature = 0):\n",
        "\n",
        "    completion = client.chat.completions.create(\n",
        "        model=model,\n",
        "        temperature=temperature,\n",
        "        messages=[\n",
        "            {\"role\": \"system\", \"content\": system_message},\n",
        "            {\"role\": \"user\", \"content\": user_message}\n",
        "        ]\n",
        "    )\n",
        "    return completion.choices[0].message.content"
      ]
    },
    {
      "cell_type": "code",
      "execution_count": 20,
      "metadata": {
        "id": "AdjCnEYn5UPP",
        "outputId": "ba895f80-9995-4e85-b7fd-e5c7cb1d496a",
        "colab": {
          "base_uri": "https://localhost:8080/",
          "height": 54
        }
      },
      "outputs": [
        {
          "output_type": "execute_result",
          "data": {
            "text/plain": [
              "\"Hello! I'm just a virtual assistant, so I don't have feelings, but I'm here and ready to help you with any questions or information you need. How can I assist you today?\""
            ],
            "application/vnd.google.colaboratory.intrinsic+json": {
              "type": "string"
            }
          },
          "metadata": {},
          "execution_count": 20
        }
      ],
      "source": [
        "get_completion(\"Hello. How are you?\")"
      ]
    },
    {
      "cell_type": "code",
      "execution_count": 21,
      "metadata": {
        "id": "P9xrcYPX5UPP",
        "outputId": "08ae2b5e-c896-4b84-f3b7-0d24205e055a",
        "colab": {
          "base_uri": "https://localhost:8080/",
          "height": 36
        }
      },
      "outputs": [
        {
          "output_type": "execute_result",
          "data": {
            "text/plain": [
              "\"Bonjour. Comment puis-je vous aider aujourd'hui ?\""
            ],
            "application/vnd.google.colaboratory.intrinsic+json": {
              "type": "string"
            }
          },
          "metadata": {},
          "execution_count": 21
        }
      ],
      "source": [
        "get_completion(\"Hello. How are you?\", system_message = \"You only speak French\")"
      ]
    },
    {
      "cell_type": "code",
      "execution_count": 22,
      "metadata": {
        "id": "83-TLrW05UPP",
        "outputId": "58e5aa7f-3eaa-44b7-b9b4-843e868a6f33",
        "colab": {
          "base_uri": "https://localhost:8080/",
          "height": 36
        }
      },
      "outputs": [
        {
          "output_type": "execute_result",
          "data": {
            "text/plain": [
              "'Hola. ¿Cómo estás?'"
            ],
            "application/vnd.google.colaboratory.intrinsic+json": {
              "type": "string"
            }
          },
          "metadata": {},
          "execution_count": 22
        }
      ],
      "source": [
        "new_sys_message = \"You only speak Spanish\"\n",
        "\n",
        "get_completion(\"Hello. How are you?\", system_message = new_sys_message)"
      ]
    },
    {
      "cell_type": "code",
      "execution_count": 23,
      "metadata": {
        "id": "zs9QAjPV5UPP",
        "outputId": "af4c6ee2-fc82-418a-ca03-d1db3c3b52e6",
        "colab": {
          "base_uri": "https://localhost:8080/",
          "height": 36
        }
      },
      "outputs": [
        {
          "output_type": "execute_result",
          "data": {
            "text/plain": [
              "\"Books stack high and deep,  \\nCoffee-fueled late-night battles,  \\nFuture's dawn awaits.\""
            ],
            "application/vnd.google.colaboratory.intrinsic+json": {
              "type": "string"
            }
          },
          "metadata": {},
          "execution_count": 23
        }
      ],
      "source": [
        "get_completion(\"Write a haiku about 1L\", temperature = 1.25, model = \"gpt-4o-mini\")"
      ]
    },
    {
      "cell_type": "code",
      "execution_count": 24,
      "metadata": {
        "id": "tUEO6go-5UPP",
        "outputId": "14accebf-6188-4347-c965-40598bae34a3",
        "colab": {
          "base_uri": "https://localhost:8080/"
        }
      },
      "outputs": [
        {
          "output_type": "stream",
          "name": "stdout",
          "text": [
            "Filing a patent in Canada involves several steps, governed by the Patent Act and the Patent Rules. Here’s a general overview of the process:\n",
            "\n",
            "1. **Determine Patentability**: Before filing, ensure that your invention is patentable. According to the Patent Act, an invention must be new, useful, and non-obvious. It must also fall under patentable subject matter, which includes processes, machines, manufactures, compositions of matter, or any new and useful improvement thereof.\n",
            "\n",
            "2. **Conduct a Patent Search**: Conduct a search to ensure that your invention has not already been patented. This can be done through the Canadian Patents Database or other international databases.\n",
            "\n",
            "3. **Prepare a Patent Application**: The application must include:\n",
            "   - A petition for the grant of a patent.\n",
            "   - A specification, which includes a detailed description of the invention and claims defining the scope of the patent protection.\n",
            "   - Any necessary drawings.\n",
            "   - An abstract summarizing the invention.\n",
            "\n",
            "4. **File the Application**: Submit your application to the Canadian Intellectual Property Office (CIPO). You can file electronically through the CIPO website. The filing date is crucial as it establishes the priority date for your invention.\n",
            "\n",
            "5. **Request Examination**: After filing, you must request an examination within four years from the filing date. The examination process involves a CIPO examiner reviewing your application to ensure it meets all legal requirements.\n",
            "\n",
            "6. **Respond to Office Actions**: If the examiner raises objections or requires amendments, you must respond to these office actions. This may involve amending the claims or providing additional information.\n",
            "\n",
            "7. **Pay the Necessary Fees**: Throughout the process, various fees must be paid, including filing fees, examination fees, and maintenance fees to keep the patent in force.\n",
            "\n",
            "8. **Grant of Patent**: If the application is approved, a notice of allowance is issued, and upon payment of the final fee, the patent is granted. The patent is then published in the Canadian Patent Register.\n",
            "\n",
            "9. **Maintain the Patent**: To keep the patent in force, annual maintenance fees must be paid.\n",
            "\n",
            "Relevant legislation includes:\n",
            "- **Patent Act (RSC 1985, c P-4)**: This is the primary legislation governing patents in Canada.\n",
            "- **Patent Rules (SOR/96-423)**: These rules provide detailed procedures and requirements for filing and prosecuting patent applications.\n",
            "\n",
            "It is often advisable to consult with a patent agent or attorney to navigate the complexities of patent law and ensure that your application is properly prepared and filed.\n"
          ]
        }
      ],
      "source": [
        "response = get_completion(\"Explain the steps to file a patent. Cite the releveant legislation\")\n",
        "print(response)"
      ]
    },
    {
      "cell_type": "markdown",
      "metadata": {
        "id": "b1jhVukC5UPP"
      },
      "source": [
        "### OpenAI API: Adding Context"
      ]
    },
    {
      "cell_type": "code",
      "execution_count": 25,
      "metadata": {
        "id": "An1RgT475UPP"
      },
      "outputs": [],
      "source": [
        "text = \"\"\"\n",
        "Courts have repeatedly held that negative inferences on the basis of plausibility are to\n",
        "made only in the clearest of cases due to the myriad of factors that can affect plausibility,\n",
        "especially in contexts involving cross-cultural and cross-linguistic communication, and in\n",
        "contexts where refugee claimants may be struggling with mental health issues and trauma (see\n",
        "Ascencio Perez v. Canada (Citizenship and Immigration), 2022 FC 215).\n",
        "\"\"\""
      ]
    },
    {
      "cell_type": "code",
      "execution_count": 26,
      "metadata": {
        "id": "bc2VlVp25UPP",
        "colab": {
          "base_uri": "https://localhost:8080/",
          "height": 81,
          "referenced_widgets": [
            "20790efc0f824849a203cb6f604985ed",
            "7c90f91641e04ff29a987904b1afab9d",
            "40a09e6fa5e54de0af1a4c232ee7a1e7",
            "6fa271f4f66845f3aecde442af9df5c6",
            "ab02dbb6792c4f148af14655e41e5f31",
            "d2b88012c13544a78984cb900853cd40",
            "7ab5af004a474e7faa22633d74781ffd",
            "4af20a90e60849548f0eaa99d8eb4ae0",
            "9626e70c8c34435492ee1728272fd3a4",
            "56ca49720a134222b00b12549edf268b",
            "817929d073194a0d8cbbf94cc2c3ff31",
            "bee5e765cac34ae89e78e72c3cddbc83",
            "87fb60bad4734438a92dd445f1cbb58a",
            "22c0d758dffd490fb8a371a7fc80aec5",
            "c5f2a0d2deb24b9797ee93aa17c175ef",
            "7c49a3c4d2974a8a82fd479df2b93e39",
            "d2050dec4d0a44329d527e2b7ec45a52",
            "d3929b74868a4e8d9223008ea2ed056c",
            "42879df93ad4444b9bc709dedb051a20",
            "6e4378f422de49b18358f3b73d2538c2",
            "c048bf442eac424886815b8642d04444",
            "358dd3c448524ca192b18105a697d0fd"
          ]
        },
        "outputId": "a581f8de-4727-4575-8f46-f23158569027"
      },
      "outputs": [
        {
          "output_type": "display_data",
          "data": {
            "text/plain": [
              "train.parquet:   0%|          | 0.00/783M [00:00<?, ?B/s]"
            ],
            "application/vnd.jupyter.widget-view+json": {
              "version_major": 2,
              "version_minor": 0,
              "model_id": "20790efc0f824849a203cb6f604985ed"
            }
          },
          "metadata": {}
        },
        {
          "output_type": "display_data",
          "data": {
            "text/plain": [
              "Generating train split: 0 examples [00:00, ? examples/s]"
            ],
            "application/vnd.jupyter.widget-view+json": {
              "version_major": 2,
              "version_minor": 0,
              "model_id": "bee5e765cac34ae89e78e72c3cddbc83"
            }
          },
          "metadata": {}
        }
      ],
      "source": [
        "from datasets import load_dataset\n",
        "dataset = load_dataset(\"refugee-law-lab/canadian-legal-data\", split=\"train\", data_dir=\"FC\")\n",
        "df = dataset.to_pandas()"
      ]
    },
    {
      "cell_type": "code",
      "execution_count": 27,
      "metadata": {
        "id": "H5kQTeMU5UPP",
        "outputId": "8f9a1545-6046-4017-a3ef-720957c9fd8a",
        "colab": {
          "base_uri": "https://localhost:8080/"
        }
      },
      "outputs": [
        {
          "output_type": "stream",
          "name": "stdout",
          "text": [
            "Ascencio Perez v. Canada (Citizenship and Immigration)\n",
            "Court (s) Database\n",
            "Federal Court Decisions\n",
            "Date\n",
            "2022-03-11\n",
            "Neutral citation\n",
            "2022 FC 215\n",
            "File numbers\n",
            "IMM-1835-21\n",
            "Decision Content\n",
            "Date: 20220311\n",
            "Docket: IMM-1835-21\n",
            "Citation: 2022 FC 215\n",
            "[ENGLISH TRANSLATION]\n",
            "Ottawa, Ontario, March 11, 2022\n",
            "PRESENT: The Honourable Justice Roy\n",
            "BNTWEEN:\n",
            "LUIS FRANCISCO ASCENCIO PEREZ\n",
            "LILIANA DEL PILAR LOPEZ LOPEZ\n",
            "SALOMON ASCENCIO LOPEZ\n",
            "EMILY ASCENCIO VIDES\n",
            "JACOB ASCENCIO LOPEZ\n",
            "Applicants\n",
            "and\n",
            "MINISTER OF CITIZEN\n"
          ]
        }
      ],
      "source": [
        "# get df.unofficial_text where citation = \"2022 FC 215\"\n",
        "case_text = df[df.citation == \"1\"].unofficial_text.values[0]\n",
        "print(case_text[:500])"
      ]
    },
    {
      "cell_type": "code",
      "execution_count": 34,
      "metadata": {
        "id": "S6jh8aGO5UPP"
      },
      "outputs": [],
      "source": [
        "user_message = f\"\"\"\n",
        "CONTEXT: THIS IS A CASE THAT IS CITED: {case_text}\n",
        "___________\n",
        "CONTEXT: THIS IS A TEXT CITING THE CASE: {text}\n",
        "___________\n",
        "QUESTION: Is the text citing the case in a way that is fair and accurate. If not, why not?\n",
        "\"\"\"\n",
        "\n",
        "response = get_completion(user_message, model = \"gpt-4o\", temperature = 0.05)"
      ]
    },
    {
      "cell_type": "code",
      "execution_count": 35,
      "metadata": {
        "id": "1MK4eNla5UPP",
        "outputId": "a6f33f74-1dd1-4ae2-e34c-e41852fb06c5",
        "colab": {
          "base_uri": "https://localhost:8080/"
        }
      },
      "outputs": [
        {
          "output_type": "stream",
          "name": "stdout",
          "text": [
            "The text citing the case of Ascencio Perez v. Canada (Citizenship and Immigration), 2022 FC 215, is not entirely fair and accurate in its representation of the case's findings and context. The citation suggests that the case is an example of courts being cautious about making negative inferences based on plausibility, especially in contexts involving cross-cultural and cross-linguistic communication, and where refugee claimants may be dealing with mental health issues and trauma.\n",
            "\n",
            "However, the actual decision in Ascencio Perez does not focus on these issues. Instead, the Federal Court's decision primarily revolves around the credibility of the incidents described by the principal applicant, aside from the threatening calls, and the availability of an internal flight alternative (IFA) in Colombia. The court found that the Refugee Appeal Division (RAD) and the Refugee Protection Division (RPD) had reasonable grounds to doubt the credibility of certain incidents and concluded that an IFA was available.\n",
            "\n",
            "The decision does not explicitly address issues of cross-cultural or cross-linguistic communication, nor does it delve into the mental health or trauma of the applicants as factors affecting plausibility. The court's analysis was more focused on the evidence presented and whether the RAD's decision was reasonable based on that evidence.\n",
            "\n",
            "Therefore, while the citation may reflect a general principle in refugee law, it does not accurately represent the specific findings or focus of the Ascencio Perez case. The case was more about the assessment of evidence and the reasonableness of the RAD's decision rather than the broader issues of plausibility in cross-cultural contexts.\n"
          ]
        }
      ],
      "source": [
        "print(response)"
      ]
    },
    {
      "cell_type": "markdown",
      "metadata": {
        "id": "i3GgHqZy5UPP"
      },
      "source": [
        "# OpenAI API: Few Shot Learning"
      ]
    },
    {
      "cell_type": "code",
      "execution_count": 36,
      "metadata": {
        "id": "oFVg1YuN5UPP"
      },
      "outputs": [],
      "source": [
        "user_message = f\"\"\"\n",
        "INPUT: Ottawa 19-AUG-2010  BEFORE The Honourable Mr. Justice Russell  Language: E  Before the Court:  Motion Doc. No. 3 on behalf of Applicant  Result of Hearing:  Matter dismissed  held by way of Conference Call in chambers  Duration per day:  19-AUG-2010 from 04:00 to 05:20  Courtroom : Judge's Chambers - Ottawa  Court Registrar: Jennifer Jones  Total Duration: 1h20  Appearances:  Lloyd Peter James 416-737-4286 representing Applicant  Suranjana Bhattacharyya 416-973-6716 representing Respondent  Comments: Counsel for the Respondent had two preliminary matters: 1)a law student was  in attendance to confirm that the Respondent's Authorities had been served  upon the Applicant prior to the Hearing; and 2)the proper Respondent should  be the Minister of Public Safety and Emergency Preparedness, not the  Minister of Citizenship and Immigration.  Minutes of Hearing entered in Vol. 236 page(s) 155 - 158  Abstract of Hearing placed on file\n",
        "OUTPUT: 1h20m\n",
        "INPUT: Toronto 17-JAN-2019  BEFORE The Honourable Madam Justice Elliott  Language: E  Before the Court:  Motion Doc. No. 3 on behalf of Applicant  Result of Hearing:  Matter reserved  held by way of Conference Call  Duration per day:  17-JAN-2019 from 11:30 to 12:23  Courtroom : Judge's Chambers - Toronto  Court Registrar: Alice Prodan Gil  Total Duration: 53min  Appearances:  Barbara Jackman/Sarah Boyd 416-653-9964 representing Applicant  Alex Kam 647-256-0743 representing Respondent  Comments: DARS back up used.  Minutes of Hearing entered in Vol. 368 page(s) 197 - 198  Abstract of Hearing placed on file\n",
        "OUPUT: 53m\n",
        "INPUT: Toronto 13-OCT-2012  BEFORE The Honourable Mr. Justice O'Keefe  Language: E  Before the Court:  Motion Doc. No. 3 on behalf of Applicant  Result of Hearing:  Matter reserved  held by way of Conference Call  Duration per day:  18-OCT-2012 from 12:00 to 01:30  Courtroom : Judge's Chambers - Toronto  Court Registrar: Charles Skelton  Total Duration: 1h30min  Appearances:  Adela Crossley 416-850-1073 representing Applicant  Tamrat Gebeyehu 416-973-9665 representing Respondent  Minutes of Hearing entered in Vol. 273 page(s) 8 - 9  Abstract of Hearing placed on file\n",
        "OUTPUT: 1h30m\n",
        "INPUT: Ottawa 16-JUL-2007  BEFORE The Honourable Madam Justice Snider  Language: E  Before the Court:  Motion Doc. No. 4 on behalf of Applicant  Result of Hearing: Heard with IMM-5405-06. Motion withdrawn.  held by way of Conference Call  Duration per day:  16-JUL-2007 from 09:30 to 11:30  Courtroom : Teleconference Room No. 1 - Toronto  Court Registrar: Lhaden Bhutia  Total Duration: 2h  Appearances:  Ronald Poulton 416-862-0000 representing Applicant  John Provart 416-973-1346 representing Respondent  Minutes of Hearing entered in Vol. 195 page(s) 345 - 350  Abstract of Hearing placed on file\n",
        "OUTPUT:\"\"\"\n",
        "response = get_completion(user_message, temperature = 0)"
      ]
    },
    {
      "cell_type": "code",
      "execution_count": 37,
      "metadata": {
        "id": "XKoT447F5UPQ",
        "outputId": "5335bd73-78f6-48b6-baf3-904436195cdc",
        "colab": {
          "base_uri": "https://localhost:8080/",
          "height": 36
        }
      },
      "outputs": [
        {
          "output_type": "execute_result",
          "data": {
            "text/plain": [
              "'2h'"
            ],
            "application/vnd.google.colaboratory.intrinsic+json": {
              "type": "string"
            }
          },
          "metadata": {},
          "execution_count": 37
        }
      ],
      "source": [
        "response"
      ]
    },
    {
      "cell_type": "code",
      "source": [],
      "metadata": {
        "id": "5AHCr4_nBr0p"
      },
      "execution_count": null,
      "outputs": []
    }
  ],
  "metadata": {
    "kernelspec": {
      "display_name": "venv",
      "language": "python",
      "name": "python3"
    },
    "language_info": {
      "codemirror_mode": {
        "name": "ipython",
        "version": 3
      },
      "file_extension": ".py",
      "mimetype": "text/x-python",
      "name": "python",
      "nbconvert_exporter": "python",
      "pygments_lexer": "ipython3",
      "version": "3.11.4"
    },
    "colab": {
      "provenance": [],
      "include_colab_link": true
    },
    "widgets": {
      "application/vnd.jupyter.widget-state+json": {
        "20790efc0f824849a203cb6f604985ed": {
          "model_module": "@jupyter-widgets/controls",
          "model_name": "HBoxModel",
          "model_module_version": "1.5.0",
          "state": {
            "_dom_classes": [],
            "_model_module": "@jupyter-widgets/controls",
            "_model_module_version": "1.5.0",
            "_model_name": "HBoxModel",
            "_view_count": null,
            "_view_module": "@jupyter-widgets/controls",
            "_view_module_version": "1.5.0",
            "_view_name": "HBoxView",
            "box_style": "",
            "children": [
              "IPY_MODEL_7c90f91641e04ff29a987904b1afab9d",
              "IPY_MODEL_40a09e6fa5e54de0af1a4c232ee7a1e7",
              "IPY_MODEL_6fa271f4f66845f3aecde442af9df5c6"
            ],
            "layout": "IPY_MODEL_ab02dbb6792c4f148af14655e41e5f31"
          }
        },
        "7c90f91641e04ff29a987904b1afab9d": {
          "model_module": "@jupyter-widgets/controls",
          "model_name": "HTMLModel",
          "model_module_version": "1.5.0",
          "state": {
            "_dom_classes": [],
            "_model_module": "@jupyter-widgets/controls",
            "_model_module_version": "1.5.0",
            "_model_name": "HTMLModel",
            "_view_count": null,
            "_view_module": "@jupyter-widgets/controls",
            "_view_module_version": "1.5.0",
            "_view_name": "HTMLView",
            "description": "",
            "description_tooltip": null,
            "layout": "IPY_MODEL_d2b88012c13544a78984cb900853cd40",
            "placeholder": "​",
            "style": "IPY_MODEL_7ab5af004a474e7faa22633d74781ffd",
            "value": "train.parquet: 100%"
          }
        },
        "40a09e6fa5e54de0af1a4c232ee7a1e7": {
          "model_module": "@jupyter-widgets/controls",
          "model_name": "FloatProgressModel",
          "model_module_version": "1.5.0",
          "state": {
            "_dom_classes": [],
            "_model_module": "@jupyter-widgets/controls",
            "_model_module_version": "1.5.0",
            "_model_name": "FloatProgressModel",
            "_view_count": null,
            "_view_module": "@jupyter-widgets/controls",
            "_view_module_version": "1.5.0",
            "_view_name": "ProgressView",
            "bar_style": "success",
            "description": "",
            "description_tooltip": null,
            "layout": "IPY_MODEL_4af20a90e60849548f0eaa99d8eb4ae0",
            "max": 783374058,
            "min": 0,
            "orientation": "horizontal",
            "style": "IPY_MODEL_9626e70c8c34435492ee1728272fd3a4",
            "value": 783374058
          }
        },
        "6fa271f4f66845f3aecde442af9df5c6": {
          "model_module": "@jupyter-widgets/controls",
          "model_name": "HTMLModel",
          "model_module_version": "1.5.0",
          "state": {
            "_dom_classes": [],
            "_model_module": "@jupyter-widgets/controls",
            "_model_module_version": "1.5.0",
            "_model_name": "HTMLModel",
            "_view_count": null,
            "_view_module": "@jupyter-widgets/controls",
            "_view_module_version": "1.5.0",
            "_view_name": "HTMLView",
            "description": "",
            "description_tooltip": null,
            "layout": "IPY_MODEL_56ca49720a134222b00b12549edf268b",
            "placeholder": "​",
            "style": "IPY_MODEL_817929d073194a0d8cbbf94cc2c3ff31",
            "value": " 783M/783M [00:12&lt;00:00, 80.5MB/s]"
          }
        },
        "ab02dbb6792c4f148af14655e41e5f31": {
          "model_module": "@jupyter-widgets/base",
          "model_name": "LayoutModel",
          "model_module_version": "1.2.0",
          "state": {
            "_model_module": "@jupyter-widgets/base",
            "_model_module_version": "1.2.0",
            "_model_name": "LayoutModel",
            "_view_count": null,
            "_view_module": "@jupyter-widgets/base",
            "_view_module_version": "1.2.0",
            "_view_name": "LayoutView",
            "align_content": null,
            "align_items": null,
            "align_self": null,
            "border": null,
            "bottom": null,
            "display": null,
            "flex": null,
            "flex_flow": null,
            "grid_area": null,
            "grid_auto_columns": null,
            "grid_auto_flow": null,
            "grid_auto_rows": null,
            "grid_column": null,
            "grid_gap": null,
            "grid_row": null,
            "grid_template_areas": null,
            "grid_template_columns": null,
            "grid_template_rows": null,
            "height": null,
            "justify_content": null,
            "justify_items": null,
            "left": null,
            "margin": null,
            "max_height": null,
            "max_width": null,
            "min_height": null,
            "min_width": null,
            "object_fit": null,
            "object_position": null,
            "order": null,
            "overflow": null,
            "overflow_x": null,
            "overflow_y": null,
            "padding": null,
            "right": null,
            "top": null,
            "visibility": null,
            "width": null
          }
        },
        "d2b88012c13544a78984cb900853cd40": {
          "model_module": "@jupyter-widgets/base",
          "model_name": "LayoutModel",
          "model_module_version": "1.2.0",
          "state": {
            "_model_module": "@jupyter-widgets/base",
            "_model_module_version": "1.2.0",
            "_model_name": "LayoutModel",
            "_view_count": null,
            "_view_module": "@jupyter-widgets/base",
            "_view_module_version": "1.2.0",
            "_view_name": "LayoutView",
            "align_content": null,
            "align_items": null,
            "align_self": null,
            "border": null,
            "bottom": null,
            "display": null,
            "flex": null,
            "flex_flow": null,
            "grid_area": null,
            "grid_auto_columns": null,
            "grid_auto_flow": null,
            "grid_auto_rows": null,
            "grid_column": null,
            "grid_gap": null,
            "grid_row": null,
            "grid_template_areas": null,
            "grid_template_columns": null,
            "grid_template_rows": null,
            "height": null,
            "justify_content": null,
            "justify_items": null,
            "left": null,
            "margin": null,
            "max_height": null,
            "max_width": null,
            "min_height": null,
            "min_width": null,
            "object_fit": null,
            "object_position": null,
            "order": null,
            "overflow": null,
            "overflow_x": null,
            "overflow_y": null,
            "padding": null,
            "right": null,
            "top": null,
            "visibility": null,
            "width": null
          }
        },
        "7ab5af004a474e7faa22633d74781ffd": {
          "model_module": "@jupyter-widgets/controls",
          "model_name": "DescriptionStyleModel",
          "model_module_version": "1.5.0",
          "state": {
            "_model_module": "@jupyter-widgets/controls",
            "_model_module_version": "1.5.0",
            "_model_name": "DescriptionStyleModel",
            "_view_count": null,
            "_view_module": "@jupyter-widgets/base",
            "_view_module_version": "1.2.0",
            "_view_name": "StyleView",
            "description_width": ""
          }
        },
        "4af20a90e60849548f0eaa99d8eb4ae0": {
          "model_module": "@jupyter-widgets/base",
          "model_name": "LayoutModel",
          "model_module_version": "1.2.0",
          "state": {
            "_model_module": "@jupyter-widgets/base",
            "_model_module_version": "1.2.0",
            "_model_name": "LayoutModel",
            "_view_count": null,
            "_view_module": "@jupyter-widgets/base",
            "_view_module_version": "1.2.0",
            "_view_name": "LayoutView",
            "align_content": null,
            "align_items": null,
            "align_self": null,
            "border": null,
            "bottom": null,
            "display": null,
            "flex": null,
            "flex_flow": null,
            "grid_area": null,
            "grid_auto_columns": null,
            "grid_auto_flow": null,
            "grid_auto_rows": null,
            "grid_column": null,
            "grid_gap": null,
            "grid_row": null,
            "grid_template_areas": null,
            "grid_template_columns": null,
            "grid_template_rows": null,
            "height": null,
            "justify_content": null,
            "justify_items": null,
            "left": null,
            "margin": null,
            "max_height": null,
            "max_width": null,
            "min_height": null,
            "min_width": null,
            "object_fit": null,
            "object_position": null,
            "order": null,
            "overflow": null,
            "overflow_x": null,
            "overflow_y": null,
            "padding": null,
            "right": null,
            "top": null,
            "visibility": null,
            "width": null
          }
        },
        "9626e70c8c34435492ee1728272fd3a4": {
          "model_module": "@jupyter-widgets/controls",
          "model_name": "ProgressStyleModel",
          "model_module_version": "1.5.0",
          "state": {
            "_model_module": "@jupyter-widgets/controls",
            "_model_module_version": "1.5.0",
            "_model_name": "ProgressStyleModel",
            "_view_count": null,
            "_view_module": "@jupyter-widgets/base",
            "_view_module_version": "1.2.0",
            "_view_name": "StyleView",
            "bar_color": null,
            "description_width": ""
          }
        },
        "56ca49720a134222b00b12549edf268b": {
          "model_module": "@jupyter-widgets/base",
          "model_name": "LayoutModel",
          "model_module_version": "1.2.0",
          "state": {
            "_model_module": "@jupyter-widgets/base",
            "_model_module_version": "1.2.0",
            "_model_name": "LayoutModel",
            "_view_count": null,
            "_view_module": "@jupyter-widgets/base",
            "_view_module_version": "1.2.0",
            "_view_name": "LayoutView",
            "align_content": null,
            "align_items": null,
            "align_self": null,
            "border": null,
            "bottom": null,
            "display": null,
            "flex": null,
            "flex_flow": null,
            "grid_area": null,
            "grid_auto_columns": null,
            "grid_auto_flow": null,
            "grid_auto_rows": null,
            "grid_column": null,
            "grid_gap": null,
            "grid_row": null,
            "grid_template_areas": null,
            "grid_template_columns": null,
            "grid_template_rows": null,
            "height": null,
            "justify_content": null,
            "justify_items": null,
            "left": null,
            "margin": null,
            "max_height": null,
            "max_width": null,
            "min_height": null,
            "min_width": null,
            "object_fit": null,
            "object_position": null,
            "order": null,
            "overflow": null,
            "overflow_x": null,
            "overflow_y": null,
            "padding": null,
            "right": null,
            "top": null,
            "visibility": null,
            "width": null
          }
        },
        "817929d073194a0d8cbbf94cc2c3ff31": {
          "model_module": "@jupyter-widgets/controls",
          "model_name": "DescriptionStyleModel",
          "model_module_version": "1.5.0",
          "state": {
            "_model_module": "@jupyter-widgets/controls",
            "_model_module_version": "1.5.0",
            "_model_name": "DescriptionStyleModel",
            "_view_count": null,
            "_view_module": "@jupyter-widgets/base",
            "_view_module_version": "1.2.0",
            "_view_name": "StyleView",
            "description_width": ""
          }
        },
        "bee5e765cac34ae89e78e72c3cddbc83": {
          "model_module": "@jupyter-widgets/controls",
          "model_name": "HBoxModel",
          "model_module_version": "1.5.0",
          "state": {
            "_dom_classes": [],
            "_model_module": "@jupyter-widgets/controls",
            "_model_module_version": "1.5.0",
            "_model_name": "HBoxModel",
            "_view_count": null,
            "_view_module": "@jupyter-widgets/controls",
            "_view_module_version": "1.5.0",
            "_view_name": "HBoxView",
            "box_style": "",
            "children": [
              "IPY_MODEL_87fb60bad4734438a92dd445f1cbb58a",
              "IPY_MODEL_22c0d758dffd490fb8a371a7fc80aec5",
              "IPY_MODEL_c5f2a0d2deb24b9797ee93aa17c175ef"
            ],
            "layout": "IPY_MODEL_7c49a3c4d2974a8a82fd479df2b93e39"
          }
        },
        "87fb60bad4734438a92dd445f1cbb58a": {
          "model_module": "@jupyter-widgets/controls",
          "model_name": "HTMLModel",
          "model_module_version": "1.5.0",
          "state": {
            "_dom_classes": [],
            "_model_module": "@jupyter-widgets/controls",
            "_model_module_version": "1.5.0",
            "_model_name": "HTMLModel",
            "_view_count": null,
            "_view_module": "@jupyter-widgets/controls",
            "_view_module_version": "1.5.0",
            "_view_name": "HTMLView",
            "description": "",
            "description_tooltip": null,
            "layout": "IPY_MODEL_d2050dec4d0a44329d527e2b7ec45a52",
            "placeholder": "​",
            "style": "IPY_MODEL_d3929b74868a4e8d9223008ea2ed056c",
            "value": "Generating train split: "
          }
        },
        "22c0d758dffd490fb8a371a7fc80aec5": {
          "model_module": "@jupyter-widgets/controls",
          "model_name": "FloatProgressModel",
          "model_module_version": "1.5.0",
          "state": {
            "_dom_classes": [],
            "_model_module": "@jupyter-widgets/controls",
            "_model_module_version": "1.5.0",
            "_model_name": "FloatProgressModel",
            "_view_count": null,
            "_view_module": "@jupyter-widgets/controls",
            "_view_module_version": "1.5.0",
            "_view_name": "ProgressView",
            "bar_style": "success",
            "description": "",
            "description_tooltip": null,
            "layout": "IPY_MODEL_42879df93ad4444b9bc709dedb051a20",
            "max": 1,
            "min": 0,
            "orientation": "horizontal",
            "style": "IPY_MODEL_6e4378f422de49b18358f3b73d2538c2",
            "value": 1
          }
        },
        "c5f2a0d2deb24b9797ee93aa17c175ef": {
          "model_module": "@jupyter-widgets/controls",
          "model_name": "HTMLModel",
          "model_module_version": "1.5.0",
          "state": {
            "_dom_classes": [],
            "_model_module": "@jupyter-widgets/controls",
            "_model_module_version": "1.5.0",
            "_model_name": "HTMLModel",
            "_view_count": null,
            "_view_module": "@jupyter-widgets/controls",
            "_view_module_version": "1.5.0",
            "_view_name": "HTMLView",
            "description": "",
            "description_tooltip": null,
            "layout": "IPY_MODEL_c048bf442eac424886815b8642d04444",
            "placeholder": "​",
            "style": "IPY_MODEL_358dd3c448524ca192b18105a697d0fd",
            "value": " 63568/0 [00:24&lt;00:00, 2578.30 examples/s]"
          }
        },
        "7c49a3c4d2974a8a82fd479df2b93e39": {
          "model_module": "@jupyter-widgets/base",
          "model_name": "LayoutModel",
          "model_module_version": "1.2.0",
          "state": {
            "_model_module": "@jupyter-widgets/base",
            "_model_module_version": "1.2.0",
            "_model_name": "LayoutModel",
            "_view_count": null,
            "_view_module": "@jupyter-widgets/base",
            "_view_module_version": "1.2.0",
            "_view_name": "LayoutView",
            "align_content": null,
            "align_items": null,
            "align_self": null,
            "border": null,
            "bottom": null,
            "display": null,
            "flex": null,
            "flex_flow": null,
            "grid_area": null,
            "grid_auto_columns": null,
            "grid_auto_flow": null,
            "grid_auto_rows": null,
            "grid_column": null,
            "grid_gap": null,
            "grid_row": null,
            "grid_template_areas": null,
            "grid_template_columns": null,
            "grid_template_rows": null,
            "height": null,
            "justify_content": null,
            "justify_items": null,
            "left": null,
            "margin": null,
            "max_height": null,
            "max_width": null,
            "min_height": null,
            "min_width": null,
            "object_fit": null,
            "object_position": null,
            "order": null,
            "overflow": null,
            "overflow_x": null,
            "overflow_y": null,
            "padding": null,
            "right": null,
            "top": null,
            "visibility": null,
            "width": null
          }
        },
        "d2050dec4d0a44329d527e2b7ec45a52": {
          "model_module": "@jupyter-widgets/base",
          "model_name": "LayoutModel",
          "model_module_version": "1.2.0",
          "state": {
            "_model_module": "@jupyter-widgets/base",
            "_model_module_version": "1.2.0",
            "_model_name": "LayoutModel",
            "_view_count": null,
            "_view_module": "@jupyter-widgets/base",
            "_view_module_version": "1.2.0",
            "_view_name": "LayoutView",
            "align_content": null,
            "align_items": null,
            "align_self": null,
            "border": null,
            "bottom": null,
            "display": null,
            "flex": null,
            "flex_flow": null,
            "grid_area": null,
            "grid_auto_columns": null,
            "grid_auto_flow": null,
            "grid_auto_rows": null,
            "grid_column": null,
            "grid_gap": null,
            "grid_row": null,
            "grid_template_areas": null,
            "grid_template_columns": null,
            "grid_template_rows": null,
            "height": null,
            "justify_content": null,
            "justify_items": null,
            "left": null,
            "margin": null,
            "max_height": null,
            "max_width": null,
            "min_height": null,
            "min_width": null,
            "object_fit": null,
            "object_position": null,
            "order": null,
            "overflow": null,
            "overflow_x": null,
            "overflow_y": null,
            "padding": null,
            "right": null,
            "top": null,
            "visibility": null,
            "width": null
          }
        },
        "d3929b74868a4e8d9223008ea2ed056c": {
          "model_module": "@jupyter-widgets/controls",
          "model_name": "DescriptionStyleModel",
          "model_module_version": "1.5.0",
          "state": {
            "_model_module": "@jupyter-widgets/controls",
            "_model_module_version": "1.5.0",
            "_model_name": "DescriptionStyleModel",
            "_view_count": null,
            "_view_module": "@jupyter-widgets/base",
            "_view_module_version": "1.2.0",
            "_view_name": "StyleView",
            "description_width": ""
          }
        },
        "42879df93ad4444b9bc709dedb051a20": {
          "model_module": "@jupyter-widgets/base",
          "model_name": "LayoutModel",
          "model_module_version": "1.2.0",
          "state": {
            "_model_module": "@jupyter-widgets/base",
            "_model_module_version": "1.2.0",
            "_model_name": "LayoutModel",
            "_view_count": null,
            "_view_module": "@jupyter-widgets/base",
            "_view_module_version": "1.2.0",
            "_view_name": "LayoutView",
            "align_content": null,
            "align_items": null,
            "align_self": null,
            "border": null,
            "bottom": null,
            "display": null,
            "flex": null,
            "flex_flow": null,
            "grid_area": null,
            "grid_auto_columns": null,
            "grid_auto_flow": null,
            "grid_auto_rows": null,
            "grid_column": null,
            "grid_gap": null,
            "grid_row": null,
            "grid_template_areas": null,
            "grid_template_columns": null,
            "grid_template_rows": null,
            "height": null,
            "justify_content": null,
            "justify_items": null,
            "left": null,
            "margin": null,
            "max_height": null,
            "max_width": null,
            "min_height": null,
            "min_width": null,
            "object_fit": null,
            "object_position": null,
            "order": null,
            "overflow": null,
            "overflow_x": null,
            "overflow_y": null,
            "padding": null,
            "right": null,
            "top": null,
            "visibility": null,
            "width": "20px"
          }
        },
        "6e4378f422de49b18358f3b73d2538c2": {
          "model_module": "@jupyter-widgets/controls",
          "model_name": "ProgressStyleModel",
          "model_module_version": "1.5.0",
          "state": {
            "_model_module": "@jupyter-widgets/controls",
            "_model_module_version": "1.5.0",
            "_model_name": "ProgressStyleModel",
            "_view_count": null,
            "_view_module": "@jupyter-widgets/base",
            "_view_module_version": "1.2.0",
            "_view_name": "StyleView",
            "bar_color": null,
            "description_width": ""
          }
        },
        "c048bf442eac424886815b8642d04444": {
          "model_module": "@jupyter-widgets/base",
          "model_name": "LayoutModel",
          "model_module_version": "1.2.0",
          "state": {
            "_model_module": "@jupyter-widgets/base",
            "_model_module_version": "1.2.0",
            "_model_name": "LayoutModel",
            "_view_count": null,
            "_view_module": "@jupyter-widgets/base",
            "_view_module_version": "1.2.0",
            "_view_name": "LayoutView",
            "align_content": null,
            "align_items": null,
            "align_self": null,
            "border": null,
            "bottom": null,
            "display": null,
            "flex": null,
            "flex_flow": null,
            "grid_area": null,
            "grid_auto_columns": null,
            "grid_auto_flow": null,
            "grid_auto_rows": null,
            "grid_column": null,
            "grid_gap": null,
            "grid_row": null,
            "grid_template_areas": null,
            "grid_template_columns": null,
            "grid_template_rows": null,
            "height": null,
            "justify_content": null,
            "justify_items": null,
            "left": null,
            "margin": null,
            "max_height": null,
            "max_width": null,
            "min_height": null,
            "min_width": null,
            "object_fit": null,
            "object_position": null,
            "order": null,
            "overflow": null,
            "overflow_x": null,
            "overflow_y": null,
            "padding": null,
            "right": null,
            "top": null,
            "visibility": null,
            "width": null
          }
        },
        "358dd3c448524ca192b18105a697d0fd": {
          "model_module": "@jupyter-widgets/controls",
          "model_name": "DescriptionStyleModel",
          "model_module_version": "1.5.0",
          "state": {
            "_model_module": "@jupyter-widgets/controls",
            "_model_module_version": "1.5.0",
            "_model_name": "DescriptionStyleModel",
            "_view_count": null,
            "_view_module": "@jupyter-widgets/base",
            "_view_module_version": "1.2.0",
            "_view_name": "StyleView",
            "description_width": ""
          }
        }
      }
    }
  },
  "nbformat": 4,
  "nbformat_minor": 0
}