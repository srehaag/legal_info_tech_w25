{
  "nbformat": 4,
  "nbformat_minor": 0,
  "metadata": {
    "colab": {
      "provenance": [],
      "authorship_tag": "ABX9TyMD3pRjT6D3KbmC4R/YtFsL",
      "include_colab_link": true
    },
    "kernelspec": {
      "name": "python3",
      "display_name": "Python 3"
    },
    "language_info": {
      "name": "python"
    }
  },
  "cells": [
    {
      "cell_type": "markdown",
      "metadata": {
        "id": "view-in-github",
        "colab_type": "text"
      },
      "source": [
        "<a href=\"https://colab.research.google.com/github/srehaag/legal_info_tech_w25/blob/main/Module1_Assignment_w25.ipynb\" target=\"_parent\"><img src=\"https://colab.research.google.com/assets/colab-badge.svg\" alt=\"Open In Colab\"/></a>"
      ]
    },
    {
      "cell_type": "markdown",
      "source": [
        "# Module 1: Assignment"
      ],
      "metadata": {
        "id": "j53IMWZWhfDK"
      }
    },
    {
      "cell_type": "markdown",
      "source": [
        "## Instructions\n",
        "\n",
        "You should begin by viewing Lesson 1 on eClass (and note that the lesson includes a link to the notebook used in the videos).\n",
        "\n",
        "Next, everyone should attempt to complete the beginner section of this assignment. If you are interested you can continue to intermediate and advanced. Whether you choose to go beyond the beginner section will not affect your participation grade, but some of the skills you learn (or relearn) may be helpful for your final project for the course.\n",
        "\n",
        "\n",
        "In addiction, everyone should complete the final reflection section.\n",
        "\n",
        "\n",
        "Combined, the lesson and assignment should not take you more than three hours -- so if you get to that point, just move on to the reflective section (and add a text/markdown cell to the notebook indicating where you stopped and saying that you hit the 3 hour limit).\n",
        "\n",
        "\n",
        "When you have finished, upload a copy of the .ipynb file to eClass assignment page.\n",
        "\n",
        "NOTE: If you are using Colab and you downloaded this file by clicking on \"Open in Colab\" on Github, make sure to save a copy of this file on your Google Drive by selecting File, Save."
      ],
      "metadata": {
        "id": "SBuT-jilhhaa"
      }
    },
    {
      "cell_type": "markdown",
      "source": [
        "## Beginner"
      ],
      "metadata": {
        "id": "1MqdEStpjxTi"
      }
    },
    {
      "cell_type": "markdown",
      "source": [
        "### Beginner Question 1:\n",
        "\n",
        "Using the code cell below, print Hello World."
      ],
      "metadata": {
        "id": "fp6BDkzWibvp"
      }
    },
    {
      "cell_type": "code",
      "source": [],
      "metadata": {
        "id": "GvFJLRaxibBC"
      },
      "execution_count": null,
      "outputs": []
    },
    {
      "cell_type": "markdown",
      "source": [
        "### Beginner Question 2:\n",
        "\n",
        "In 1982, the Charter of Rights and Freedoms came into force. In 2005, Parliament enacted the Civil Marriage Act, which allowed same-sex couples to marry. Assume for the sake of simplicity that both happened on the same day of the year.\n",
        "\n",
        "In the code cell below, create a variable with the year the Charter of Rights and Freedoms came into force.\n",
        "\n",
        "Then create a variable with the year the Civil Marriage Act was passed.\n",
        "\n",
        "Next, create a variable that stores the calculated result of the number of years between the first and second variable.\n",
        "\n",
        "Then print: \"Canada legalized same-sex marraige # years after the Charter of Rights of Freedoms came into force\"."
      ],
      "metadata": {
        "id": "qLsPjUNepZgS"
      }
    },
    {
      "cell_type": "code",
      "source": [],
      "metadata": {
        "id": "YQEb0c9xpYtK"
      },
      "execution_count": null,
      "outputs": []
    },
    {
      "cell_type": "markdown",
      "source": [
        "### Beginner Question 3:\n",
        "\n",
        "The code cell below includes a list of SCC judges. Using this list, produce this exact output using the print function:\n",
        "\n",
        "Justice Richard Wagner\n",
        "\n",
        "Justice Andromache Karakatsanis\n",
        "\n",
        "Justice Suzanne Côté\n",
        "\n",
        "Justice Malcolm Rowe\n",
        "\n",
        "Justice Sheilah Martin\n",
        "\n",
        "Justice Nicholas Kasirer\n",
        "\n",
        "Justice Mahmud Jamal\n",
        "\n",
        "Justice Michelle O'Bonsawin\n",
        "\n",
        "Justice Mary Moreau"
      ],
      "metadata": {
        "id": "WJm5ZIaime-S"
      }
    },
    {
      "cell_type": "code",
      "source": [
        "list_of_judges = [\n",
        "    \"Richard Wagner\",\n",
        "    \"Andromache Karakatsanis\",\n",
        "    \"Suzanne Côté\",\n",
        "    \"Malcolm Rowe\",\n",
        "    \"Sheilah Martin\",\n",
        "    \"Nicholas Kasirer\",\n",
        "    \"Mahmud Jamal\",\n",
        "    \"Michelle O'Bonsawin\",\n",
        "    \"Mary Moreau\"\n",
        "]\n"
      ],
      "metadata": {
        "id": "cwptkzOKnGQC"
      },
      "execution_count": null,
      "outputs": []
    },
    {
      "cell_type": "markdown",
      "source": [
        "### Beginner Question 4:\n",
        "\n",
        "Using the same list as for the prior question (and without making any changes to the list itself), produce the same output as before, but for Wagner indicate \"Chief Justice Richard Wagner\" rather than Justice Richard Wagner. The outputs for the other judges should remain the same."
      ],
      "metadata": {
        "id": "oyOio2R1pc3p"
      }
    },
    {
      "cell_type": "code",
      "source": [],
      "metadata": {
        "id": "wI07-JsxpdAR"
      },
      "execution_count": null,
      "outputs": []
    },
    {
      "cell_type": "markdown",
      "source": [
        "### Beginner Question 5:\n",
        "\n",
        "Run the code cell below. It should not work properly. Fix the code and run it."
      ],
      "metadata": {
        "id": "bnBydme8pgJx"
      }
    },
    {
      "cell_type": "code",
      "source": [
        "# Check if 2023 in citation\n",
        "\n",
        "citation = \"2023 SCC 17\"\n",
        "\n",
        "if 2023 in citation:\n",
        "print(\"Yes 2023 is in the citation\")\n",
        "else:\n",
        "print(\"No, 2023 is not in the citation)"
      ],
      "metadata": {
        "id": "fJ7PTXErpgRp"
      },
      "execution_count": null,
      "outputs": []
    },
    {
      "cell_type": "markdown",
      "source": [
        "## Intermediate"
      ],
      "metadata": {
        "id": "K8jpa6OkR29O"
      }
    },
    {
      "cell_type": "markdown",
      "source": [
        "### Intermediate Question 1:\n",
        "\n",
        "The code cell below includes a dictionary with the highest neutral citation for Federal Court cases for several years. For example in 2020, neutral citations go from \"2020 FC 1\" to \"2020 FC 6805\". In other words, the first federal court case in 2020 is \"2020 FC 1\", the second is \"2020 FC 2\", and so on until \"2020 FC 6805\".\n",
        "\n",
        "Create a variable with a dictionary that uses each year from 2013 to 2022 as keys, and the values associated with those keys should be a list of all the neutral citations for that year. You can imagine that this dictionary would be used to scrape each decision from the federal court website.\n"
      ],
      "metadata": {
        "id": "LJzGVAYATBUt"
      }
    },
    {
      "cell_type": "code",
      "source": [
        "highest_neutral_citation =  {\n",
        "    2013: 8428,\n",
        "    2014: 8508,\n",
        "    2015: 5901,\n",
        "    2016: 5412,\n",
        "    2017: 5641,\n",
        "    2018: 6616,\n",
        "    2019: 7910,\n",
        "    2020: 6805,\n",
        "    2021: 9832,\n",
        "    2022: 13672\n",
        "}\n",
        "\n"
      ],
      "metadata": {
        "id": "BWJPqqs7TBc1"
      },
      "execution_count": null,
      "outputs": []
    },
    {
      "cell_type": "markdown",
      "source": [
        "### Intermediate Question 2:\n",
        "\n",
        "Run the code cell below. It should not work as expected. Fix the code and run it."
      ],
      "metadata": {
        "id": "Zgq5qhX3kHWK"
      }
    },
    {
      "cell_type": "code",
      "execution_count": null,
      "metadata": {
        "id": "-BKC_Qgbe5_v"
      },
      "outputs": [],
      "source": [
        "# Say hello to all 9 SCC judges from the list of judges\n",
        "# in beginner question 3\n",
        "\n",
        "def say_hi(name)\n",
        "  print(\"Hello \" + name)\n",
        "\n",
        "def say_hi_to_judges(list of judges)\n",
        "  for judge in range(list_of_judges)\n",
        "    say_hello(judge)\n",
        "    return none\n",
        "\n",
        "say_hi_to_judges(list_of_judges)\n"
      ]
    },
    {
      "cell_type": "markdown",
      "source": [
        "## Advanced"
      ],
      "metadata": {
        "id": "0siJHftyXBuG"
      }
    },
    {
      "cell_type": "markdown",
      "source": [
        "### Advanced Question 1:\n",
        "\n",
        "Search for coding exercises that you have completed in the past, perhaps for a course. If you don't have any on hand, you can find some problem sets in Harvard's [CS50](https://cs50.harvard.edu/python/2022). Use generative AI prompts (in Colab's generate with AI function, Github's CoPilot, or OpenAI's ChatGPT) to create code that solves the problem. Does the code provided work? Is it similar to how you would have solved the problem? Paste one example below."
      ],
      "metadata": {
        "id": "73qH81H1CkIF"
      }
    },
    {
      "cell_type": "code",
      "source": [],
      "metadata": {
        "id": "cTDVXOCwELgV"
      },
      "execution_count": null,
      "outputs": []
    },
    {
      "cell_type": "markdown",
      "source": [
        "## Reflection\n",
        "\n",
        "Add a markdown (text) cell below and describe something that you learned in completing this module that you found challenging or interesting and explain why (approx 200-400 words). Try to use formatting (headings, etc)."
      ],
      "metadata": {
        "id": "6R2dPDd7i81B"
      }
    }
  ]
}