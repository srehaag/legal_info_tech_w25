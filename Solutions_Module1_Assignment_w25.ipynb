{
  "nbformat": 4,
  "nbformat_minor": 0,
  "metadata": {
    "colab": {
      "provenance": [],
      "authorship_tag": "ABX9TyMHQGT0qkXUEMRwBNExs6Ak",
      "include_colab_link": true
    },
    "kernelspec": {
      "name": "python3",
      "display_name": "Python 3"
    },
    "language_info": {
      "name": "python"
    }
  },
  "cells": [
    {
      "cell_type": "markdown",
      "metadata": {
        "id": "view-in-github",
        "colab_type": "text"
      },
      "source": [
        "<a href=\"https://colab.research.google.com/github/srehaag/legal_info_tech_w25/blob/main/Solutions_Module1_Assignment_w25.ipynb\" target=\"_parent\"><img src=\"https://colab.research.google.com/assets/colab-badge.svg\" alt=\"Open In Colab\"/></a>"
      ]
    },
    {
      "cell_type": "markdown",
      "source": [
        "# Module 1: Assignment Solutions"
      ],
      "metadata": {
        "id": "j53IMWZWhfDK"
      }
    },
    {
      "cell_type": "markdown",
      "source": [
        "\n",
        "There isn't usually just one way to solve a coding problem. This notebook offers some examples of how you might approach the assignment questions -- but these are not the only possible approaches.\n",
        "\n",
        "Recall that while module 1 does not count towards your grade, the other modules are graded as a compoent of particiaption grades on a fail, pass, high pass basis. Students receive a high pass if they make a meaningful effort to complete the module. Pass grades are where students mostly complete the assignment but should have put more effort into the assignment. And fail is where the assignment is not mostly complete and insufficient effort was put into the assignment.\n",
        "\n",
        "If you would like further feedback on your completed assignment, including invidivualized feedback on your coding, please drop in during the \"Study with me\" sessions, or reach out by email.\n"
      ],
      "metadata": {
        "id": "SBuT-jilhhaa"
      }
    },
    {
      "cell_type": "markdown",
      "source": [
        "## Beginner"
      ],
      "metadata": {
        "id": "1MqdEStpjxTi"
      }
    },
    {
      "cell_type": "markdown",
      "source": [
        "### Beginner Question 1:\n",
        "\n",
        "Using the code cell below, print Hello World."
      ],
      "metadata": {
        "id": "fp6BDkzWibvp"
      }
    },
    {
      "cell_type": "code",
      "source": [
        "print(\"Hello World\")"
      ],
      "metadata": {
        "id": "GvFJLRaxibBC",
        "colab": {
          "base_uri": "https://localhost:8080/"
        },
        "outputId": "ecab9bdf-f0a8-4331-9282-85f88bc4740a"
      },
      "execution_count": 1,
      "outputs": [
        {
          "output_type": "stream",
          "name": "stdout",
          "text": [
            "Hello World\n"
          ]
        }
      ]
    },
    {
      "cell_type": "markdown",
      "source": [
        "### Beginner Question 2:\n",
        "\n",
        "In 1982, the Charter of Rights and Freedoms came into force. In 2005, Parliament enacted the Civil Marriage Act, which allowed same-sex couples to marry. Assume for the sake of simplicity that both happened on the same day of the year.\n",
        "\n",
        "In the code cell below, create a variable with the year the Charter of Rights and Freedoms came into force.\n",
        "\n",
        "Then create a variable with the year the Civil Marriage Act was passed.\n",
        "\n",
        "Next, create a variable that stores the calculated result of the number of years between the first and second variable.\n",
        "\n",
        "Then print: \"Canada legalized same-sex marraige # years after the Charter of Rights of Freedoms came into force\"."
      ],
      "metadata": {
        "id": "qLsPjUNepZgS"
      }
    },
    {
      "cell_type": "code",
      "source": [
        "charter_year = 1982\n",
        "civil_marriage_year = 2005\n",
        "years_between = civil_marriage_year - charter_year\n",
        "print(\"Canada legalized same-sex marriage\", years_between, \"years after the Charter of Rights of Freedoms came into force\")"
      ],
      "metadata": {
        "id": "YQEb0c9xpYtK",
        "colab": {
          "base_uri": "https://localhost:8080/"
        },
        "outputId": "91be3bd2-ae22-409a-8060-fb0bea3db8ad"
      },
      "execution_count": 2,
      "outputs": [
        {
          "output_type": "stream",
          "name": "stdout",
          "text": [
            "Canada legalized same-sex marriage 23 years after the Charter of Rights of Freedoms came into force\n"
          ]
        }
      ]
    },
    {
      "cell_type": "markdown",
      "source": [
        "### Beginner Question 3:\n",
        "\n",
        "The code cell below includes a list of SCC judges. Using this list, produce this exact output using the print function:\n",
        "\n",
        "Justice Richard Wagner\n",
        "\n",
        "Justice Andromache Karakatsanis\n",
        "\n",
        "Justice Suzanne Côté\n",
        "\n",
        "Justice Malcolm Rowe\n",
        "\n",
        "Justice Sheilah Martin\n",
        "\n",
        "Justice Nicholas Kasirer\n",
        "\n",
        "Justice Mahmud Jamal\n",
        "\n",
        "Justice Michelle O'Bonsawin\n",
        "\n",
        "Justice Mary Moreau"
      ],
      "metadata": {
        "id": "WJm5ZIaime-S"
      }
    },
    {
      "cell_type": "code",
      "source": [
        "list_of_judges = [\n",
        "    \"Richard Wagner\",\n",
        "    \"Andromache Karakatsanis\",\n",
        "    \"Suzanne Côté\",\n",
        "    \"Malcolm Rowe\",\n",
        "    \"Sheilah Martin\",\n",
        "    \"Nicholas Kasirer\",\n",
        "    \"Mahmud Jamal\",\n",
        "    \"Michelle O'Bonsawin\",\n",
        "    \"Mary Moreau\"\n",
        "]\n",
        "\n",
        "for judge in list_of_judges:\n",
        "  print(\"Justice\", judge)"
      ],
      "metadata": {
        "id": "cwptkzOKnGQC",
        "colab": {
          "base_uri": "https://localhost:8080/"
        },
        "outputId": "afc2ffc2-a7f6-457c-e179-aef43c5cacbe"
      },
      "execution_count": 3,
      "outputs": [
        {
          "output_type": "stream",
          "name": "stdout",
          "text": [
            "Justice Richard Wagner\n",
            "Justice Andromache Karakatsanis\n",
            "Justice Suzanne Côté\n",
            "Justice Malcolm Rowe\n",
            "Justice Sheilah Martin\n",
            "Justice Nicholas Kasirer\n",
            "Justice Mahmud Jamal\n",
            "Justice Michelle O'Bonsawin\n",
            "Justice Mary Moreau\n"
          ]
        }
      ]
    },
    {
      "cell_type": "markdown",
      "source": [
        "### Beginner Question 4:\n",
        "\n",
        "Using the same list as for the prior question (and without making any changes to the list itself), produce the same output as before, but for Wagner indicate \"Chief Justice Richard Wagner\" rather than Justice Richard Wagner. The outputs for the other judges should remain the same."
      ],
      "metadata": {
        "id": "oyOio2R1pc3p"
      }
    },
    {
      "cell_type": "code",
      "source": [
        "for judge in list_of_judges:\n",
        "  if judge == \"Richard Wagner\":\n",
        "    print(\"Chief Justice\", judge)\n",
        "  else:\n",
        "    print(\"Justice\", judge)"
      ],
      "metadata": {
        "id": "wI07-JsxpdAR",
        "colab": {
          "base_uri": "https://localhost:8080/"
        },
        "outputId": "2d38e092-47e4-41f8-d38c-c58375d3a061"
      },
      "execution_count": 4,
      "outputs": [
        {
          "output_type": "stream",
          "name": "stdout",
          "text": [
            "Chief Justice Richard Wagner\n",
            "Justice Andromache Karakatsanis\n",
            "Justice Suzanne Côté\n",
            "Justice Malcolm Rowe\n",
            "Justice Sheilah Martin\n",
            "Justice Nicholas Kasirer\n",
            "Justice Mahmud Jamal\n",
            "Justice Michelle O'Bonsawin\n",
            "Justice Mary Moreau\n"
          ]
        }
      ]
    },
    {
      "cell_type": "markdown",
      "source": [
        "### Beginner Question 5:\n",
        "\n",
        "Run the code cell below. It should not work properly. Fix the code and run it."
      ],
      "metadata": {
        "id": "bnBydme8pgJx"
      }
    },
    {
      "cell_type": "code",
      "source": [
        "# Check if 2023 in citation\n",
        "\n",
        "citation = \"2023 SCC 17\"\n",
        "\n",
        "if \"2023\" in citation:\n",
        "  print(\"Yes 2023 is in the citation\")\n",
        "else:\n",
        "  print(\"No, 2023 is not in the citation\")"
      ],
      "metadata": {
        "id": "fJ7PTXErpgRp",
        "colab": {
          "base_uri": "https://localhost:8080/"
        },
        "outputId": "184b6cff-a744-4a3d-d07a-ab27ae6dd77e"
      },
      "execution_count": 5,
      "outputs": [
        {
          "output_type": "stream",
          "name": "stdout",
          "text": [
            "Yes 2023 is in the citation\n"
          ]
        }
      ]
    },
    {
      "cell_type": "markdown",
      "source": [
        "## Intermediate"
      ],
      "metadata": {
        "id": "K8jpa6OkR29O"
      }
    },
    {
      "cell_type": "markdown",
      "source": [
        "### Intermediate Question 1:\n",
        "\n",
        "The code cell below includes a dictionary with the highest neutral citation for Federal Court cases for several years. For example in 2020, neutral citations go from \"2020 FC 1\" to \"2020 FC 6805\". In other words, the first federal court case in 2020 is \"2020 FC 1\", the second is \"2020 FC 2\", and so on until \"2020 FC 6805\".\n",
        "\n",
        "Create a variable with a dictionary that uses each year from 2013 to 2022 as keys, and the values associated with those keys should be a list of all the neutral citations for that year. You can imagine that this dictionary would be used to scrape each decision from the federal court website.\n"
      ],
      "metadata": {
        "id": "LJzGVAYATBUt"
      }
    },
    {
      "cell_type": "code",
      "source": [
        "highest_neutral_citation =  {\n",
        "    2013: 8428,\n",
        "    2014: 8508,\n",
        "    2015: 5901,\n",
        "    2016: 5412,\n",
        "    2017: 5641,\n",
        "    2018: 6616,\n",
        "    2019: 7910,\n",
        "    2020: 6805,\n",
        "    2021: 9832,\n",
        "    2022: 13672\n",
        "}\n",
        "\n",
        "# create blank dictionary to store results\n",
        "results = {}\n",
        "\n",
        "# loop through each year in the highest_neutral_citation dictionary\n",
        "for year in highest_neutral_citation:\n",
        "\n",
        "  # create blank list to store the yearly results\n",
        "  yearly_results = []\n",
        "\n",
        "  # loop through each citation, from year FC 1 to year FC highest citation\n",
        "  # and add to yearly results list\n",
        "  for cite in range(1, highest_neutral_citation[year] + 1):\n",
        "    citation = f'{year} FC {cite}'\n",
        "    yearly_results.append(citation)\n",
        "\n",
        "  # add the list of citations for the year to the results dictionary\n",
        "  results[year] = yearly_results"
      ],
      "metadata": {
        "id": "BWJPqqs7TBc1"
      },
      "execution_count": 4,
      "outputs": []
    },
    {
      "cell_type": "code",
      "source": [
        "# Alternative approaching using dictionary comprehension and list comprehension\n",
        "results = {\n",
        "    year: [f'{year} FC {cite}' for cite in range(1, highest_neutral_citation[year] + 1)]\n",
        "    for year in highest_neutral_citation\n",
        "}"
      ],
      "metadata": {
        "id": "-aPHxGZ3_o7O"
      },
      "execution_count": 5,
      "outputs": []
    },
    {
      "cell_type": "markdown",
      "source": [
        "### Intermediate Question 2:\n",
        "\n",
        "Run the code cell below. It should not work as expected. Fix the code and run it."
      ],
      "metadata": {
        "id": "Zgq5qhX3kHWK"
      }
    },
    {
      "cell_type": "code",
      "execution_count": 16,
      "metadata": {
        "id": "-BKC_Qgbe5_v",
        "colab": {
          "base_uri": "https://localhost:8080/"
        },
        "outputId": "89c56bad-5292-4706-c977-cf9e263607d5"
      },
      "outputs": [
        {
          "output_type": "stream",
          "name": "stdout",
          "text": [
            "Hello Richard Wagner\n",
            "Hello Andromache Karakatsanis\n",
            "Hello Suzanne Côté\n",
            "Hello Malcolm Rowe\n",
            "Hello Sheilah Martin\n",
            "Hello Nicholas Kasirer\n",
            "Hello Mahmud Jamal\n",
            "Hello Michelle O'Bonsawin\n",
            "Hello Mary Moreau\n"
          ]
        }
      ],
      "source": [
        "# Say hello to all 9 SCC judges from the list of judges\n",
        "# in beginner question 3\n",
        "\n",
        "def say_hi(name):\n",
        "  print(\"Hello \" + name)\n",
        "\n",
        "def say_hi_to_judges(list_of_judges):\n",
        "  for judge in list_of_judges:\n",
        "    say_hi(judge)\n",
        "\n",
        "say_hi_to_judges(list_of_judges)\n"
      ]
    }
  ]
}