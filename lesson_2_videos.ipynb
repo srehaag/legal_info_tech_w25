{
  "cells": [
    {
      "cell_type": "markdown",
      "metadata": {
        "id": "view-in-github",
        "colab_type": "text"
      },
      "source": [
        "<a href=\"https://colab.research.google.com/github/srehaag/legal_info_tech_w25/blob/main/lesson_2_videos.ipynb\" target=\"_parent\"><img src=\"https://colab.research.google.com/assets/colab-badge.svg\" alt=\"Open In Colab\"/></a>"
      ]
    },
    {
      "cell_type": "markdown",
      "metadata": {
        "id": "FabAEkVI-iIV"
      },
      "source": [
        "# Notebook for Lesson 2 Videos: Data Gathering & Cleaning"
      ]
    },
    {
      "cell_type": "markdown",
      "metadata": {
        "id": "8n2aktgr-iIX"
      },
      "source": [
        "#### Functions & Methods"
      ]
    },
    {
      "cell_type": "code",
      "execution_count": null,
      "metadata": {
        "id": "St6SsiKB-iIX"
      },
      "outputs": [],
      "source": [
        "def hello_world():\n",
        "    print(\"Hello World!\")\n",
        "\n",
        "hello_world()"
      ]
    },
    {
      "cell_type": "code",
      "execution_count": null,
      "metadata": {
        "id": "c-wDp2rM-iIY"
      },
      "outputs": [],
      "source": [
        "hello_world()"
      ]
    },
    {
      "cell_type": "code",
      "execution_count": null,
      "metadata": {
        "id": "nUSETomD-iIY"
      },
      "outputs": [],
      "source": [
        "citation = \"2022 scc 5\"\n",
        "\n",
        "def get_citation_year(x):\n",
        "    year = x[0:4]\n",
        "    year = int(year)\n",
        "    return year\n",
        "\n",
        "get_citation_year(\"2021 scc 17\")\n",
        "\n"
      ]
    },
    {
      "cell_type": "code",
      "execution_count": null,
      "metadata": {
        "id": "BzjnULwQ-iIY"
      },
      "outputs": [],
      "source": [
        "citations = [\n",
        "    \"2023 scc 17\",\n",
        "    \"2021 scc 3\",\n",
        "    \"2017 scc 4\"\n",
        "]\n",
        "\n",
        "for y in citations:\n",
        "    print(get_citation_year(y))"
      ]
    },
    {
      "cell_type": "code",
      "execution_count": null,
      "metadata": {
        "id": "rtYifKhz-iIY"
      },
      "outputs": [],
      "source": [
        "def get_citation_year(x):\n",
        "    year = int(x[0:4])\n",
        "    return year\n",
        "\n",
        "for y in citations:\n",
        "    print(get_citation_year(y))\n"
      ]
    },
    {
      "cell_type": "code",
      "execution_count": null,
      "metadata": {
        "id": "0Sef4J5p-iIZ"
      },
      "outputs": [],
      "source": [
        "def get_citation_year(x):\n",
        "    return int(x[0:4])\n",
        "\n",
        "for y in citations:\n",
        "    print(get_citation_year(y))\n"
      ]
    },
    {
      "cell_type": "code",
      "execution_count": null,
      "metadata": {
        "id": "aSXS_MMX-iIZ"
      },
      "outputs": [],
      "source": [
        "citation = \"2022 scc 5\"\n",
        "citation = citation.upper()\n",
        "citation\n"
      ]
    },
    {
      "cell_type": "code",
      "execution_count": null,
      "metadata": {
        "id": "nA3EzQTC-iIZ"
      },
      "outputs": [],
      "source": [
        "citation = \"   2022 scc 5 \"\n",
        "citation = citation.upper()\n",
        "citation = citation.strip()\n",
        "citation = citation.replace(\"5\",\"9\")\n",
        "citation"
      ]
    },
    {
      "cell_type": "code",
      "execution_count": null,
      "metadata": {
        "id": "z9QsK-gG-iIZ"
      },
      "outputs": [],
      "source": [
        "citation = \"   2022 scc 5 \"\n",
        "citation = citation.upper().strip().replace(\"5\",\"9\")\n",
        "citation"
      ]
    },
    {
      "cell_type": "markdown",
      "metadata": {
        "id": "RX3mwF48-iIZ"
      },
      "source": [
        "### Libraries / Packages"
      ]
    },
    {
      "cell_type": "code",
      "execution_count": null,
      "metadata": {
        "id": "-av3LL-k-iIZ"
      },
      "outputs": [],
      "source": [
        "def get_citation_year(x):\n",
        "    return int(x.upper().strip()[0:4])\n",
        "\n",
        "citation = \"   2022 scc 5 \"\n",
        "get_citation_year(citation)\n"
      ]
    },
    {
      "cell_type": "code",
      "execution_count": null,
      "metadata": {
        "id": "gRHJ_Z5D-iIa"
      },
      "outputs": [],
      "source": [
        "from utils import get_year\n",
        "\n",
        "get_year(\"1999 scc 53\")"
      ]
    },
    {
      "cell_type": "code",
      "execution_count": null,
      "metadata": {
        "id": "loehIptG-iIa"
      },
      "outputs": [],
      "source": [
        "import time\n",
        "\n",
        "print(\"Hello\")\n",
        "time.sleep(5)\n",
        "print(\"World!\")"
      ]
    },
    {
      "cell_type": "code",
      "execution_count": null,
      "metadata": {
        "id": "77l47dYI-iIa"
      },
      "outputs": [],
      "source": [
        "import time as asdf\n",
        "\n",
        "print(\"Hello\")\n",
        "asdf.sleep(5)\n",
        "print(\"World!\")"
      ]
    },
    {
      "cell_type": "code",
      "execution_count": null,
      "metadata": {
        "id": "WBNXpwKV-iIa"
      },
      "outputs": [],
      "source": [
        "!pip install pandas\n"
      ]
    },
    {
      "cell_type": "code",
      "execution_count": null,
      "metadata": {
        "id": "tWyaCdxk-iIa"
      },
      "outputs": [],
      "source": [
        "import pandas as pd"
      ]
    },
    {
      "cell_type": "markdown",
      "metadata": {
        "id": "rqjzY_h4-iIa"
      },
      "source": [
        "### Input / Output: Text files"
      ]
    },
    {
      "cell_type": "code",
      "execution_count": null,
      "metadata": {
        "id": "zakSm2RY-iIa"
      },
      "outputs": [],
      "source": [
        "data = \"2022 TCC 1\"\n",
        "\n",
        "f = open(\"citation.txt\", \"w\")\n",
        "f.write(data)\n",
        "f.close()\n",
        "\n"
      ]
    },
    {
      "cell_type": "code",
      "execution_count": null,
      "metadata": {
        "id": "GiF_ePiF-iIa"
      },
      "outputs": [],
      "source": [
        "data = \"2015 CHRT 55\"\n",
        "\n",
        "with open(\"citation.txt\", \"w\") as f:\n",
        "    f.write(data)"
      ]
    },
    {
      "cell_type": "code",
      "execution_count": null,
      "metadata": {
        "id": "_L1EGcZR-iIa"
      },
      "outputs": [],
      "source": [
        "with open(\"data.txt\", \"r\") as f:\n",
        "    print(f.read())\n",
        "\n"
      ]
    },
    {
      "cell_type": "markdown",
      "metadata": {
        "id": "dm38tYdi-iIa"
      },
      "source": [
        "### Input / Output: Word Documents"
      ]
    },
    {
      "cell_type": "code",
      "execution_count": null,
      "metadata": {
        "id": "Hu9fdASx-iIa"
      },
      "outputs": [],
      "source": [
        "!pip install python-docx"
      ]
    },
    {
      "cell_type": "code",
      "execution_count": null,
      "metadata": {
        "id": "Hn_KfvSa-iIa"
      },
      "outputs": [],
      "source": [
        "from docx import Document\n",
        "\n",
        "doc = Document(\"SCC-case.docx\")\n",
        "\n",
        "doc\n"
      ]
    },
    {
      "cell_type": "code",
      "execution_count": null,
      "metadata": {
        "id": "bpfYTPOF-iIb"
      },
      "outputs": [],
      "source": [
        "doc.paragraphs"
      ]
    },
    {
      "cell_type": "code",
      "execution_count": null,
      "metadata": {
        "id": "tp1jJjZ4-iIb"
      },
      "outputs": [],
      "source": [
        "doc.paragraphs[0].text"
      ]
    },
    {
      "cell_type": "code",
      "execution_count": null,
      "metadata": {
        "id": "CP0Hn9YC-iIb"
      },
      "outputs": [],
      "source": [
        "for para in doc.paragraphs:\n",
        "    print(para.text)"
      ]
    },
    {
      "cell_type": "code",
      "execution_count": null,
      "metadata": {
        "id": "B0BQPfc6-iIb"
      },
      "outputs": [],
      "source": [
        "doc2 = Document()\n",
        "\n",
        "doc2.add_paragraph(\"Hello World!\")\n",
        "\n",
        "doc2.save(\"hello.docx\")"
      ]
    },
    {
      "cell_type": "markdown",
      "metadata": {
        "id": "kTIKvm-l-iIb"
      },
      "source": [
        "### Requests & JSON: FreeLaw\n",
        "\n",
        "https://free.law/\n",
        "\n",
        "and\n",
        "\n",
        "https://www.courtlistener.com/help/api/\n"
      ]
    },
    {
      "cell_type": "code",
      "execution_count": null,
      "metadata": {
        "id": "MBWXzvHf-iIb"
      },
      "outputs": [],
      "source": [
        "!pip install requests"
      ]
    },
    {
      "cell_type": "code",
      "execution_count": null,
      "metadata": {
        "id": "Aa8NGaXV-iIb"
      },
      "outputs": [],
      "source": [
        "import requests\n",
        "\n",
        "url = \"https://www.courtlistener.com/api/rest/v4/opinions/9906867/?format=json\"\n",
        "\n",
        "r = requests.get(url).json()\n",
        "\n",
        "r"
      ]
    },
    {
      "cell_type": "code",
      "execution_count": null,
      "metadata": {
        "id": "GAbZ-jgb-iIb"
      },
      "outputs": [],
      "source": [
        "print(r[\"plain_text\"])"
      ]
    },
    {
      "cell_type": "markdown",
      "metadata": {
        "id": "VZhznb6G-iIb"
      },
      "source": [
        "### CanLII & Obiter.ai\n",
        "\n",
        "https://github.com/canlii/API_documentation\n",
        "\n",
        "http://obiter.ai/install.html\n",
        "\n",
        "NOTE: Requires CanLII API Key. To get an API key, request one using CanLII's feedback form (tell them you're a law student enrolled in the course, and maybe they will expedite):\n",
        "\n",
        "https://www.canlii.org/en/feedback/feedback.html"
      ]
    },
    {
      "cell_type": "code",
      "execution_count": null,
      "metadata": {
        "id": "ntys3fzQ-iIb"
      },
      "outputs": [],
      "source": [
        "# set API key & language\n",
        "APIkey = os.getenv('CANLII')\n",
        "language = 'en' # or 'fr'\n",
        "\n",
        "from obiter.canlii_api import *\n",
        "\n",
        "# set up the caller\n",
        "api_caller = canlii_api(APIkey, language)"
      ]
    },
    {
      "cell_type": "code",
      "execution_count": null,
      "metadata": {
        "id": "xIMUF4g1-iIb"
      },
      "outputs": [],
      "source": [
        "databaseId = 'csc-scc'\n",
        "caseId = '2022scc29'\n",
        "api_caller.internal_cites(databaseId=databaseId, caseId=caseId)"
      ]
    },
    {
      "cell_type": "markdown",
      "metadata": {
        "id": "PQiSoIie-iIb"
      },
      "source": [
        "### Interlude: A Quick Intro to Pandas"
      ]
    },
    {
      "cell_type": "code",
      "execution_count": null,
      "metadata": {
        "id": "0xs18859-iIb"
      },
      "outputs": [],
      "source": [
        "citations = [\n",
        "   {\"case_name\": \"Canada (Minister of Citizenship and Immigration) v Vavilov\", \"neutral_citation\": \"2019 SCC 65\"},\n",
        "   {\"case_name\": \"Canadian Council for Refugees v. Canada (Citizenship and Immigration)\", \"neutral_citation\": \"2023 SCC 17\"},\n",
        "   {\"case_name\": \"York University v. Canadian Copyright Licensing Agency\",\"neutral_citation\": \"2021 SCC 32\"},\n",
        "   {\"case_name\": \"Association of Justice Counsel v. Canada (Attorney General)\",\"neutral_citation\": \"2017 SCC 55\"},\n",
        "   {\"case_name\": \"Canada Post Corp. v. Canadian Union of Postal Workers\",\"neutral_citation\": \"2019 SCC 67\"},\n",
        "]"
      ]
    },
    {
      "cell_type": "code",
      "execution_count": null,
      "metadata": {
        "id": "mjvrMu35-iIb"
      },
      "outputs": [],
      "source": [
        "for citation in citations:\n",
        "    citation[\"year\"]= citation[\"neutral_citation\"][0:4]"
      ]
    },
    {
      "cell_type": "code",
      "execution_count": null,
      "metadata": {
        "id": "EXoj_0Wy-iIe"
      },
      "outputs": [],
      "source": [
        "citations"
      ]
    },
    {
      "cell_type": "code",
      "execution_count": null,
      "metadata": {
        "id": "3Sy0KKOb-iIe"
      },
      "outputs": [],
      "source": [
        "import pandas as pd\n",
        "\n",
        "df = pd.DataFrame(citations)\n",
        "\n",
        "df"
      ]
    },
    {
      "cell_type": "code",
      "execution_count": null,
      "metadata": {
        "id": "OS5V-WVc-iIe"
      },
      "outputs": [],
      "source": [
        "len(df)"
      ]
    },
    {
      "cell_type": "code",
      "execution_count": null,
      "metadata": {
        "id": "yes4sN1y-iIe"
      },
      "outputs": [],
      "source": [
        "df[\"case_name\"]"
      ]
    },
    {
      "cell_type": "code",
      "execution_count": null,
      "metadata": {
        "id": "cGDdFzWv-iIe"
      },
      "outputs": [],
      "source": [
        "df[\"year\"] = df[\"neutral_citation\"].str[0:4]\n",
        "df"
      ]
    },
    {
      "cell_type": "code",
      "execution_count": null,
      "metadata": {
        "id": "F2C73mtf-iIe"
      },
      "outputs": [],
      "source": [
        "table_year = df[df[\"year\"] == \"2019\"]\n",
        "table_year"
      ]
    },
    {
      "cell_type": "markdown",
      "metadata": {
        "id": "A7MLrOUS-iIe"
      },
      "source": [
        "### Bulk Canadian Legal Data\n",
        "\n",
        "https://refugeelab.ca/\n",
        "\n",
        "https://huggingface.co/datasets/refugee-law-lab/canadian-legal-data"
      ]
    },
    {
      "cell_type": "code",
      "execution_count": null,
      "metadata": {
        "id": "MaWULVUy-iIe"
      },
      "outputs": [],
      "source": [
        "!pip install datasets"
      ]
    },
    {
      "cell_type": "code",
      "execution_count": null,
      "metadata": {
        "id": "TOoMTIoe-iIe"
      },
      "outputs": [],
      "source": [
        "from datasets import load_dataset\n",
        "dataset = load_dataset(\"refugee-law-lab/canadian-legal-data\", split=\"train\", data_dir=\"SCC\")"
      ]
    },
    {
      "cell_type": "code",
      "execution_count": null,
      "metadata": {
        "id": "hX_QeKUD-iIe"
      },
      "outputs": [],
      "source": [
        "import pandas as pd\n",
        "\n",
        "df = pd.DataFrame(dataset)\n",
        "df"
      ]
    },
    {
      "cell_type": "code",
      "execution_count": null,
      "metadata": {
        "id": "cmEa3HE_-iIe"
      },
      "outputs": [],
      "source": [
        "# filter df for language = en\n",
        "df = df[df[\"language\"] == \"en\"]\n",
        "\n"
      ]
    },
    {
      "cell_type": "code",
      "execution_count": null,
      "metadata": {
        "id": "Y6xjlshV-iIe"
      },
      "outputs": [],
      "source": [
        "# print the unofficial_text column from the last row of the df\n",
        "print(df[\"unofficial_text\"].iloc[-1])"
      ]
    },
    {
      "cell_type": "markdown",
      "metadata": {
        "id": "ZR0q9_Zw-iIe"
      },
      "source": [
        "### Reading and Writing JSON files in Pandas"
      ]
    },
    {
      "cell_type": "code",
      "execution_count": null,
      "metadata": {
        "id": "g4WXbzgq-iIf"
      },
      "outputs": [],
      "source": [
        "import pandas as pd\n",
        "url = \"https://decisions.scc-csc.ca/scc-csc/scc-csc/en/json/rss.do\"\n",
        "\n",
        "df = pd.read_json(url)\n",
        "df"
      ]
    },
    {
      "cell_type": "code",
      "execution_count": null,
      "metadata": {
        "id": "CFgjjvEM-iIf"
      },
      "outputs": [],
      "source": [
        "# print df[\"items\"] for the first row\n",
        "df[\"items\"].iloc[0]\n"
      ]
    },
    {
      "cell_type": "code",
      "execution_count": null,
      "metadata": {
        "id": "JF0sQhvc-iIf"
      },
      "outputs": [],
      "source": [
        "df"
      ]
    },
    {
      "cell_type": "code",
      "execution_count": null,
      "metadata": {
        "id": "FRzpeFwL-iIf"
      },
      "outputs": [],
      "source": [
        "# save df to json with indent\n",
        "df.to_json(\"scc.json\", indent=4)\n"
      ]
    },
    {
      "cell_type": "markdown",
      "metadata": {
        "id": "d3ElvRlU-iIf"
      },
      "source": [
        "### Reading and Writing Excel Files in Pandas\n",
        "\n",
        "https://supremecourtdatabase.com/"
      ]
    },
    {
      "cell_type": "code",
      "execution_count": null,
      "metadata": {
        "id": "ApZzS4Yi-iIf"
      },
      "outputs": [],
      "source": [
        "import pandas as pd\n",
        "url = \"https://litigate.com/assets/uploads/20230823-140809-6601-SCC-Database-v-2023.01.xlsx\"\n",
        "df = pd.read_excel(url)\n",
        "df"
      ]
    },
    {
      "cell_type": "code",
      "execution_count": null,
      "metadata": {
        "id": "7P9WzeXA-iIf"
      },
      "outputs": [],
      "source": [
        "!pip install openpyxl"
      ]
    },
    {
      "cell_type": "code",
      "execution_count": null,
      "metadata": {
        "id": "jSp_YOVX-iIf"
      },
      "outputs": [],
      "source": [
        "url = \"https://litigate.com/assets/uploads/20230823-140809-6601-SCC-Database-v-2023.01.xlsx\"\n",
        "df = pd.read_excel(url)\n",
        "df"
      ]
    },
    {
      "cell_type": "code",
      "execution_count": null,
      "metadata": {
        "id": "xDfyv9W6-iIf"
      },
      "outputs": [],
      "source": [
        "df = pd.read_excel(\"scc-database.xlsx\")\n",
        "df"
      ]
    },
    {
      "cell_type": "code",
      "execution_count": null,
      "metadata": {
        "id": "hRj7HaB0-iIf"
      },
      "outputs": [],
      "source": [
        "# print the unique values of adminAgency\n",
        "\n",
        "df[\"adminAgency\"].unique()\n",
        "\n"
      ]
    },
    {
      "cell_type": "code",
      "execution_count": null,
      "metadata": {
        "id": "6U-uUl7F-iIf"
      },
      "outputs": [],
      "source": [
        "# print value counts of adminAgency\n",
        "df[\"adminAgency\"].value_counts().head(20)"
      ]
    },
    {
      "cell_type": "code",
      "execution_count": null,
      "metadata": {
        "id": "hpgMDqvm-iIf"
      },
      "outputs": [],
      "source": [
        "admin = df[\"adminAgency\"].value_counts().head(20)\n",
        "admin"
      ]
    },
    {
      "cell_type": "code",
      "execution_count": null,
      "metadata": {
        "id": "9-I1LKm--iIf"
      },
      "outputs": [],
      "source": [
        "# export admin to excel\n",
        "admin.to_excel(\"admin.xlsx\")"
      ]
    },
    {
      "cell_type": "code",
      "execution_count": null,
      "metadata": {
        "id": "X8ZSzI-q-iIf"
      },
      "outputs": [],
      "source": [
        "df"
      ]
    },
    {
      "cell_type": "code",
      "execution_count": null,
      "metadata": {
        "id": "1baKX1on-iIf"
      },
      "outputs": [],
      "source": [
        "# export df to json with indent\n",
        "df.to_json(\"scc.json\", indent=4)"
      ]
    },
    {
      "cell_type": "code",
      "execution_count": null,
      "metadata": {
        "id": "CmfKnp93-iIf"
      },
      "outputs": [],
      "source": [
        "# export df to csv\n",
        "df.to_csv(\"scc.csv\")"
      ]
    }
  ],
  "metadata": {
    "kernelspec": {
      "display_name": "venv",
      "language": "python",
      "name": "python3"
    },
    "language_info": {
      "codemirror_mode": {
        "name": "ipython",
        "version": 3
      },
      "file_extension": ".py",
      "mimetype": "text/x-python",
      "name": "python",
      "nbconvert_exporter": "python",
      "pygments_lexer": "ipython3",
      "version": "3.11.4"
    },
    "colab": {
      "provenance": [],
      "include_colab_link": true
    }
  },
  "nbformat": 4,
  "nbformat_minor": 0
}