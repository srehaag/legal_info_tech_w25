{
  "cells": [
    {
      "cell_type": "markdown",
      "metadata": {
        "id": "view-in-github",
        "colab_type": "text"
      },
      "source": [
        "<a href=\"https://colab.research.google.com/github/srehaag/legal_info_tech_w25/blob/main/Solutions_Module3_Assignment_w25.ipynb\" target=\"_parent\"><img src=\"https://colab.research.google.com/assets/colab-badge.svg\" alt=\"Open In Colab\"/></a>"
      ]
    },
    {
      "cell_type": "markdown",
      "metadata": {
        "id": "BqEVxvSlFfL9"
      },
      "source": [
        "\n",
        "# Module 3: Assignment Solutions\n",
        "\n",
        "There isn't usually just one way to solve a coding problem. This notebook offers some examples of how you might approach the assignment questions -- but these are not the only possible approaches.\n",
        "\n",
        "Recall that modules are graded as a compoent of particiaption grades on a fail, pass, high pass basis. Students receive a high pass if they make a meaningful effort to complete the module. Pass grades are where students mostly complete the assignment but should have put more effort into the assignment. And fail is where the assignment is not mostly complete and insufficient effort was put into the assignment.\n",
        "\n",
        "If you would like further feedback on your completed assignment, including invidivualized feedback on your coding, please drop in during the \"Study with me\" sessions, or reach out by email."
      ]
    },
    {
      "cell_type": "markdown",
      "metadata": {
        "id": "7q-hQ4EDFfL-"
      },
      "source": [
        "### Beginner Question 1:\n",
        "\n",
        "Using the [FCA dataset](https://huggingface.co/datasets/refugee-law-lab/canadian-legal-data) from the Refugee Law Lab, print the names of the five most recent Federal Court of Appeal cases in the dataset."
      ]
    },
    {
      "cell_type": "code",
      "execution_count": 17,
      "metadata": {
        "id": "b-Su9mAwFfL-",
        "colab": {
          "base_uri": "https://localhost:8080/",
          "height": 240
        },
        "outputId": "ab933c79-55e4-42db-851a-26d1847d05bd"
      },
      "outputs": [
        {
          "output_type": "execute_result",
          "data": {
            "text/plain": [
              "7329      Amazon.com.ca ULC v. Canada (Attorney General)\n",
              "7328           Sodecia Canada Investments Inc. v. Canada\n",
              "7327                     Hu v. Canada (Attorney General)\n",
              "7326                          Giffen v. TM Mobility Inc.\n",
              "7325    Steelhead LNG (ASLNG) Ltd. v. ARC Resources Ltd.\n",
              "Name: name, dtype: object"
            ],
            "text/html": [
              "<div>\n",
              "<style scoped>\n",
              "    .dataframe tbody tr th:only-of-type {\n",
              "        vertical-align: middle;\n",
              "    }\n",
              "\n",
              "    .dataframe tbody tr th {\n",
              "        vertical-align: top;\n",
              "    }\n",
              "\n",
              "    .dataframe thead th {\n",
              "        text-align: right;\n",
              "    }\n",
              "</style>\n",
              "<table border=\"1\" class=\"dataframe\">\n",
              "  <thead>\n",
              "    <tr style=\"text-align: right;\">\n",
              "      <th></th>\n",
              "      <th>name</th>\n",
              "    </tr>\n",
              "  </thead>\n",
              "  <tbody>\n",
              "    <tr>\n",
              "      <th>7329</th>\n",
              "      <td>Amazon.com.ca ULC v. Canada (Attorney General)</td>\n",
              "    </tr>\n",
              "    <tr>\n",
              "      <th>7328</th>\n",
              "      <td>Sodecia Canada Investments Inc. v. Canada</td>\n",
              "    </tr>\n",
              "    <tr>\n",
              "      <th>7327</th>\n",
              "      <td>Hu v. Canada (Attorney General)</td>\n",
              "    </tr>\n",
              "    <tr>\n",
              "      <th>7326</th>\n",
              "      <td>Giffen v. TM Mobility Inc.</td>\n",
              "    </tr>\n",
              "    <tr>\n",
              "      <th>7325</th>\n",
              "      <td>Steelhead LNG (ASLNG) Ltd. v. ARC Resources Ltd.</td>\n",
              "    </tr>\n",
              "  </tbody>\n",
              "</table>\n",
              "</div><br><label><b>dtype:</b> object</label>"
            ]
          },
          "metadata": {},
          "execution_count": 17
        }
      ],
      "source": [
        "#!pip install datasets\n",
        "\n",
        "# load dataset\n",
        "from datasets import load_dataset\n",
        "dataset = load_dataset(\"refugee-law-lab/canadian-legal-data\", split=\"train\", data_dir=\"FCA\")\n",
        "\n",
        "# convert to dataframe\n",
        "import pandas as pd\n",
        "df = pd.DataFrame(dataset)\n",
        "\n",
        "# print df.name for five most recent document_date\n",
        "df.sort_values(by='document_date', ascending=False).head(5)['name']"
      ]
    },
    {
      "cell_type": "markdown",
      "metadata": {
        "id": "llmlqEnzFfL-"
      },
      "source": [
        "### Beginner Question 2:\n",
        "\n",
        "Using the [FCA dataset](https://huggingface.co/datasets/refugee-law-lab/canadian-legal-data) from the Refugee Law Lab, make a line chart with the average number FCA decisions per year over the past 10 years."
      ]
    },
    {
      "cell_type": "code",
      "execution_count": 18,
      "metadata": {
        "id": "1f5p5PadFfL-",
        "colab": {
          "base_uri": "https://localhost:8080/",
          "height": 476
        },
        "outputId": "2d0c1efa-1349-4b08-ca25-4f996fd468b7"
      },
      "outputs": [
        {
          "output_type": "execute_result",
          "data": {
            "text/plain": [
              "<Axes: xlabel='year'>"
            ]
          },
          "metadata": {},
          "execution_count": 18
        },
        {
          "output_type": "display_data",
          "data": {
            "text/plain": [
              "<Figure size 640x480 with 1 Axes>"
            ],
            "image/png": "[encoded data removed]"
          },
          "metadata": {}
        }
      ],
      "source": [
        "# load dataset\n",
        "from datasets import load_dataset\n",
        "dataset = load_dataset(\"refugee-law-lab/canadian-legal-data\", split=\"train\", data_dir=\"FCA\")\n",
        "\n",
        "# convert to dataframe\n",
        "import pandas as pd\n",
        "df = pd.DataFrame(dataset)\n",
        "\n",
        "# filter df to include only those list(range(2015, 2025)) in df.year\n",
        "df = df[df['year'].isin(range(2015, 2025))].reset_index(drop=True)\n",
        "\n",
        "# line chart for number of decisions for each df.year\n",
        "df.groupby('year').size().plot()\n",
        "\n",
        "# NOTE: Depending on how you interpret the question, you could choose to filter\n",
        "# for just one language to avoid double counting translated decisions:\n",
        "df = df[df['language'] == 'en']\n",
        "df.groupby('year').size().plot()\n",
        "\n"
      ]
    },
    {
      "cell_type": "code",
      "source": [
        "# alternative approach using matplotlib\n",
        "# credit to Stephanie Young\n",
        "\n",
        "#!pip install datasets\n",
        "\n",
        "# load dataset\n",
        "from datasets import load_dataset\n",
        "dataset = load_dataset(\"refugee-law-lab/canadian-legal-data\", split=\"train\", data_dir=\"FCA\")\n",
        "\n",
        "# convert to dataframe\n",
        "import pandas as pd\n",
        "df = pd.DataFrame(dataset)\n",
        "\n",
        "# create chart\n",
        "import matplotlib.pyplot as plt\n",
        "\n",
        "decisions_per_year = df.groupby('year').size()\n",
        "last_10_years = decisions_per_year[-10:]\n",
        "print(last_10_years)\n",
        "\n",
        "plt.figure(figsize=(8, 5))\n",
        "plt.plot(last_10_years.index, last_10_years.values, marker='o', linestyle='-', color='blue')\n",
        "plt.xlabel(\"Year\")\n",
        "plt.ylabel(\"Number of Decisions\")\n",
        "plt.title(\"Number of FCA Decisions Per Year\")\n",
        "plt.grid(True)\n",
        "plt.tight_layout()\n",
        "plt.show()"
      ],
      "metadata": {
        "colab": {
          "base_uri": "https://localhost:8080/",
          "height": 716
        },
        "id": "muoACAM1y4Cx",
        "outputId": "316d515a-e948-40be-c481-e82879458ad2"
      },
      "execution_count": 19,
      "outputs": [
        {
          "output_type": "stream",
          "name": "stdout",
          "text": [
            "year\n",
            "2015    483\n",
            "2016    559\n",
            "2017    456\n",
            "2018    387\n",
            "2019    496\n",
            "2020    371\n",
            "2021    438\n",
            "2022    403\n",
            "2023    379\n",
            "2024    232\n",
            "dtype: int64\n"
          ]
        },
        {
          "output_type": "display_data",
          "data": {
            "text/plain": [
              "<Figure size 800x500 with 1 Axes>"
            ],
            "image/png": "[encoded data removed]"
          },
          "metadata": {}
        }
      ]
    },
    {
      "cell_type": "markdown",
      "metadata": {
        "id": "FQtAN8CmFfL_"
      },
      "source": [
        "### Beginner Question 3:\n",
        "\n",
        "Using the Refugee Law Lab's [Canadian Legal Data](https://huggingface.co/datasets/refugee-law-lab/canadian-legal-data) dataset, pick two courts/tribunals, and create line charts for the number of words per decision per year for the past ten years for each of the two courts/tribunals. What is the most interesting change over this time that you observe?\n"
      ]
    },
    {
      "cell_type": "code",
      "execution_count": 20,
      "metadata": {
        "id": "dt-xS4VkFfL-",
        "colab": {
          "base_uri": "https://localhost:8080/",
          "height": 476
        },
        "outputId": "bf4ac77a-89fe-4b04-d912-cd3b749d1e82"
      },
      "outputs": [
        {
          "output_type": "execute_result",
          "data": {
            "text/plain": [
              "<Axes: xlabel='year'>"
            ]
          },
          "metadata": {},
          "execution_count": 20
        },
        {
          "output_type": "display_data",
          "data": {
            "text/plain": [
              "<Figure size 640x480 with 1 Axes>"
            ],
            "image/png": "[encoded data removed]"
          },
          "metadata": {}
        }
      ],
      "source": [
        "# Tried Supreme Court of Canada\n",
        "\n",
        "# load dataset\n",
        "from datasets import load_dataset\n",
        "dataset = load_dataset(\"refugee-law-lab/canadian-legal-data\", split=\"train\", data_dir=\"SCC\")\n",
        "\n",
        "# convert to dataframe\n",
        "import pandas as pd\n",
        "df = pd.DataFrame(dataset)\n",
        "\n",
        "# filter df to include only those list(range(2015, 2025)) in df.year\n",
        "df = df[df['year'].isin(range(2015, 2025))].reset_index(drop=True)\n",
        "\n",
        "# add df.word_count with the number of words in df.unoffical_text\n",
        "df['word_count'] = df['unofficial_text'].apply(lambda x: len(x.split()))\n",
        "\n",
        "# line chart for average word_count per year\n",
        "df.groupby('year')['word_count'].mean().plot()"
      ]
    },
    {
      "cell_type": "code",
      "source": [
        "# Tried Tax Court of Canada\n",
        "\n",
        "# load dataset\n",
        "from datasets import load_dataset\n",
        "dataset = load_dataset(\"refugee-law-lab/canadian-legal-data\", split=\"train\", data_dir=\"TCC\")\n",
        "\n",
        "# convert to dataframe\n",
        "import pandas as pd\n",
        "df = pd.DataFrame(dataset)\n",
        "\n",
        "# filter df to include only those list(range(2015, 2025)) in df.year\n",
        "df = df[df['year'].isin(range(2015, 2025))].reset_index(drop=True)\n",
        "\n",
        "# add df.word_count with the number of words in df.unoffical_text\n",
        "df['word_count'] = df['unofficial_text'].apply(lambda x: len(x.split()))\n",
        "\n",
        "# line chart for average word_count per year\n",
        "df.groupby('year')['word_count'].mean().plot()"
      ],
      "metadata": {
        "colab": {
          "base_uri": "https://localhost:8080/",
          "height": 476
        },
        "id": "eMhALdhOxXeH",
        "outputId": "e171fea5-0535-4746-cf08-133c850b48bf"
      },
      "execution_count": 21,
      "outputs": [
        {
          "output_type": "execute_result",
          "data": {
            "text/plain": [
              "<Axes: xlabel='year'>"
            ]
          },
          "metadata": {},
          "execution_count": 21
        },
        {
          "output_type": "display_data",
          "data": {
            "text/plain": [
              "<Figure size 640x480 with 1 Axes>"
            ],
            "image/png": "[encoded data removed]"
          },
          "metadata": {}
        }
      ]
    },
    {
      "cell_type": "markdown",
      "source": [
        "### Observation\n",
        "\n",
        "SCC decisions are long! And they're getting longer.\n",
        "\n",
        "TCC decisons aren't as long, but they're also getting longer (although there seems to have been a bit of a dip recently)."
      ],
      "metadata": {
        "id": "IbHwj3uYxsBr"
      }
    },
    {
      "cell_type": "markdown",
      "metadata": {
        "id": "uUHV-t5IFfL_"
      },
      "source": [
        "### Intermediate Question 1:\n",
        "\n",
        "Using the [FC (Federal Court) dataset](https://huggingface.co/datasets/refugee-law-lab/canadian-legal-data) from the Refugee Law Lab, print the names of the ten Supreme Court cases that have most frequently been cited by the Federal Court over the past 10 years.\n",
        "\n",
        "Hint: neutral citations follow specific patterns (e.g. YYYY SCC #)."
      ]
    },
    {
      "cell_type": "code",
      "execution_count": 26,
      "metadata": {
        "id": "FlgCjVQHFfL_",
        "colab": {
          "base_uri": "https://localhost:8080/"
        },
        "outputId": "1688e23b-99bc-4c08-ccd1-ccb44aafcf5f"
      },
      "outputs": [
        {
          "output_type": "stream",
          "name": "stdout",
          "text": [
            "Canada (Minister of Citizenship and Immigration) v. Vavilov\n",
            "Dunsmuir v. New Brunswick\n",
            "Canada (Citizenship and Immigration) v. Khosa\n",
            "Newfoundland and Labrador Nurses' Union v. Newfoundland and Labrador (Treasury Board)\n",
            "Kanthasamy v. Canada (Citizenship and Immigration)\n",
            "Mission Institution v. Khela\n",
            "Canada Post Corp. v. Canadian Union of Postal Workers\n",
            "Agraira v. Canada (Public Safety and Emergency Preparedness)\n",
            "Alberta (Information and Privacy Commissioner) v. Alberta Teachers' Association\n",
            "Mason v. Canada (Citizenship and Immigration)\n"
          ]
        }
      ],
      "source": [
        "from datasets import load_dataset\n",
        "import pandas as pd\n",
        "\n",
        "# load fc dataset & filter for years 2015 to 2024 and english only\n",
        "dataset = load_dataset(\"refugee-law-lab/canadian-legal-data\", split=\"train\", data_dir=\"FC\")\n",
        "df_fc = pd.DataFrame(dataset)\n",
        "df_fc = df_fc[df_fc['year'].isin(range(2015, 2025))].reset_index(drop=True)\n",
        "df_fc = df_fc[df_fc['language'] == 'en'].reset_index(drop=True)\n",
        "\n",
        "# load scc dataset\n",
        "dataset = load_dataset(\"refugee-law-lab/canadian-legal-data\", split=\"train\", data_dir=\"SCC\")\n",
        "df_scc = pd.DataFrame(dataset)\n",
        "\n",
        "# get SCC citations\n",
        "import re\n",
        "from collections import Counter\n",
        "\n",
        "scc_pattern = r'\\b\\d{4} SCC \\d{1,3}\\b'\n",
        "\n",
        "citations = []\n",
        "for unofficial_text in df_fc['unofficial_text']:\n",
        "    matches = re.findall(scc_pattern, str(unofficial_text))\n",
        "    citations.extend(matches)\n",
        "\n",
        "# get 10 most common citations\n",
        "top_ten_citations = Counter(citations).most_common(10)\n",
        "\n",
        "# for each of the top_ten_citations, match [0] with df_scc.citation\n",
        "# and get df_scc.name\n",
        "for citation in top_ten_citations:\n",
        "    print(df_scc[df_scc['citation'] == citation[0]]['name'].values[0])\n",
        "\n"
      ]
    },
    {
      "cell_type": "code",
      "source": [
        "# Alternative approach: Credit to Saul Rosal\n",
        "\n",
        "from datasets import load_dataset\n",
        "import pandas as pd\n",
        "\n",
        "# load fc dataset & filter for years 2015 to 2024 and english only\n",
        "dataset = load_dataset(\"refugee-law-lab/canadian-legal-data\", split=\"train\", data_dir=\"FC\")\n",
        "df_fc = pd.DataFrame(dataset)\n",
        "df_fc = df_fc[df_fc['year'].isin(range(2015, 2025))].reset_index(drop=True)\n",
        "df_fc = df_fc[df_fc['language'] == 'en'].reset_index(drop=True)\n",
        "\n",
        "# in df_fc[unoffical_text] find phrases that include 'YYYY SCC #' and count the most common 10 phrases.\n",
        "dfCit = df_fc['unofficial_text'].str.extractall(r'(\\d{4} SCC \\d+)')[0].value_counts().head(10)\n",
        "\n",
        "# load scc dataset\n",
        "dataset = load_dataset(\"refugee-law-lab/canadian-legal-data\", split=\"train\", data_dir=\"SCC\")\n",
        "df_scc = pd.DataFrame(dataset)\n",
        "\n",
        "# for citations in dfCit, find the coreesponding rows in dfSCC[citation], and print the row's coresponding dfSCC['name']\n",
        "for citation in dfCit.index:\n",
        "    print(df_scc[df_scc['citation'] == citation]['name'].values[0])"
      ],
      "metadata": {
        "colab": {
          "base_uri": "https://localhost:8080/"
        },
        "id": "UaXJzOJwqilQ",
        "outputId": "caac93fd-3ecc-4ff7-c26d-8759c8d8f939"
      },
      "execution_count": 25,
      "outputs": [
        {
          "output_type": "stream",
          "name": "stdout",
          "text": [
            "Canada (Minister of Citizenship and Immigration) v. Vavilov\n",
            "Dunsmuir v. New Brunswick\n",
            "Canada (Citizenship and Immigration) v. Khosa\n",
            "Newfoundland and Labrador Nurses' Union v. Newfoundland and Labrador (Treasury Board)\n",
            "Kanthasamy v. Canada (Citizenship and Immigration)\n",
            "Mission Institution v. Khela\n",
            "Canada Post Corp. v. Canadian Union of Postal Workers\n",
            "Agraira v. Canada (Public Safety and Emergency Preparedness)\n",
            "Alberta (Information and Privacy Commissioner) v. Alberta Teachers' Association\n",
            "Mason v. Canada (Citizenship and Immigration)\n"
          ]
        }
      ]
    },
    {
      "cell_type": "markdown",
      "metadata": {
        "id": "1y9HLNeIFfL-"
      },
      "source": [
        "### Intermediate Question 2:\n",
        "\n",
        "Load into a dataframe the excel data that reports tabular data about Supreme Court of Canada decisions discussed in the Module 2 videos available at this URL:\n",
        "\n",
        "    https://litigate.com/assets/uploads/20230823-140809-6601-SCC-Database-v-2023.01.xlsx\n",
        "\n",
        "For the meaning of the values of codes in the excel data, see the coding manual [here](https://litigate.com/assets/uploads/20220216-111705-4622-Lenczner-Slaght-Supreme-Court-of-Canada-Database-Coding-Manual-v-2022.01.pdf).\n",
        "\n",
        "Print a list the names of the 5 judges who wrote the largest number of majority opinions in the dataset, and then print a bar chart with their names and the number of majority opinions in the dataset that each of them wrote.\n",
        "\n",
        "Do you have any theories as to why these 5 judges in particular wrote the largest number of majority opinions?"
      ]
    },
    {
      "cell_type": "code",
      "execution_count": 23,
      "metadata": {
        "id": "BJS16OHiFfL_",
        "colab": {
          "base_uri": "https://localhost:8080/"
        },
        "outputId": "be3652fb-fe1a-48dc-bb13-0a6aa446ed29"
      },
      "outputs": [
        {
          "output_type": "stream",
          "name": "stdout",
          "text": [
            "majorityWriter\n",
            "67    373\n",
            "59    340\n",
            "45    323\n",
            "51    293\n",
            "47    272\n",
            "Name: count, dtype: int64\n",
            "['BMcLachlin']\n",
            "['ALamer']\n",
            "['RMartland']\n",
            "['BLaskin']\n",
            "['RARitchie']\n"
          ]
        }
      ],
      "source": [
        "import pandas as pd\n",
        "\n",
        "# load case df\n",
        "url = \"https://litigate.com/assets/uploads/20230823-140809-6601-SCC-Database-v-2023.01.xlsx\"\n",
        "df_case = pd.read_excel(url, sheet_name='Case')\n",
        "\n",
        "# remove rows where no majorityWriter\n",
        "df_case = df_case[df_case['majorityWriter']!=0].reset_index(drop=True)\n",
        "\n",
        "# get the five most common df_case.majorityWriter\n",
        "top_5_justices = df_case['majorityWriter'].value_counts().head(5)\n",
        "\n",
        "# print the five most common df_case.majorityWriter\n",
        "print(top_5_justices)\n",
        "\n",
        "# get name of judge that corresponds with id\n",
        "df_judges = pd.read_excel(url, sheet_name='JusticesPresent')\n",
        "df_judges = df_judges.drop_duplicates(subset=['justiceID'], keep='first')\n",
        "\n",
        "# for each judge in top_5_justices, get df_judges.justiceName that corresponds\n",
        "# with the justiceID in [0]\n",
        "for justice in top_5_justices.index:\n",
        "    print(df_judges[df_judges['justiceID'] == justice]['justiceName'].values)\n",
        "\n"
      ]
    },
    {
      "cell_type": "markdown",
      "metadata": {
        "id": "3MZOB8DMFfL_"
      },
      "source": [
        "### Advanced Question 1:\n",
        "\n",
        "Using the datasets for Intermediate Questions 1 and 2, print out the names of the 10 Supreme Court judges with the most citations by the Federal Court since 2010. For simplicity, assume that when a case is cited by the Federal Court, the Federal Court is citing the majority opinion."
      ]
    },
    {
      "cell_type": "code",
      "execution_count": 24,
      "metadata": {
        "id": "q-rAyN8TFfL_",
        "colab": {
          "base_uri": "https://localhost:8080/",
          "height": 578
        },
        "outputId": "10111615-f64a-4e05-8c00-0b5a01c38e46"
      },
      "outputs": [
        {
          "output_type": "stream",
          "name": "stdout",
          "text": [
            "majorityWriter\n",
            "71.0    6690\n",
            "82.0    5332\n",
            "72.0    5134\n",
            "77.0    4098\n",
            "67.0    3881\n",
            "74.0    2486\n",
            "79.0    1634\n",
            "69.0    1054\n",
            "87.0     802\n",
            "80.0     759\n",
            "Name: count, dtype: int64\n"
          ]
        },
        {
          "output_type": "execute_result",
          "data": {
            "text/plain": [
              "   majorityWriter  count   Judge Name\n",
              "0            71.0   6690  MBastarache\n",
              "1            82.0   5332   MJMoldaver\n",
              "2            72.0   5134    WICBinnie\n",
              "3            77.0   4098     RSAbella\n",
              "4            67.0   3881   BMcLachlin\n",
              "5            74.0   2486       LLeBel\n",
              "6            79.0   1634   MRothstein\n",
              "7            69.0   1054   FIacobucci\n",
              "8            87.0    802        MRowe\n",
              "9            80.0    759   TACromwell"
            ],
            "text/html": [
              "\n",
              "  <div id=\"df-454e1f39-1293-4895-9676-8d544925016f\" class=\"colab-df-container\">\n",
              "    <div>\n",
              "<style scoped>\n",
              "    .dataframe tbody tr th:only-of-type {\n",
              "        vertical-align: middle;\n",
              "    }\n",
              "\n",
              "    .dataframe tbody tr th {\n",
              "        vertical-align: top;\n",
              "    }\n",
              "\n",
              "    .dataframe thead th {\n",
              "        text-align: right;\n",
              "    }\n",
              "</style>\n",
              "<table border=\"1\" class=\"dataframe\">\n",
              "  <thead>\n",
              "    <tr style=\"text-align: right;\">\n",
              "      <th></th>\n",
              "      <th>majorityWriter</th>\n",
              "      <th>count</th>\n",
              "      <th>Judge Name</th>\n",
              "    </tr>\n",
              "  </thead>\n",
              "  <tbody>\n",
              "    <tr>\n",
              "      <th>0</th>\n",
              "      <td>71.0</td>\n",
              "      <td>6690</td>\n",
              "      <td>MBastarache</td>\n",
              "    </tr>\n",
              "    <tr>\n",
              "      <th>1</th>\n",
              "      <td>82.0</td>\n",
              "      <td>5332</td>\n",
              "      <td>MJMoldaver</td>\n",
              "    </tr>\n",
              "    <tr>\n",
              "      <th>2</th>\n",
              "      <td>72.0</td>\n",
              "      <td>5134</td>\n",
              "      <td>WICBinnie</td>\n",
              "    </tr>\n",
              "    <tr>\n",
              "      <th>3</th>\n",
              "      <td>77.0</td>\n",
              "      <td>4098</td>\n",
              "      <td>RSAbella</td>\n",
              "    </tr>\n",
              "    <tr>\n",
              "      <th>4</th>\n",
              "      <td>67.0</td>\n",
              "      <td>3881</td>\n",
              "      <td>BMcLachlin</td>\n",
              "    </tr>\n",
              "    <tr>\n",
              "      <th>5</th>\n",
              "      <td>74.0</td>\n",
              "      <td>2486</td>\n",
              "      <td>LLeBel</td>\n",
              "    </tr>\n",
              "    <tr>\n",
              "      <th>6</th>\n",
              "      <td>79.0</td>\n",
              "      <td>1634</td>\n",
              "      <td>MRothstein</td>\n",
              "    </tr>\n",
              "    <tr>\n",
              "      <th>7</th>\n",
              "      <td>69.0</td>\n",
              "      <td>1054</td>\n",
              "      <td>FIacobucci</td>\n",
              "    </tr>\n",
              "    <tr>\n",
              "      <th>8</th>\n",
              "      <td>87.0</td>\n",
              "      <td>802</td>\n",
              "      <td>MRowe</td>\n",
              "    </tr>\n",
              "    <tr>\n",
              "      <th>9</th>\n",
              "      <td>80.0</td>\n",
              "      <td>759</td>\n",
              "      <td>TACromwell</td>\n",
              "    </tr>\n",
              "  </tbody>\n",
              "</table>\n",
              "</div>\n",
              "    <div class=\"colab-df-buttons\">\n",
              "\n",
              "  <div class=\"colab-df-container\">\n",
              "    <button class=\"colab-df-convert\" onclick=\"convertToInteractive('df-454e1f39-1293-4895-9676-8d544925016f')\"\n",
              "            title=\"Convert this dataframe to an interactive table.\"\n",
              "            style=\"display:none;\">\n",
              "\n",
              "  <svg xmlns=\"http://www.w3.org/2000/svg\" height=\"24px\" viewBox=\"0 -960 960 960\">\n",
              "    <path d=\"M120-120v-720h720v720H120Zm60-500h600v-160H180v160Zm220 220h160v-160H400v160Zm0 220h160v-160H400v160ZM180-400h160v-160H180v160Zm440 0h160v-160H620v160ZM180-180h160v-160H180v160Zm440 0h160v-160H620v160Z\"/>\n",
              "  </svg>\n",
              "    </button>\n",
              "\n",
              "  <style>\n",
              "    .colab-df-container {\n",
              "      display:flex;\n",
              "      gap: 12px;\n",
              "    }\n",
              "\n",
              "    .colab-df-convert {\n",
              "      background-color: #E8F0FE;\n",
              "      border: none;\n",
              "      border-radius: 50%;\n",
              "      cursor: pointer;\n",
              "      display: none;\n",
              "      fill: #1967D2;\n",
              "      height: 32px;\n",
              "      padding: 0 0 0 0;\n",
              "      width: 32px;\n",
              "    }\n",
              "\n",
              "    .colab-df-convert:hover {\n",
              "      background-color: #E2EBFA;\n",
              "      box-shadow: 0px 1px 2px rgba(60, 64, 67, 0.3), 0px 1px 3px 1px rgba(60, 64, 67, 0.15);\n",
              "      fill: #174EA6;\n",
              "    }\n",
              "\n",
              "    .colab-df-buttons div {\n",
              "      margin-bottom: 4px;\n",
              "    }\n",
              "\n",
              "    [theme=dark] .colab-df-convert {\n",
              "      background-color: #3B4455;\n",
              "      fill: #D2E3FC;\n",
              "    }\n",
              "\n",
              "    [theme=dark] .colab-df-convert:hover {\n",
              "      background-color: #434B5C;\n",
              "      box-shadow: 0px 1px 3px 1px rgba(0, 0, 0, 0.15);\n",
              "      filter: drop-shadow(0px 1px 2px rgba(0, 0, 0, 0.3));\n",
              "      fill: #FFFFFF;\n",
              "    }\n",
              "  </style>\n",
              "\n",
              "    <script>\n",
              "      const buttonEl =\n",
              "        document.querySelector('#df-454e1f39-1293-4895-9676-8d544925016f button.colab-df-convert');\n",
              "      buttonEl.style.display =\n",
              "        google.colab.kernel.accessAllowed ? 'block' : 'none';\n",
              "\n",
              "      async function convertToInteractive(key) {\n",
              "        const element = document.querySelector('#df-454e1f39-1293-4895-9676-8d544925016f');\n",
              "        const dataTable =\n",
              "          await google.colab.kernel.invokeFunction('convertToInteractive',\n",
              "                                                    [key], {});\n",
              "        if (!dataTable) return;\n",
              "\n",
              "        const docLinkHtml = 'Like what you see? Visit the ' +\n",
              "          '<a target=\"_blank\" href=https://colab.research.google.com/notebooks/data_table.ipynb>data table notebook</a>'\n",
              "          + ' to learn more about interactive tables.';\n",
              "        element.innerHTML = '';\n",
              "        dataTable['output_type'] = 'display_data';\n",
              "        await google.colab.output.renderOutput(dataTable, element);\n",
              "        const docLink = document.createElement('div');\n",
              "        docLink.innerHTML = docLinkHtml;\n",
              "        element.appendChild(docLink);\n",
              "      }\n",
              "    </script>\n",
              "  </div>\n",
              "\n",
              "\n",
              "<div id=\"df-e1775977-a37e-49ab-bff9-09257d154fa9\">\n",
              "  <button class=\"colab-df-quickchart\" onclick=\"quickchart('df-e1775977-a37e-49ab-bff9-09257d154fa9')\"\n",
              "            title=\"Suggest charts\"\n",
              "            style=\"display:none;\">\n",
              "\n",
              "<svg xmlns=\"http://www.w3.org/2000/svg\" height=\"24px\"viewBox=\"0 0 24 24\"\n",
              "     width=\"24px\">\n",
              "    <g>\n",
              "        <path d=\"M19 3H5c-1.1 0-2 .9-2 2v14c0 1.1.9 2 2 2h14c1.1 0 2-.9 2-2V5c0-1.1-.9-2-2-2zM9 17H7v-7h2v7zm4 0h-2V7h2v10zm4 0h-2v-4h2v4z\"/>\n",
              "    </g>\n",
              "</svg>\n",
              "  </button>\n",
              "\n",
              "<style>\n",
              "  .colab-df-quickchart {\n",
              "      --bg-color: #E8F0FE;\n",
              "      --fill-color: #1967D2;\n",
              "      --hover-bg-color: #E2EBFA;\n",
              "      --hover-fill-color: #174EA6;\n",
              "      --disabled-fill-color: #AAA;\n",
              "      --disabled-bg-color: #DDD;\n",
              "  }\n",
              "\n",
              "  [theme=dark] .colab-df-quickchart {\n",
              "      --bg-color: #3B4455;\n",
              "      --fill-color: #D2E3FC;\n",
              "      --hover-bg-color: #434B5C;\n",
              "      --hover-fill-color: #FFFFFF;\n",
              "      --disabled-bg-color: #3B4455;\n",
              "      --disabled-fill-color: #666;\n",
              "  }\n",
              "\n",
              "  .colab-df-quickchart {\n",
              "    background-color: var(--bg-color);\n",
              "    border: none;\n",
              "    border-radius: 50%;\n",
              "    cursor: pointer;\n",
              "    display: none;\n",
              "    fill: var(--fill-color);\n",
              "    height: 32px;\n",
              "    padding: 0;\n",
              "    width: 32px;\n",
              "  }\n",
              "\n",
              "  .colab-df-quickchart:hover {\n",
              "    background-color: var(--hover-bg-color);\n",
              "    box-shadow: 0 1px 2px rgba(60, 64, 67, 0.3), 0 1px 3px 1px rgba(60, 64, 67, 0.15);\n",
              "    fill: var(--button-hover-fill-color);\n",
              "  }\n",
              "\n",
              "  .colab-df-quickchart-complete:disabled,\n",
              "  .colab-df-quickchart-complete:disabled:hover {\n",
              "    background-color: var(--disabled-bg-color);\n",
              "    fill: var(--disabled-fill-color);\n",
              "    box-shadow: none;\n",
              "  }\n",
              "\n",
              "  .colab-df-spinner {\n",
              "    border: 2px solid var(--fill-color);\n",
              "    border-color: transparent;\n",
              "    border-bottom-color: var(--fill-color);\n",
              "    animation:\n",
              "      spin 1s steps(1) infinite;\n",
              "  }\n",
              "\n",
              "  @keyframes spin {\n",
              "    0% {\n",
              "      border-color: transparent;\n",
              "      border-bottom-color: var(--fill-color);\n",
              "      border-left-color: var(--fill-color);\n",
              "    }\n",
              "    20% {\n",
              "      border-color: transparent;\n",
              "      border-left-color: var(--fill-color);\n",
              "      border-top-color: var(--fill-color);\n",
              "    }\n",
              "    30% {\n",
              "      border-color: transparent;\n",
              "      border-left-color: var(--fill-color);\n",
              "      border-top-color: var(--fill-color);\n",
              "      border-right-color: var(--fill-color);\n",
              "    }\n",
              "    40% {\n",
              "      border-color: transparent;\n",
              "      border-right-color: var(--fill-color);\n",
              "      border-top-color: var(--fill-color);\n",
              "    }\n",
              "    60% {\n",
              "      border-color: transparent;\n",
              "      border-right-color: var(--fill-color);\n",
              "    }\n",
              "    80% {\n",
              "      border-color: transparent;\n",
              "      border-right-color: var(--fill-color);\n",
              "      border-bottom-color: var(--fill-color);\n",
              "    }\n",
              "    90% {\n",
              "      border-color: transparent;\n",
              "      border-bottom-color: var(--fill-color);\n",
              "    }\n",
              "  }\n",
              "</style>\n",
              "\n",
              "  <script>\n",
              "    async function quickchart(key) {\n",
              "      const quickchartButtonEl =\n",
              "        document.querySelector('#' + key + ' button');\n",
              "      quickchartButtonEl.disabled = true;  // To prevent multiple clicks.\n",
              "      quickchartButtonEl.classList.add('colab-df-spinner');\n",
              "      try {\n",
              "        const charts = await google.colab.kernel.invokeFunction(\n",
              "            'suggestCharts', [key], {});\n",
              "      } catch (error) {\n",
              "        console.error('Error during call to suggestCharts:', error);\n",
              "      }\n",
              "      quickchartButtonEl.classList.remove('colab-df-spinner');\n",
              "      quickchartButtonEl.classList.add('colab-df-quickchart-complete');\n",
              "    }\n",
              "    (() => {\n",
              "      let quickchartButtonEl =\n",
              "        document.querySelector('#df-e1775977-a37e-49ab-bff9-09257d154fa9 button');\n",
              "      quickchartButtonEl.style.display =\n",
              "        google.colab.kernel.accessAllowed ? 'block' : 'none';\n",
              "    })();\n",
              "  </script>\n",
              "</div>\n",
              "\n",
              "  <div id=\"id_e6698657-0980-4198-b846-813c2280c293\">\n",
              "    <style>\n",
              "      .colab-df-generate {\n",
              "        background-color: #E8F0FE;\n",
              "        border: none;\n",
              "        border-radius: 50%;\n",
              "        cursor: pointer;\n",
              "        display: none;\n",
              "        fill: #1967D2;\n",
              "        height: 32px;\n",
              "        padding: 0 0 0 0;\n",
              "        width: 32px;\n",
              "      }\n",
              "\n",
              "      .colab-df-generate:hover {\n",
              "        background-color: #E2EBFA;\n",
              "        box-shadow: 0px 1px 2px rgba(60, 64, 67, 0.3), 0px 1px 3px 1px rgba(60, 64, 67, 0.15);\n",
              "        fill: #174EA6;\n",
              "      }\n",
              "\n",
              "      [theme=dark] .colab-df-generate {\n",
              "        background-color: #3B4455;\n",
              "        fill: #D2E3FC;\n",
              "      }\n",
              "\n",
              "      [theme=dark] .colab-df-generate:hover {\n",
              "        background-color: #434B5C;\n",
              "        box-shadow: 0px 1px 3px 1px rgba(0, 0, 0, 0.15);\n",
              "        filter: drop-shadow(0px 1px 2px rgba(0, 0, 0, 0.3));\n",
              "        fill: #FFFFFF;\n",
              "      }\n",
              "    </style>\n",
              "    <button class=\"colab-df-generate\" onclick=\"generateWithVariable('top_10_justices_df')\"\n",
              "            title=\"Generate code using this dataframe.\"\n",
              "            style=\"display:none;\">\n",
              "\n",
              "  <svg xmlns=\"http://www.w3.org/2000/svg\" height=\"24px\"viewBox=\"0 0 24 24\"\n",
              "       width=\"24px\">\n",
              "    <path d=\"M7,19H8.4L18.45,9,17,7.55,7,17.6ZM5,21V16.75L18.45,3.32a2,2,0,0,1,2.83,0l1.4,1.43a1.91,1.91,0,0,1,.58,1.4,1.91,1.91,0,0,1-.58,1.4L9.25,21ZM18.45,9,17,7.55Zm-12,3A5.31,5.31,0,0,0,4.9,8.1,5.31,5.31,0,0,0,1,6.5,5.31,5.31,0,0,0,4.9,4.9,5.31,5.31,0,0,0,6.5,1,5.31,5.31,0,0,0,8.1,4.9,5.31,5.31,0,0,0,12,6.5,5.46,5.46,0,0,0,6.5,12Z\"/>\n",
              "  </svg>\n",
              "    </button>\n",
              "    <script>\n",
              "      (() => {\n",
              "      const buttonEl =\n",
              "        document.querySelector('#id_e6698657-0980-4198-b846-813c2280c293 button.colab-df-generate');\n",
              "      buttonEl.style.display =\n",
              "        google.colab.kernel.accessAllowed ? 'block' : 'none';\n",
              "\n",
              "      buttonEl.onclick = () => {\n",
              "        google.colab.notebook.generateWithVariable('top_10_justices_df');\n",
              "      }\n",
              "      })();\n",
              "    </script>\n",
              "  </div>\n",
              "\n",
              "    </div>\n",
              "  </div>\n"
            ],
            "application/vnd.google.colaboratory.intrinsic+json": {
              "type": "dataframe",
              "variable_name": "top_10_justices_df",
              "summary": "{\n  \"name\": \"top_10_justices_df\",\n  \"rows\": 10,\n  \"fields\": [\n    {\n      \"column\": \"majorityWriter\",\n      \"properties\": {\n        \"dtype\": \"number\",\n        \"std\": 6.303438215238834,\n        \"min\": 67.0,\n        \"max\": 87.0,\n        \"num_unique_values\": 10,\n        \"samples\": [\n          87.0,\n          82.0,\n          74.0\n        ],\n        \"semantic_type\": \"\",\n        \"description\": \"\"\n      }\n    },\n    {\n      \"column\": \"count\",\n      \"properties\": {\n        \"dtype\": \"number\",\n        \"std\": 2134,\n        \"min\": 759,\n        \"max\": 6690,\n        \"num_unique_values\": 10,\n        \"samples\": [\n          802,\n          5332,\n          2486\n        ],\n        \"semantic_type\": \"\",\n        \"description\": \"\"\n      }\n    },\n    {\n      \"column\": \"Judge Name\",\n      \"properties\": {\n        \"dtype\": \"string\",\n        \"num_unique_values\": 10,\n        \"samples\": [\n          \"MRowe\",\n          \"MJMoldaver\",\n          \"LLeBel\"\n        ],\n        \"semantic_type\": \"\",\n        \"description\": \"\"\n      }\n    }\n  ]\n}"
            }
          },
          "metadata": {},
          "execution_count": 24
        }
      ],
      "source": [
        "from datasets import load_dataset\n",
        "import pandas as pd\n",
        "import re\n",
        "from collections import Counter\n",
        "\n",
        "# load fc dataset & filter for years 2010 to 2024, and english only\n",
        "dataset = load_dataset(\"refugee-law-lab/canadian-legal-data\", split=\"train\", data_dir=\"FC\")\n",
        "df_fc = pd.DataFrame(dataset)\n",
        "df_fc = df_fc[df_fc['year'].isin(range(2010, 2025))].reset_index(drop=True)\n",
        "df_fc = df_fc[df_fc['language'] == 'en']\n",
        "\n",
        "# get SCC citations\n",
        "scc_pattern = r'\\b\\d{4} SCC \\d{1,3}\\b'\n",
        "citations = []\n",
        "for unofficial_text in df_fc['unofficial_text']:\n",
        "    matches = re.findall(scc_pattern, str(unofficial_text))\n",
        "    citations.extend(matches)\n",
        "\n",
        "# create new df_citations\n",
        "df_citations = pd.DataFrame(citations, columns=['citation'])\n",
        "\n",
        "# load case df\n",
        "url = \"https://litigate.com/assets/uploads/20230823-140809-6601-SCC-Database-v-2023.01.xlsx\"\n",
        "df_case = pd.read_excel(url, sheet_name='Case')\n",
        "\n",
        "# where df_citations.citation matches df_case.neutralCitation, get the\n",
        "# df_case.majorityWriter and upt it in df_citations.majorityWriter\n",
        "df_citations = df_citations.merge(df_case[['neutralCitation', 'majorityWriter']],\n",
        "                                  left_on='citation',\n",
        "                                  right_on='neutralCitation',\n",
        "                                  how='left')\n",
        "df_citations.drop(columns=['neutralCitation'], inplace=True)\n",
        "\n",
        "# get 10 most common df_citations.majorityWriter\n",
        "top_10_justices = df_citations['majorityWriter'].value_counts().head(10)\n",
        "\n",
        "# print the 10 most common df_citations.majorityWriter\n",
        "print(top_10_justices)\n",
        "\n",
        "# get name of judge that corresponds with id\n",
        "df_judges = pd.read_excel(url, sheet_name='JusticesPresent')\n",
        "df_judges = df_judges.drop_duplicates(subset=['justiceID'], keep='first')\n",
        "\n",
        "# Convert top_10_justices index (majorityWriter) to a DataFrame for merging\n",
        "top_10_justices_df = top_10_justices.reset_index()\n",
        "top_10_justices_df.columns = ['majorityWriter', 'count']\n",
        "\n",
        "# Merge with df_judges to get judge names\n",
        "top_10_justices_df = top_10_justices_df.merge(df_judges[['justiceID', 'justiceName']],\n",
        "                                              left_on='majorityWriter',\n",
        "                                              right_on='justiceID',\n",
        "                                              how='left')\n",
        "\n",
        "# Drop the justiceID column since we only need the judge names\n",
        "top_10_justices_df.drop(columns=['justiceID'], inplace=True)\n",
        "\n",
        "# Rename columns for clarity\n",
        "top_10_justices_df.rename(columns={'justiceName': 'Judge Name'}, inplace=True)\n",
        "\n",
        "top_10_justices_df\n",
        "\n",
        "\n"
      ]
    }
  ],
  "metadata": {
    "kernelspec": {
      "display_name": "venv",
      "language": "python",
      "name": "python3"
    },
    "language_info": {
      "codemirror_mode": {
        "name": "ipython",
        "version": 3
      },
      "file_extension": ".py",
      "mimetype": "text/x-python",
      "name": "python",
      "nbconvert_exporter": "python",
      "pygments_lexer": "ipython3",
      "version": "3.11.4"
    },
    "colab": {
      "provenance": [],
      "include_colab_link": true
    }
  },
  "nbformat": 4,
  "nbformat_minor": 0
}